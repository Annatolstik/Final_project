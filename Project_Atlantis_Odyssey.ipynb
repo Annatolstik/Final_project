{
 "cells": [
  {
   "cell_type": "markdown",
   "id": "ad9c8bf6",
   "metadata": {
    "id": "ad9c8bf6"
   },
   "source": [
    "Tolstik_Anna"
   ]
  },
  {
   "cell_type": "code",
   "execution_count": 1,
   "id": "59cd3102",
   "metadata": {
    "id": "59cd3102"
   },
   "outputs": [],
   "source": [
    "#Достаю таблицы из базы данных , проверяю формат данных , где нужно - преобразовываю"
   ]
  },
  {
   "cell_type": "code",
   "execution_count": 1,
   "id": "c3017933",
   "metadata": {
    "id": "c3017933"
   },
   "outputs": [],
   "source": [
    "import sqlite3 as sl\n",
    "import pandas as pd\n",
    "import datetime\n",
    "import numpy as np\n",
    "import seaborn as sns\n",
    "from matplotlib import pyplot as plt"
   ]
  },
  {
   "cell_type": "code",
   "execution_count": 2,
   "id": "560864d3",
   "metadata": {
    "id": "560864d3"
   },
   "outputs": [],
   "source": [
    "con = sl.connect('test.db')"
   ]
  },
  {
   "cell_type": "code",
   "execution_count": 3,
   "id": "a64b7a22",
   "metadata": {
    "id": "a64b7a22"
   },
   "outputs": [],
   "source": [
    "conn=sl.connect('test.db')\n",
    "cursor = conn.cursor()\n",
    "cursor.execute(\"\"\" select*from sqlite_master where type = 'test.db' \"\"\")\n",
    "tables = cursor.fetchall()\n",
    " \n",
    "for table in tables:\n",
    "    print(table[1])"
   ]
  },
  {
   "cell_type": "code",
   "execution_count": 4,
   "id": "00722e7e",
   "metadata": {
    "id": "00722e7e"
   },
   "outputs": [],
   "source": [
    "level_up = pd.read_sql('''\n",
    "    SELECT*FROM level_up\n",
    "''', con)"
   ]
  },
  {
   "cell_type": "code",
   "execution_count": 5,
   "id": "f56b39d8",
   "metadata": {
    "colab": {
     "base_uri": "https://localhost:8080/",
     "height": 423
    },
    "id": "f56b39d8",
    "outputId": "fc3d2f53-9f85-478b-a586-0da698780bf7"
   },
   "outputs": [
    {
     "data": {
      "text/html": [
       "<div>\n",
       "<style scoped>\n",
       "    .dataframe tbody tr th:only-of-type {\n",
       "        vertical-align: middle;\n",
       "    }\n",
       "\n",
       "    .dataframe tbody tr th {\n",
       "        vertical-align: top;\n",
       "    }\n",
       "\n",
       "    .dataframe thead th {\n",
       "        text-align: right;\n",
       "    }\n",
       "</style>\n",
       "<table border=\"1\" class=\"dataframe\">\n",
       "  <thead>\n",
       "    <tr style=\"text-align: right;\">\n",
       "      <th></th>\n",
       "      <th>user_id</th>\n",
       "      <th>time</th>\n",
       "      <th>level</th>\n",
       "    </tr>\n",
       "  </thead>\n",
       "  <tbody>\n",
       "    <tr>\n",
       "      <th>0</th>\n",
       "      <td>380448720</td>\n",
       "      <td>2020-10-10 06:22:12.799003</td>\n",
       "      <td>2.0</td>\n",
       "    </tr>\n",
       "    <tr>\n",
       "      <th>1</th>\n",
       "      <td>380448720</td>\n",
       "      <td>2020-10-10 06:26:42.405003</td>\n",
       "      <td>3.0</td>\n",
       "    </tr>\n",
       "    <tr>\n",
       "      <th>2</th>\n",
       "      <td>380448720</td>\n",
       "      <td>2020-10-10 06:27:12.760003</td>\n",
       "      <td>4.0</td>\n",
       "    </tr>\n",
       "    <tr>\n",
       "      <th>3</th>\n",
       "      <td>598474555</td>\n",
       "      <td>2020-10-10 07:06:38.315003</td>\n",
       "      <td>2.0</td>\n",
       "    </tr>\n",
       "    <tr>\n",
       "      <th>4</th>\n",
       "      <td>598474555</td>\n",
       "      <td>2020-10-10 07:09:39.832003</td>\n",
       "      <td>3.0</td>\n",
       "    </tr>\n",
       "    <tr>\n",
       "      <th>...</th>\n",
       "      <td>...</td>\n",
       "      <td>...</td>\n",
       "      <td>...</td>\n",
       "    </tr>\n",
       "    <tr>\n",
       "      <th>130625</th>\n",
       "      <td>493177327</td>\n",
       "      <td>2020-10-15 18:13:33.880003</td>\n",
       "      <td>5.0</td>\n",
       "    </tr>\n",
       "    <tr>\n",
       "      <th>130626</th>\n",
       "      <td>493177327</td>\n",
       "      <td>2020-10-15 19:07:40.465003</td>\n",
       "      <td>6.0</td>\n",
       "    </tr>\n",
       "    <tr>\n",
       "      <th>130627</th>\n",
       "      <td>493177327</td>\n",
       "      <td>2020-10-15 20:06:02.250002</td>\n",
       "      <td>7.0</td>\n",
       "    </tr>\n",
       "    <tr>\n",
       "      <th>130628</th>\n",
       "      <td>493177327</td>\n",
       "      <td>2020-10-17 20:20:59.863003</td>\n",
       "      <td>8.0</td>\n",
       "    </tr>\n",
       "    <tr>\n",
       "      <th>130629</th>\n",
       "      <td>493177327</td>\n",
       "      <td>2020-10-20 20:47:59.148004</td>\n",
       "      <td>9.0</td>\n",
       "    </tr>\n",
       "  </tbody>\n",
       "</table>\n",
       "<p>130630 rows × 3 columns</p>\n",
       "</div>"
      ],
      "text/plain": [
       "          user_id                        time  level\n",
       "0       380448720  2020-10-10 06:22:12.799003    2.0\n",
       "1       380448720  2020-10-10 06:26:42.405003    3.0\n",
       "2       380448720  2020-10-10 06:27:12.760003    4.0\n",
       "3       598474555  2020-10-10 07:06:38.315003    2.0\n",
       "4       598474555  2020-10-10 07:09:39.832003    3.0\n",
       "...           ...                         ...    ...\n",
       "130625  493177327  2020-10-15 18:13:33.880003    5.0\n",
       "130626  493177327  2020-10-15 19:07:40.465003    6.0\n",
       "130627  493177327  2020-10-15 20:06:02.250002    7.0\n",
       "130628  493177327  2020-10-17 20:20:59.863003    8.0\n",
       "130629  493177327  2020-10-20 20:47:59.148004    9.0\n",
       "\n",
       "[130630 rows x 3 columns]"
      ]
     },
     "execution_count": 5,
     "metadata": {},
     "output_type": "execute_result"
    }
   ],
   "source": [
    "level_up"
   ]
  },
  {
   "cell_type": "code",
   "execution_count": 6,
   "id": "18645866",
   "metadata": {
    "colab": {
     "base_uri": "https://localhost:8080/"
    },
    "id": "18645866",
    "outputId": "5168fdd3-3e4d-4704-be01-86982d6aec1e"
   },
   "outputs": [
    {
     "name": "stdout",
     "output_type": "stream",
     "text": [
      "<class 'pandas.core.frame.DataFrame'>\n",
      "RangeIndex: 130630 entries, 0 to 130629\n",
      "Data columns (total 3 columns):\n",
      " #   Column   Non-Null Count   Dtype  \n",
      "---  ------   --------------   -----  \n",
      " 0   user_id  130630 non-null  object \n",
      " 1   time     130630 non-null  object \n",
      " 2   level    130630 non-null  float64\n",
      "dtypes: float64(1), object(2)\n",
      "memory usage: 3.0+ MB\n"
     ]
    }
   ],
   "source": [
    "level_up.info()"
   ]
  },
  {
   "cell_type": "code",
   "execution_count": 7,
   "id": "9cd2bf0d",
   "metadata": {
    "id": "9cd2bf0d"
   },
   "outputs": [],
   "source": [
    "level_up['time']= pd.to_datetime(level_up['time'])"
   ]
  },
  {
   "cell_type": "code",
   "execution_count": 8,
   "id": "ef2f3e3f",
   "metadata": {
    "id": "ef2f3e3f",
    "scrolled": true
   },
   "outputs": [],
   "source": [
    "payment = pd.read_sql('''\n",
    "    SELECT*FROM payment\n",
    "''', con)"
   ]
  },
  {
   "cell_type": "code",
   "execution_count": 9,
   "id": "0e1f0333",
   "metadata": {
    "colab": {
     "base_uri": "https://localhost:8080/"
    },
    "id": "0e1f0333",
    "outputId": "354feffd-cd56-48e2-a679-5eefbc63f911"
   },
   "outputs": [
    {
     "name": "stdout",
     "output_type": "stream",
     "text": [
      "<class 'pandas.core.frame.DataFrame'>\n",
      "RangeIndex: 700 entries, 0 to 699\n",
      "Data columns (total 3 columns):\n",
      " #   Column   Non-Null Count  Dtype  \n",
      "---  ------   --------------  -----  \n",
      " 0   user_id  700 non-null    object \n",
      " 1   time     700 non-null    object \n",
      " 2   amount   700 non-null    float64\n",
      "dtypes: float64(1), object(2)\n",
      "memory usage: 16.5+ KB\n"
     ]
    }
   ],
   "source": [
    "payment.info()"
   ]
  },
  {
   "cell_type": "code",
   "execution_count": 10,
   "id": "8409c69b",
   "metadata": {
    "id": "8409c69b"
   },
   "outputs": [],
   "source": [
    "payment['time']= pd.to_datetime(payment['time'])"
   ]
  },
  {
   "cell_type": "code",
   "execution_count": 11,
   "id": "57e8e3e3",
   "metadata": {
    "id": "57e8e3e3"
   },
   "outputs": [],
   "source": [
    "quest_complete = pd.read_sql('''\n",
    "    SELECT*FROM quest_complete\n",
    "''', con)"
   ]
  },
  {
   "cell_type": "code",
   "execution_count": 12,
   "id": "da27c896",
   "metadata": {
    "colab": {
     "base_uri": "https://localhost:8080/"
    },
    "id": "da27c896",
    "outputId": "05a740d8-1b10-4b45-b58f-1658558424c2"
   },
   "outputs": [
    {
     "name": "stdout",
     "output_type": "stream",
     "text": [
      "<class 'pandas.core.frame.DataFrame'>\n",
      "RangeIndex: 402927 entries, 0 to 402926\n",
      "Data columns (total 3 columns):\n",
      " #   Column   Non-Null Count   Dtype \n",
      "---  ------   --------------   ----- \n",
      " 0   user_id  402927 non-null  object\n",
      " 1   time     402927 non-null  object\n",
      " 2   quest    402927 non-null  object\n",
      "dtypes: object(3)\n",
      "memory usage: 9.2+ MB\n"
     ]
    }
   ],
   "source": [
    "quest_complete.info()"
   ]
  },
  {
   "cell_type": "code",
   "execution_count": 13,
   "id": "213bdaec",
   "metadata": {
    "id": "213bdaec"
   },
   "outputs": [],
   "source": [
    "quest_complete['time']= pd.to_datetime(quest_complete['time'])"
   ]
  },
  {
   "cell_type": "code",
   "execution_count": 14,
   "id": "97e07f27",
   "metadata": {
    "id": "97e07f27"
   },
   "outputs": [],
   "source": [
    "quest_start = pd.read_sql('''\n",
    "    SELECT*FROM quest_start\n",
    "''', con)"
   ]
  },
  {
   "cell_type": "code",
   "execution_count": 15,
   "id": "86dca74b",
   "metadata": {
    "colab": {
     "base_uri": "https://localhost:8080/"
    },
    "id": "86dca74b",
    "outputId": "87122e8b-9bc3-49e3-cf3a-db416d6d6706"
   },
   "outputs": [
    {
     "name": "stdout",
     "output_type": "stream",
     "text": [
      "<class 'pandas.core.frame.DataFrame'>\n",
      "RangeIndex: 423105 entries, 0 to 423104\n",
      "Data columns (total 3 columns):\n",
      " #   Column   Non-Null Count   Dtype \n",
      "---  ------   --------------   ----- \n",
      " 0   user_id  423105 non-null  object\n",
      " 1   time     423105 non-null  object\n",
      " 2   quest    423105 non-null  object\n",
      "dtypes: object(3)\n",
      "memory usage: 9.7+ MB\n"
     ]
    }
   ],
   "source": [
    "quest_start.info()"
   ]
  },
  {
   "cell_type": "code",
   "execution_count": 16,
   "id": "87d42049",
   "metadata": {
    "id": "87d42049"
   },
   "outputs": [],
   "source": [
    "quest_start['time']= pd.to_datetime(quest_start['time'])"
   ]
  },
  {
   "cell_type": "code",
   "execution_count": 17,
   "id": "603b2412",
   "metadata": {
    "id": "603b2412"
   },
   "outputs": [],
   "source": [
    "session_close = pd.read_sql('''\n",
    "    SELECT*FROM session_close\n",
    "''', con)"
   ]
  },
  {
   "cell_type": "code",
   "execution_count": 18,
   "id": "e32db9d4",
   "metadata": {
    "colab": {
     "base_uri": "https://localhost:8080/"
    },
    "id": "e32db9d4",
    "outputId": "a73e1cce-b294-4c27-df95-3b56aa8ac01e"
   },
   "outputs": [
    {
     "name": "stdout",
     "output_type": "stream",
     "text": [
      "<class 'pandas.core.frame.DataFrame'>\n",
      "RangeIndex: 358034 entries, 0 to 358033\n",
      "Data columns (total 4 columns):\n",
      " #   Column      Non-Null Count   Dtype  \n",
      "---  ------      --------------   -----  \n",
      " 0   user_id     358034 non-null  object \n",
      " 1   close_time  358034 non-null  object \n",
      " 2   open_time   358034 non-null  object \n",
      " 3   duration    358034 non-null  float64\n",
      "dtypes: float64(1), object(3)\n",
      "memory usage: 10.9+ MB\n"
     ]
    }
   ],
   "source": [
    "session_close.info()"
   ]
  },
  {
   "cell_type": "code",
   "execution_count": 19,
   "id": "d1151969",
   "metadata": {
    "id": "d1151969"
   },
   "outputs": [],
   "source": [
    "session_close['close_time']= pd.to_datetime(session_close['close_time'])\n",
    "session_close['open_time']= pd.to_datetime(session_close['open_time'])"
   ]
  },
  {
   "cell_type": "code",
   "execution_count": 20,
   "id": "a92caf66",
   "metadata": {
    "id": "a92caf66"
   },
   "outputs": [],
   "source": [
    "install = pd.read_sql('''\n",
    "    SELECT*FROM install\n",
    "''', con)"
   ]
  },
  {
   "cell_type": "code",
   "execution_count": 21,
   "id": "f1b13fda",
   "metadata": {
    "colab": {
     "base_uri": "https://localhost:8080/"
    },
    "id": "f1b13fda",
    "outputId": "8f7ce4fe-9b40-4870-cacb-f21f2663fed4"
   },
   "outputs": [
    {
     "name": "stdout",
     "output_type": "stream",
     "text": [
      "<class 'pandas.core.frame.DataFrame'>\n",
      "RangeIndex: 31115 entries, 0 to 31114\n",
      "Data columns (total 2 columns):\n",
      " #   Column    Non-Null Count  Dtype \n",
      "---  ------    --------------  ----- \n",
      " 0   user_id   31115 non-null  object\n",
      " 1   reg_time  31115 non-null  object\n",
      "dtypes: object(2)\n",
      "memory usage: 486.3+ KB\n"
     ]
    }
   ],
   "source": [
    "install.info()"
   ]
  },
  {
   "cell_type": "code",
   "execution_count": 22,
   "id": "562b4258",
   "metadata": {
    "id": "562b4258"
   },
   "outputs": [],
   "source": [
    "install['reg_time']= pd.to_datetime(install['reg_time'], utc =True)"
   ]
  },
  {
   "cell_type": "code",
   "execution_count": 23,
   "id": "93abf5ba",
   "metadata": {
    "colab": {
     "base_uri": "https://localhost:8080/",
     "height": 423
    },
    "id": "93abf5ba",
    "outputId": "aa2a0bd5-92c9-418e-9926-4cc4fa191e79"
   },
   "outputs": [
    {
     "data": {
      "text/html": [
       "<div>\n",
       "<style scoped>\n",
       "    .dataframe tbody tr th:only-of-type {\n",
       "        vertical-align: middle;\n",
       "    }\n",
       "\n",
       "    .dataframe tbody tr th {\n",
       "        vertical-align: top;\n",
       "    }\n",
       "\n",
       "    .dataframe thead th {\n",
       "        text-align: right;\n",
       "    }\n",
       "</style>\n",
       "<table border=\"1\" class=\"dataframe\">\n",
       "  <thead>\n",
       "    <tr style=\"text-align: right;\">\n",
       "      <th></th>\n",
       "      <th>user_id</th>\n",
       "      <th>reg_time</th>\n",
       "    </tr>\n",
       "  </thead>\n",
       "  <tbody>\n",
       "    <tr>\n",
       "      <th>0</th>\n",
       "      <td>161961035</td>\n",
       "      <td>2020-10-10 13:47:56.024000+00:00</td>\n",
       "    </tr>\n",
       "    <tr>\n",
       "      <th>1</th>\n",
       "      <td>355714429</td>\n",
       "      <td>2020-10-10 14:32:35.495000+00:00</td>\n",
       "    </tr>\n",
       "    <tr>\n",
       "      <th>2</th>\n",
       "      <td>63172433</td>\n",
       "      <td>2020-10-10 14:50:14.571000+00:00</td>\n",
       "    </tr>\n",
       "    <tr>\n",
       "      <th>3</th>\n",
       "      <td>2468642</td>\n",
       "      <td>2020-10-10 01:28:56.790000+00:00</td>\n",
       "    </tr>\n",
       "    <tr>\n",
       "      <th>4</th>\n",
       "      <td>534509995</td>\n",
       "      <td>2020-10-10 04:53:22.412000+00:00</td>\n",
       "    </tr>\n",
       "    <tr>\n",
       "      <th>...</th>\n",
       "      <td>...</td>\n",
       "      <td>...</td>\n",
       "    </tr>\n",
       "    <tr>\n",
       "      <th>31110</th>\n",
       "      <td>748693294</td>\n",
       "      <td>2020-10-13 12:34:17.862000+00:00</td>\n",
       "    </tr>\n",
       "    <tr>\n",
       "      <th>31111</th>\n",
       "      <td>199709924</td>\n",
       "      <td>2020-10-13 19:44:34.158000+00:00</td>\n",
       "    </tr>\n",
       "    <tr>\n",
       "      <th>31112</th>\n",
       "      <td>55844383</td>\n",
       "      <td>2020-10-13 23:26:42.802000+00:00</td>\n",
       "    </tr>\n",
       "    <tr>\n",
       "      <th>31113</th>\n",
       "      <td>705325286</td>\n",
       "      <td>2020-10-14 06:49:46.198000+00:00</td>\n",
       "    </tr>\n",
       "    <tr>\n",
       "      <th>31114</th>\n",
       "      <td>746649790</td>\n",
       "      <td>2020-10-14 12:50:20.902000+00:00</td>\n",
       "    </tr>\n",
       "  </tbody>\n",
       "</table>\n",
       "<p>31115 rows × 2 columns</p>\n",
       "</div>"
      ],
      "text/plain": [
       "         user_id                         reg_time\n",
       "0      161961035 2020-10-10 13:47:56.024000+00:00\n",
       "1      355714429 2020-10-10 14:32:35.495000+00:00\n",
       "2       63172433 2020-10-10 14:50:14.571000+00:00\n",
       "3        2468642 2020-10-10 01:28:56.790000+00:00\n",
       "4      534509995 2020-10-10 04:53:22.412000+00:00\n",
       "...          ...                              ...\n",
       "31110  748693294 2020-10-13 12:34:17.862000+00:00\n",
       "31111  199709924 2020-10-13 19:44:34.158000+00:00\n",
       "31112   55844383 2020-10-13 23:26:42.802000+00:00\n",
       "31113  705325286 2020-10-14 06:49:46.198000+00:00\n",
       "31114  746649790 2020-10-14 12:50:20.902000+00:00\n",
       "\n",
       "[31115 rows x 2 columns]"
      ]
     },
     "execution_count": 23,
     "metadata": {},
     "output_type": "execute_result"
    }
   ],
   "source": [
    "install"
   ]
  },
  {
   "cell_type": "code",
   "execution_count": 24,
   "id": "qU_VjYWY9IyI",
   "metadata": {
    "colab": {
     "base_uri": "https://localhost:8080/"
    },
    "id": "qU_VjYWY9IyI",
    "outputId": "fb0f2edb-d86e-4615-cf1c-e3ff364568d0"
   },
   "outputs": [
    {
     "name": "stdout",
     "output_type": "stream",
     "text": [
      "<class 'pandas.core.frame.DataFrame'>\n",
      "RangeIndex: 31115 entries, 0 to 31114\n",
      "Data columns (total 2 columns):\n",
      " #   Column    Non-Null Count  Dtype              \n",
      "---  ------    --------------  -----              \n",
      " 0   user_id   31115 non-null  object             \n",
      " 1   reg_time  31115 non-null  datetime64[ns, UTC]\n",
      "dtypes: datetime64[ns, UTC](1), object(1)\n",
      "memory usage: 486.3+ KB\n"
     ]
    }
   ],
   "source": [
    "install.info()"
   ]
  },
  {
   "cell_type": "code",
   "execution_count": 25,
   "id": "74b16267",
   "metadata": {
    "id": "74b16267"
   },
   "outputs": [],
   "source": [
    "#Задание 1\n",
    "#Рассчитайте ретеншн и время, которое игроки проводят в игре"
   ]
  },
  {
   "cell_type": "code",
   "execution_count": 26,
   "id": "b43a559b",
   "metadata": {},
   "outputs": [],
   "source": [
    "install_retention = pd.read_sql('''\n",
    "    SELECT user_id, date(reg_time) FROM install\n",
    "''', con)"
   ]
  },
  {
   "cell_type": "code",
   "execution_count": 27,
   "id": "353b0c1d",
   "metadata": {},
   "outputs": [
    {
     "data": {
      "text/html": [
       "<div>\n",
       "<style scoped>\n",
       "    .dataframe tbody tr th:only-of-type {\n",
       "        vertical-align: middle;\n",
       "    }\n",
       "\n",
       "    .dataframe tbody tr th {\n",
       "        vertical-align: top;\n",
       "    }\n",
       "\n",
       "    .dataframe thead th {\n",
       "        text-align: right;\n",
       "    }\n",
       "</style>\n",
       "<table border=\"1\" class=\"dataframe\">\n",
       "  <thead>\n",
       "    <tr style=\"text-align: right;\">\n",
       "      <th></th>\n",
       "      <th>user_id</th>\n",
       "      <th>reg_time</th>\n",
       "    </tr>\n",
       "  </thead>\n",
       "  <tbody>\n",
       "    <tr>\n",
       "      <th>0</th>\n",
       "      <td>161961035</td>\n",
       "      <td>2020-10-10</td>\n",
       "    </tr>\n",
       "    <tr>\n",
       "      <th>1</th>\n",
       "      <td>355714429</td>\n",
       "      <td>2020-10-10</td>\n",
       "    </tr>\n",
       "    <tr>\n",
       "      <th>2</th>\n",
       "      <td>63172433</td>\n",
       "      <td>2020-10-10</td>\n",
       "    </tr>\n",
       "    <tr>\n",
       "      <th>3</th>\n",
       "      <td>2468642</td>\n",
       "      <td>2020-10-10</td>\n",
       "    </tr>\n",
       "    <tr>\n",
       "      <th>4</th>\n",
       "      <td>534509995</td>\n",
       "      <td>2020-10-10</td>\n",
       "    </tr>\n",
       "    <tr>\n",
       "      <th>...</th>\n",
       "      <td>...</td>\n",
       "      <td>...</td>\n",
       "    </tr>\n",
       "    <tr>\n",
       "      <th>31110</th>\n",
       "      <td>748693294</td>\n",
       "      <td>2020-10-13</td>\n",
       "    </tr>\n",
       "    <tr>\n",
       "      <th>31111</th>\n",
       "      <td>199709924</td>\n",
       "      <td>2020-10-13</td>\n",
       "    </tr>\n",
       "    <tr>\n",
       "      <th>31112</th>\n",
       "      <td>55844383</td>\n",
       "      <td>2020-10-13</td>\n",
       "    </tr>\n",
       "    <tr>\n",
       "      <th>31113</th>\n",
       "      <td>705325286</td>\n",
       "      <td>2020-10-14</td>\n",
       "    </tr>\n",
       "    <tr>\n",
       "      <th>31114</th>\n",
       "      <td>746649790</td>\n",
       "      <td>2020-10-14</td>\n",
       "    </tr>\n",
       "  </tbody>\n",
       "</table>\n",
       "<p>31115 rows × 2 columns</p>\n",
       "</div>"
      ],
      "text/plain": [
       "         user_id    reg_time\n",
       "0      161961035  2020-10-10\n",
       "1      355714429  2020-10-10\n",
       "2       63172433  2020-10-10\n",
       "3        2468642  2020-10-10\n",
       "4      534509995  2020-10-10\n",
       "...          ...         ...\n",
       "31110  748693294  2020-10-13\n",
       "31111  199709924  2020-10-13\n",
       "31112   55844383  2020-10-13\n",
       "31113  705325286  2020-10-14\n",
       "31114  746649790  2020-10-14\n",
       "\n",
       "[31115 rows x 2 columns]"
      ]
     },
     "execution_count": 27,
     "metadata": {},
     "output_type": "execute_result"
    }
   ],
   "source": [
    "install_retention = install_retention.rename(columns={'date(reg_time)': 'reg_time'})\n",
    "install_retention"
   ]
  },
  {
   "cell_type": "code",
   "execution_count": 28,
   "id": "iqHkWkoW9JPZ",
   "metadata": {
    "id": "iqHkWkoW9JPZ"
   },
   "outputs": [],
   "source": [
    "session_close_retention = pd.read_sql('''\n",
    "    SELECT user_id, date(close_time), date(open_time), duration FROM session_close\n",
    "''', con)"
   ]
  },
  {
   "cell_type": "code",
   "execution_count": 29,
   "id": "79ad71a0",
   "metadata": {
    "colab": {
     "base_uri": "https://localhost:8080/",
     "height": 423
    },
    "id": "79ad71a0",
    "outputId": "80c8439c-4194-465e-865d-b99529c10317"
   },
   "outputs": [
    {
     "data": {
      "text/html": [
       "<div>\n",
       "<style scoped>\n",
       "    .dataframe tbody tr th:only-of-type {\n",
       "        vertical-align: middle;\n",
       "    }\n",
       "\n",
       "    .dataframe tbody tr th {\n",
       "        vertical-align: top;\n",
       "    }\n",
       "\n",
       "    .dataframe thead th {\n",
       "        text-align: right;\n",
       "    }\n",
       "</style>\n",
       "<table border=\"1\" class=\"dataframe\">\n",
       "  <thead>\n",
       "    <tr style=\"text-align: right;\">\n",
       "      <th></th>\n",
       "      <th>user_id</th>\n",
       "      <th>close_time</th>\n",
       "      <th>open_time</th>\n",
       "      <th>duration</th>\n",
       "    </tr>\n",
       "  </thead>\n",
       "  <tbody>\n",
       "    <tr>\n",
       "      <th>0</th>\n",
       "      <td>862965630</td>\n",
       "      <td>2020-10-10</td>\n",
       "      <td>2020-10-10</td>\n",
       "      <td>709.190</td>\n",
       "    </tr>\n",
       "    <tr>\n",
       "      <th>1</th>\n",
       "      <td>5569239</td>\n",
       "      <td>2020-10-10</td>\n",
       "      <td>2020-10-10</td>\n",
       "      <td>50.681</td>\n",
       "    </tr>\n",
       "    <tr>\n",
       "      <th>2</th>\n",
       "      <td>5569239</td>\n",
       "      <td>2020-10-12</td>\n",
       "      <td>2020-10-12</td>\n",
       "      <td>2202.671</td>\n",
       "    </tr>\n",
       "    <tr>\n",
       "      <th>3</th>\n",
       "      <td>5569239</td>\n",
       "      <td>2020-10-12</td>\n",
       "      <td>2020-10-12</td>\n",
       "      <td>711.273</td>\n",
       "    </tr>\n",
       "    <tr>\n",
       "      <th>4</th>\n",
       "      <td>5569239</td>\n",
       "      <td>2020-10-13</td>\n",
       "      <td>2020-10-13</td>\n",
       "      <td>732.552</td>\n",
       "    </tr>\n",
       "    <tr>\n",
       "      <th>...</th>\n",
       "      <td>...</td>\n",
       "      <td>...</td>\n",
       "      <td>...</td>\n",
       "      <td>...</td>\n",
       "    </tr>\n",
       "    <tr>\n",
       "      <th>358029</th>\n",
       "      <td>542994995</td>\n",
       "      <td>2020-10-06</td>\n",
       "      <td>2020-10-06</td>\n",
       "      <td>22.267</td>\n",
       "    </tr>\n",
       "    <tr>\n",
       "      <th>358030</th>\n",
       "      <td>542994995</td>\n",
       "      <td>2020-10-06</td>\n",
       "      <td>2020-10-06</td>\n",
       "      <td>401.980</td>\n",
       "    </tr>\n",
       "    <tr>\n",
       "      <th>358031</th>\n",
       "      <td>542994995</td>\n",
       "      <td>2020-10-06</td>\n",
       "      <td>2020-10-06</td>\n",
       "      <td>133.973</td>\n",
       "    </tr>\n",
       "    <tr>\n",
       "      <th>358032</th>\n",
       "      <td>542994995</td>\n",
       "      <td>2020-10-06</td>\n",
       "      <td>2020-10-06</td>\n",
       "      <td>43.313</td>\n",
       "    </tr>\n",
       "    <tr>\n",
       "      <th>358033</th>\n",
       "      <td>542994995</td>\n",
       "      <td>2020-10-07</td>\n",
       "      <td>2020-10-07</td>\n",
       "      <td>52.835</td>\n",
       "    </tr>\n",
       "  </tbody>\n",
       "</table>\n",
       "<p>358034 rows × 4 columns</p>\n",
       "</div>"
      ],
      "text/plain": [
       "          user_id  close_time   open_time  duration\n",
       "0       862965630  2020-10-10  2020-10-10   709.190\n",
       "1         5569239  2020-10-10  2020-10-10    50.681\n",
       "2         5569239  2020-10-12  2020-10-12  2202.671\n",
       "3         5569239  2020-10-12  2020-10-12   711.273\n",
       "4         5569239  2020-10-13  2020-10-13   732.552\n",
       "...           ...         ...         ...       ...\n",
       "358029  542994995  2020-10-06  2020-10-06    22.267\n",
       "358030  542994995  2020-10-06  2020-10-06   401.980\n",
       "358031  542994995  2020-10-06  2020-10-06   133.973\n",
       "358032  542994995  2020-10-06  2020-10-06    43.313\n",
       "358033  542994995  2020-10-07  2020-10-07    52.835\n",
       "\n",
       "[358034 rows x 4 columns]"
      ]
     },
     "execution_count": 29,
     "metadata": {},
     "output_type": "execute_result"
    }
   ],
   "source": [
    "session_close_retention = session_close_retention.rename(columns={'date(open_time)': 'open_time','date(close_time)': 'close_time' })\n",
    "session_close_retention"
   ]
  },
  {
   "cell_type": "code",
   "execution_count": 30,
   "id": "75feda52",
   "metadata": {
    "id": "75feda52"
   },
   "outputs": [],
   "source": [
    "#Дата, когда пользователь впервые проявил активность\n",
    "first_session_date_by_customers = session_close_retention.groupby('user_id')['open_time'].min()"
   ]
  },
  {
   "cell_type": "code",
   "execution_count": 31,
   "id": "3541c613",
   "metadata": {
    "colab": {
     "base_uri": "https://localhost:8080/"
    },
    "id": "3541c613",
    "outputId": "c3913892-8182-496d-e077-ee0bf5b02f10"
   },
   "outputs": [
    {
     "data": {
      "text/plain": [
       "user_id\n",
       "100027314    2020-10-11\n",
       "100044206    2020-10-14\n",
       "100052283    2020-10-11\n",
       "100069353    2020-10-10\n",
       "100073694    2020-10-10\n",
       "                ...    \n",
       "999806303    2020-10-09\n",
       "999842733    2020-10-10\n",
       "999843309    2020-10-13\n",
       "999858624    2020-10-07\n",
       "999862290    2020-10-09\n",
       "Name: open_time, Length: 31072, dtype: object"
      ]
     },
     "execution_count": 31,
     "metadata": {},
     "output_type": "execute_result"
    }
   ],
   "source": [
    "first_session_date_by_customers"
   ]
  },
  {
   "cell_type": "code",
   "execution_count": 32,
   "id": "7ef2cfc0",
   "metadata": {
    "colab": {
     "base_uri": "https://localhost:8080/"
    },
    "id": "7ef2cfc0",
    "outputId": "319cc411-164a-41ae-dbac-cc2621fb89e2"
   },
   "outputs": [
    {
     "data": {
      "text/plain": [
       "user_id\n",
       "100027314    2020-10-11\n",
       "100044206    2020-10-14\n",
       "100052283    2020-10-11\n",
       "100069353    2020-10-10\n",
       "100073694    2020-10-10\n",
       "                ...    \n",
       "999806303    2020-10-08\n",
       "999842733    2020-10-10\n",
       "999843309    2020-10-13\n",
       "999858624    2020-10-07\n",
       "999862290    2020-10-08\n",
       "Name: reg_time, Length: 31115, dtype: object"
      ]
     },
     "execution_count": 32,
     "metadata": {},
     "output_type": "execute_result"
    }
   ],
   "source": [
    "df_install= install_retention.groupby('user_id')['reg_time'].min()\n",
    "df_install"
   ]
  },
  {
   "cell_type": "code",
   "execution_count": 33,
   "id": "1a26e476",
   "metadata": {
    "colab": {
     "base_uri": "https://localhost:8080/"
    },
    "id": "1a26e476",
    "outputId": "7d725df6-fb7f-4339-db25-995af7bd9384"
   },
   "outputs": [
    {
     "data": {
      "text/plain": [
       "43"
      ]
     },
     "execution_count": 33,
     "metadata": {},
     "output_type": "execute_result"
    }
   ],
   "source": [
    "31115-31072"
   ]
  },
  {
   "cell_type": "code",
   "execution_count": 34,
   "id": "014ca63b",
   "metadata": {
    "id": "014ca63b"
   },
   "outputs": [],
   "source": [
    "#Тут можно сделать вывод о том , что 43 пользователя отпали на этапе регистрации"
   ]
  },
  {
   "cell_type": "code",
   "execution_count": null,
   "id": "9169fd71",
   "metadata": {
    "colab": {
     "base_uri": "https://localhost:8080/",
     "height": 423
    },
    "id": "9169fd71",
    "outputId": "e5f95f4e-bd0b-48b3-ae87-768c36ccbc3f"
   },
   "outputs": [],
   "source": []
  },
  {
   "cell_type": "code",
   "execution_count": 35,
   "id": "b1444ff1",
   "metadata": {
    "colab": {
     "base_uri": "https://localhost:8080/"
    },
    "id": "b1444ff1",
    "outputId": "1bfe2216-f03e-4924-d3f5-260707b1f7ad",
    "scrolled": true
   },
   "outputs": [
    {
     "data": {
      "text/plain": [
       "user_id\n",
       "100027314    2020-10-11\n",
       "100044206    2020-10-14\n",
       "100052283    2020-10-13\n",
       "100069353    2020-10-10\n",
       "100073694    2020-10-10\n",
       "                ...    \n",
       "999806303    2020-10-09\n",
       "999842733    2020-10-11\n",
       "999843309    2020-10-22\n",
       "999858624    2020-10-07\n",
       "999862290    2020-10-14\n",
       "Name: last_session, Length: 31072, dtype: object"
      ]
     },
     "execution_count": 35,
     "metadata": {},
     "output_type": "execute_result"
    }
   ],
   "source": [
    "#Смотрим когда пользователь проявлял активность в последний раз\n",
    "last_session_date_by_customers = session_close_retention.groupby('user_id')['open_time'].max()\n",
    "last_session_date_by_customers.name = 'last_session'\n",
    "last_session_date_by_customers"
   ]
  },
  {
   "cell_type": "code",
   "execution_count": 36,
   "id": "35378b6f",
   "metadata": {
    "colab": {
     "base_uri": "https://localhost:8080/",
     "height": 423
    },
    "id": "35378b6f",
    "outputId": "986fd1e4-0b13-44f6-afd6-17e8063358db"
   },
   "outputs": [
    {
     "name": "stdout",
     "output_type": "stream",
     "text": [
      "<class 'pandas.core.frame.DataFrame'>\n",
      "RangeIndex: 31115 entries, 0 to 31114\n",
      "Data columns (total 3 columns):\n",
      " #   Column        Non-Null Count  Dtype \n",
      "---  ------        --------------  ----- \n",
      " 0   user_id       31115 non-null  object\n",
      " 1   reg_time      31115 non-null  object\n",
      " 2   last_session  31072 non-null  object\n",
      "dtypes: object(3)\n",
      "memory usage: 729.4+ KB\n"
     ]
    }
   ],
   "source": [
    "#добавляем серию в датафрейм\n",
    "diff = install_retention.join(last_session_date_by_customers,on='user_id')\n",
    "diff.info()"
   ]
  },
  {
   "cell_type": "code",
   "execution_count": 37,
   "id": "af35150a",
   "metadata": {},
   "outputs": [
    {
     "name": "stdout",
     "output_type": "stream",
     "text": [
      "<class 'pandas.core.frame.DataFrame'>\n",
      "RangeIndex: 31115 entries, 0 to 31114\n",
      "Data columns (total 3 columns):\n",
      " #   Column        Non-Null Count  Dtype         \n",
      "---  ------        --------------  -----         \n",
      " 0   user_id       31115 non-null  object        \n",
      " 1   reg_time      31115 non-null  datetime64[ns]\n",
      " 2   last_session  31072 non-null  datetime64[ns]\n",
      "dtypes: datetime64[ns](2), object(1)\n",
      "memory usage: 729.4+ KB\n"
     ]
    }
   ],
   "source": [
    "# Приведение к формату даты\n",
    "diff['last_session']= pd.to_datetime(diff['last_session'])\n",
    "diff['reg_time']= pd.to_datetime(diff['reg_time'])\n",
    "diff.info()"
   ]
  },
  {
   "cell_type": "code",
   "execution_count": 38,
   "id": "97a670a4",
   "metadata": {
    "id": "97a670a4"
   },
   "outputs": [],
   "source": [
    "#считаю cohort_lifetime\n",
    "diff['cohort_lifetime'] = (diff['last_session'] - diff['reg_time']).dt.days"
   ]
  },
  {
   "cell_type": "code",
   "execution_count": 39,
   "id": "b6a19b19",
   "metadata": {
    "colab": {
     "base_uri": "https://localhost:8080/",
     "height": 423
    },
    "id": "b6a19b19",
    "outputId": "01302b43-883b-49cd-86f4-d9551da81b64"
   },
   "outputs": [
    {
     "data": {
      "text/html": [
       "<div>\n",
       "<style scoped>\n",
       "    .dataframe tbody tr th:only-of-type {\n",
       "        vertical-align: middle;\n",
       "    }\n",
       "\n",
       "    .dataframe tbody tr th {\n",
       "        vertical-align: top;\n",
       "    }\n",
       "\n",
       "    .dataframe thead th {\n",
       "        text-align: right;\n",
       "    }\n",
       "</style>\n",
       "<table border=\"1\" class=\"dataframe\">\n",
       "  <thead>\n",
       "    <tr style=\"text-align: right;\">\n",
       "      <th></th>\n",
       "      <th>user_id</th>\n",
       "      <th>reg_time</th>\n",
       "      <th>last_session</th>\n",
       "      <th>cohort_lifetime</th>\n",
       "    </tr>\n",
       "  </thead>\n",
       "  <tbody>\n",
       "    <tr>\n",
       "      <th>0</th>\n",
       "      <td>161961035</td>\n",
       "      <td>2020-10-10</td>\n",
       "      <td>2020-10-13</td>\n",
       "      <td>3.0</td>\n",
       "    </tr>\n",
       "    <tr>\n",
       "      <th>1</th>\n",
       "      <td>355714429</td>\n",
       "      <td>2020-10-10</td>\n",
       "      <td>2020-10-10</td>\n",
       "      <td>0.0</td>\n",
       "    </tr>\n",
       "    <tr>\n",
       "      <th>2</th>\n",
       "      <td>63172433</td>\n",
       "      <td>2020-10-10</td>\n",
       "      <td>2020-10-12</td>\n",
       "      <td>2.0</td>\n",
       "    </tr>\n",
       "    <tr>\n",
       "      <th>3</th>\n",
       "      <td>2468642</td>\n",
       "      <td>2020-10-10</td>\n",
       "      <td>2020-10-11</td>\n",
       "      <td>1.0</td>\n",
       "    </tr>\n",
       "    <tr>\n",
       "      <th>4</th>\n",
       "      <td>534509995</td>\n",
       "      <td>2020-10-10</td>\n",
       "      <td>2020-10-10</td>\n",
       "      <td>0.0</td>\n",
       "    </tr>\n",
       "    <tr>\n",
       "      <th>...</th>\n",
       "      <td>...</td>\n",
       "      <td>...</td>\n",
       "      <td>...</td>\n",
       "      <td>...</td>\n",
       "    </tr>\n",
       "    <tr>\n",
       "      <th>31110</th>\n",
       "      <td>748693294</td>\n",
       "      <td>2020-10-13</td>\n",
       "      <td>2020-10-23</td>\n",
       "      <td>10.0</td>\n",
       "    </tr>\n",
       "    <tr>\n",
       "      <th>31111</th>\n",
       "      <td>199709924</td>\n",
       "      <td>2020-10-13</td>\n",
       "      <td>2020-10-14</td>\n",
       "      <td>1.0</td>\n",
       "    </tr>\n",
       "    <tr>\n",
       "      <th>31112</th>\n",
       "      <td>55844383</td>\n",
       "      <td>2020-10-13</td>\n",
       "      <td>2020-10-15</td>\n",
       "      <td>2.0</td>\n",
       "    </tr>\n",
       "    <tr>\n",
       "      <th>31113</th>\n",
       "      <td>705325286</td>\n",
       "      <td>2020-10-14</td>\n",
       "      <td>2020-10-24</td>\n",
       "      <td>10.0</td>\n",
       "    </tr>\n",
       "    <tr>\n",
       "      <th>31114</th>\n",
       "      <td>746649790</td>\n",
       "      <td>2020-10-14</td>\n",
       "      <td>2020-10-17</td>\n",
       "      <td>3.0</td>\n",
       "    </tr>\n",
       "  </tbody>\n",
       "</table>\n",
       "<p>31072 rows × 4 columns</p>\n",
       "</div>"
      ],
      "text/plain": [
       "         user_id   reg_time last_session  cohort_lifetime\n",
       "0      161961035 2020-10-10   2020-10-13              3.0\n",
       "1      355714429 2020-10-10   2020-10-10              0.0\n",
       "2       63172433 2020-10-10   2020-10-12              2.0\n",
       "3        2468642 2020-10-10   2020-10-11              1.0\n",
       "4      534509995 2020-10-10   2020-10-10              0.0\n",
       "...          ...        ...          ...              ...\n",
       "31110  748693294 2020-10-13   2020-10-23             10.0\n",
       "31111  199709924 2020-10-13   2020-10-14              1.0\n",
       "31112   55844383 2020-10-13   2020-10-15              2.0\n",
       "31113  705325286 2020-10-14   2020-10-24             10.0\n",
       "31114  746649790 2020-10-14   2020-10-17              3.0\n",
       "\n",
       "[31072 rows x 4 columns]"
      ]
     },
     "execution_count": 39,
     "metadata": {},
     "output_type": "execute_result"
    }
   ],
   "source": [
    "# Предлагаю убрать пользователей , которые отвалились на этапе регистрации и ретеншен посчитать без них\n",
    "retention = diff.dropna()\n",
    "retention"
   ]
  },
  {
   "cell_type": "code",
   "execution_count": null,
   "id": "21e8fc1d",
   "metadata": {},
   "outputs": [],
   "source": []
  },
  {
   "cell_type": "code",
   "execution_count": 40,
   "id": "aQtmHZU0stj2",
   "metadata": {
    "colab": {
     "base_uri": "https://localhost:8080/",
     "height": 423
    },
    "id": "aQtmHZU0stj2",
    "outputId": "b6e905f0-bad1-4604-c715-1d2a65bd0a73"
   },
   "outputs": [
    {
     "data": {
      "text/html": [
       "<div>\n",
       "<style scoped>\n",
       "    .dataframe tbody tr th:only-of-type {\n",
       "        vertical-align: middle;\n",
       "    }\n",
       "\n",
       "    .dataframe tbody tr th {\n",
       "        vertical-align: top;\n",
       "    }\n",
       "\n",
       "    .dataframe thead th {\n",
       "        text-align: right;\n",
       "    }\n",
       "</style>\n",
       "<table border=\"1\" class=\"dataframe\">\n",
       "  <thead>\n",
       "    <tr style=\"text-align: right;\">\n",
       "      <th></th>\n",
       "      <th>user_id</th>\n",
       "      <th>reg_time</th>\n",
       "      <th>cohort_lifetime</th>\n",
       "    </tr>\n",
       "  </thead>\n",
       "  <tbody>\n",
       "    <tr>\n",
       "      <th>0</th>\n",
       "      <td>161961035</td>\n",
       "      <td>2020-10-10</td>\n",
       "      <td>3.0</td>\n",
       "    </tr>\n",
       "    <tr>\n",
       "      <th>1</th>\n",
       "      <td>355714429</td>\n",
       "      <td>2020-10-10</td>\n",
       "      <td>0.0</td>\n",
       "    </tr>\n",
       "    <tr>\n",
       "      <th>2</th>\n",
       "      <td>63172433</td>\n",
       "      <td>2020-10-10</td>\n",
       "      <td>2.0</td>\n",
       "    </tr>\n",
       "    <tr>\n",
       "      <th>3</th>\n",
       "      <td>2468642</td>\n",
       "      <td>2020-10-10</td>\n",
       "      <td>1.0</td>\n",
       "    </tr>\n",
       "    <tr>\n",
       "      <th>4</th>\n",
       "      <td>534509995</td>\n",
       "      <td>2020-10-10</td>\n",
       "      <td>0.0</td>\n",
       "    </tr>\n",
       "    <tr>\n",
       "      <th>...</th>\n",
       "      <td>...</td>\n",
       "      <td>...</td>\n",
       "      <td>...</td>\n",
       "    </tr>\n",
       "    <tr>\n",
       "      <th>31110</th>\n",
       "      <td>748693294</td>\n",
       "      <td>2020-10-13</td>\n",
       "      <td>10.0</td>\n",
       "    </tr>\n",
       "    <tr>\n",
       "      <th>31111</th>\n",
       "      <td>199709924</td>\n",
       "      <td>2020-10-13</td>\n",
       "      <td>1.0</td>\n",
       "    </tr>\n",
       "    <tr>\n",
       "      <th>31112</th>\n",
       "      <td>55844383</td>\n",
       "      <td>2020-10-13</td>\n",
       "      <td>2.0</td>\n",
       "    </tr>\n",
       "    <tr>\n",
       "      <th>31113</th>\n",
       "      <td>705325286</td>\n",
       "      <td>2020-10-14</td>\n",
       "      <td>10.0</td>\n",
       "    </tr>\n",
       "    <tr>\n",
       "      <th>31114</th>\n",
       "      <td>746649790</td>\n",
       "      <td>2020-10-14</td>\n",
       "      <td>3.0</td>\n",
       "    </tr>\n",
       "  </tbody>\n",
       "</table>\n",
       "<p>31072 rows × 3 columns</p>\n",
       "</div>"
      ],
      "text/plain": [
       "         user_id   reg_time  cohort_lifetime\n",
       "0      161961035 2020-10-10              3.0\n",
       "1      355714429 2020-10-10              0.0\n",
       "2       63172433 2020-10-10              2.0\n",
       "3        2468642 2020-10-10              1.0\n",
       "4      534509995 2020-10-10              0.0\n",
       "...          ...        ...              ...\n",
       "31110  748693294 2020-10-13             10.0\n",
       "31111  199709924 2020-10-13              1.0\n",
       "31112   55844383 2020-10-13              2.0\n",
       "31113  705325286 2020-10-14             10.0\n",
       "31114  746649790 2020-10-14              3.0\n",
       "\n",
       "[31072 rows x 3 columns]"
      ]
     },
     "execution_count": 40,
     "metadata": {},
     "output_type": "execute_result"
    }
   ],
   "source": [
    "retention_10_days=retention[['user_id','reg_time', 'cohort_lifetime']]\n",
    "retention_10_days"
   ]
  },
  {
   "cell_type": "code",
   "execution_count": 41,
   "id": "2aea4076",
   "metadata": {
    "colab": {
     "base_uri": "https://localhost:8080/",
     "height": 423
    },
    "id": "2aea4076",
    "outputId": "eafafa60-b9a9-492a-ebd6-3bbc5301de77"
   },
   "outputs": [
    {
     "data": {
      "text/html": [
       "<div>\n",
       "<style scoped>\n",
       "    .dataframe tbody tr th:only-of-type {\n",
       "        vertical-align: middle;\n",
       "    }\n",
       "\n",
       "    .dataframe tbody tr th {\n",
       "        vertical-align: top;\n",
       "    }\n",
       "\n",
       "    .dataframe thead th {\n",
       "        text-align: right;\n",
       "    }\n",
       "</style>\n",
       "<table border=\"1\" class=\"dataframe\">\n",
       "  <thead>\n",
       "    <tr style=\"text-align: right;\">\n",
       "      <th></th>\n",
       "      <th>reg_time</th>\n",
       "      <th>cohort_lifetime</th>\n",
       "      <th>user_id</th>\n",
       "    </tr>\n",
       "  </thead>\n",
       "  <tbody>\n",
       "    <tr>\n",
       "      <th>0</th>\n",
       "      <td>2020-10-05</td>\n",
       "      <td>0.0</td>\n",
       "      <td>136</td>\n",
       "    </tr>\n",
       "    <tr>\n",
       "      <th>1</th>\n",
       "      <td>2020-10-05</td>\n",
       "      <td>1.0</td>\n",
       "      <td>70</td>\n",
       "    </tr>\n",
       "    <tr>\n",
       "      <th>2</th>\n",
       "      <td>2020-10-05</td>\n",
       "      <td>2.0</td>\n",
       "      <td>24</td>\n",
       "    </tr>\n",
       "    <tr>\n",
       "      <th>3</th>\n",
       "      <td>2020-10-05</td>\n",
       "      <td>3.0</td>\n",
       "      <td>20</td>\n",
       "    </tr>\n",
       "    <tr>\n",
       "      <th>4</th>\n",
       "      <td>2020-10-05</td>\n",
       "      <td>4.0</td>\n",
       "      <td>14</td>\n",
       "    </tr>\n",
       "    <tr>\n",
       "      <th>...</th>\n",
       "      <td>...</td>\n",
       "      <td>...</td>\n",
       "      <td>...</td>\n",
       "    </tr>\n",
       "    <tr>\n",
       "      <th>105</th>\n",
       "      <td>2020-10-14</td>\n",
       "      <td>6.0</td>\n",
       "      <td>50</td>\n",
       "    </tr>\n",
       "    <tr>\n",
       "      <th>106</th>\n",
       "      <td>2020-10-14</td>\n",
       "      <td>7.0</td>\n",
       "      <td>47</td>\n",
       "    </tr>\n",
       "    <tr>\n",
       "      <th>107</th>\n",
       "      <td>2020-10-14</td>\n",
       "      <td>8.0</td>\n",
       "      <td>80</td>\n",
       "    </tr>\n",
       "    <tr>\n",
       "      <th>108</th>\n",
       "      <td>2020-10-14</td>\n",
       "      <td>9.0</td>\n",
       "      <td>203</td>\n",
       "    </tr>\n",
       "    <tr>\n",
       "      <th>109</th>\n",
       "      <td>2020-10-14</td>\n",
       "      <td>10.0</td>\n",
       "      <td>190</td>\n",
       "    </tr>\n",
       "  </tbody>\n",
       "</table>\n",
       "<p>110 rows × 3 columns</p>\n",
       "</div>"
      ],
      "text/plain": [
       "      reg_time  cohort_lifetime  user_id\n",
       "0   2020-10-05              0.0      136\n",
       "1   2020-10-05              1.0       70\n",
       "2   2020-10-05              2.0       24\n",
       "3   2020-10-05              3.0       20\n",
       "4   2020-10-05              4.0       14\n",
       "..         ...              ...      ...\n",
       "105 2020-10-14              6.0       50\n",
       "106 2020-10-14              7.0       47\n",
       "107 2020-10-14              8.0       80\n",
       "108 2020-10-14              9.0      203\n",
       "109 2020-10-14             10.0      190\n",
       "\n",
       "[110 rows x 3 columns]"
      ]
     },
     "execution_count": 41,
     "metadata": {},
     "output_type": "execute_result"
    }
   ],
   "source": [
    "#Сгруппируем данные по когорте и lifetime\n",
    "cohorts = retention_10_days.groupby(['reg_time', 'cohort_lifetime']).agg({'user_id': 'nunique'}).reset_index()\n",
    "cohorts"
   ]
  },
  {
   "cell_type": "code",
   "execution_count": 42,
   "id": "934ea6ea",
   "metadata": {
    "colab": {
     "base_uri": "https://localhost:8080/",
     "height": 363
    },
    "id": "934ea6ea",
    "outputId": "866ddb42-19cd-419d-e83f-e9e6b4b7eb8e"
   },
   "outputs": [
    {
     "data": {
      "text/html": [
       "<div>\n",
       "<style scoped>\n",
       "    .dataframe tbody tr th:only-of-type {\n",
       "        vertical-align: middle;\n",
       "    }\n",
       "\n",
       "    .dataframe tbody tr th {\n",
       "        vertical-align: top;\n",
       "    }\n",
       "\n",
       "    .dataframe thead th {\n",
       "        text-align: right;\n",
       "    }\n",
       "</style>\n",
       "<table border=\"1\" class=\"dataframe\">\n",
       "  <thead>\n",
       "    <tr style=\"text-align: right;\">\n",
       "      <th></th>\n",
       "      <th>reg_time</th>\n",
       "      <th>cohort_users</th>\n",
       "    </tr>\n",
       "  </thead>\n",
       "  <tbody>\n",
       "    <tr>\n",
       "      <th>0</th>\n",
       "      <td>2020-10-05</td>\n",
       "      <td>136</td>\n",
       "    </tr>\n",
       "    <tr>\n",
       "      <th>11</th>\n",
       "      <td>2020-10-06</td>\n",
       "      <td>152</td>\n",
       "    </tr>\n",
       "    <tr>\n",
       "      <th>22</th>\n",
       "      <td>2020-10-07</td>\n",
       "      <td>208</td>\n",
       "    </tr>\n",
       "    <tr>\n",
       "      <th>33</th>\n",
       "      <td>2020-10-08</td>\n",
       "      <td>607</td>\n",
       "    </tr>\n",
       "    <tr>\n",
       "      <th>44</th>\n",
       "      <td>2020-10-09</td>\n",
       "      <td>1617</td>\n",
       "    </tr>\n",
       "    <tr>\n",
       "      <th>55</th>\n",
       "      <td>2020-10-10</td>\n",
       "      <td>3837</td>\n",
       "    </tr>\n",
       "    <tr>\n",
       "      <th>66</th>\n",
       "      <td>2020-10-11</td>\n",
       "      <td>2374</td>\n",
       "    </tr>\n",
       "    <tr>\n",
       "      <th>77</th>\n",
       "      <td>2020-10-12</td>\n",
       "      <td>1713</td>\n",
       "    </tr>\n",
       "    <tr>\n",
       "      <th>88</th>\n",
       "      <td>2020-10-13</td>\n",
       "      <td>481</td>\n",
       "    </tr>\n",
       "    <tr>\n",
       "      <th>99</th>\n",
       "      <td>2020-10-14</td>\n",
       "      <td>560</td>\n",
       "    </tr>\n",
       "  </tbody>\n",
       "</table>\n",
       "</div>"
      ],
      "text/plain": [
       "     reg_time  cohort_users\n",
       "0  2020-10-05           136\n",
       "11 2020-10-06           152\n",
       "22 2020-10-07           208\n",
       "33 2020-10-08           607\n",
       "44 2020-10-09          1617\n",
       "55 2020-10-10          3837\n",
       "66 2020-10-11          2374\n",
       "77 2020-10-12          1713\n",
       "88 2020-10-13           481\n",
       "99 2020-10-14           560"
      ]
     },
     "execution_count": 42,
     "metadata": {},
     "output_type": "execute_result"
    }
   ],
   "source": [
    "#Найдём исходное количество пользователей в когорте. Возьмём их число на нулевую неделю\n",
    "initial_users_count = cohorts[cohorts['cohort_lifetime']== 0][['reg_time','user_id']]\n",
    "initial_users_count = initial_users_count.rename(columns={'user_id': 'cohort_users'})\n",
    "initial_users_count"
   ]
  },
  {
   "cell_type": "code",
   "execution_count": null,
   "id": "545eef88",
   "metadata": {},
   "outputs": [],
   "source": []
  },
  {
   "cell_type": "code",
   "execution_count": 43,
   "id": "NjP6DZHvRNM9",
   "metadata": {
    "colab": {
     "base_uri": "https://localhost:8080/",
     "height": 423
    },
    "id": "NjP6DZHvRNM9",
    "outputId": "269f04f1-c61d-4848-abe9-8a6f11be5087"
   },
   "outputs": [
    {
     "data": {
      "text/html": [
       "<div>\n",
       "<style scoped>\n",
       "    .dataframe tbody tr th:only-of-type {\n",
       "        vertical-align: middle;\n",
       "    }\n",
       "\n",
       "    .dataframe tbody tr th {\n",
       "        vertical-align: top;\n",
       "    }\n",
       "\n",
       "    .dataframe thead th {\n",
       "        text-align: right;\n",
       "    }\n",
       "</style>\n",
       "<table border=\"1\" class=\"dataframe\">\n",
       "  <thead>\n",
       "    <tr style=\"text-align: right;\">\n",
       "      <th></th>\n",
       "      <th>reg_time</th>\n",
       "      <th>cohort_lifetime</th>\n",
       "      <th>user_id</th>\n",
       "      <th>cohort_users</th>\n",
       "    </tr>\n",
       "  </thead>\n",
       "  <tbody>\n",
       "    <tr>\n",
       "      <th>0</th>\n",
       "      <td>2020-10-05</td>\n",
       "      <td>0.0</td>\n",
       "      <td>136</td>\n",
       "      <td>136</td>\n",
       "    </tr>\n",
       "    <tr>\n",
       "      <th>1</th>\n",
       "      <td>2020-10-05</td>\n",
       "      <td>1.0</td>\n",
       "      <td>70</td>\n",
       "      <td>136</td>\n",
       "    </tr>\n",
       "    <tr>\n",
       "      <th>2</th>\n",
       "      <td>2020-10-05</td>\n",
       "      <td>2.0</td>\n",
       "      <td>24</td>\n",
       "      <td>136</td>\n",
       "    </tr>\n",
       "    <tr>\n",
       "      <th>3</th>\n",
       "      <td>2020-10-05</td>\n",
       "      <td>3.0</td>\n",
       "      <td>20</td>\n",
       "      <td>136</td>\n",
       "    </tr>\n",
       "    <tr>\n",
       "      <th>4</th>\n",
       "      <td>2020-10-05</td>\n",
       "      <td>4.0</td>\n",
       "      <td>14</td>\n",
       "      <td>136</td>\n",
       "    </tr>\n",
       "    <tr>\n",
       "      <th>...</th>\n",
       "      <td>...</td>\n",
       "      <td>...</td>\n",
       "      <td>...</td>\n",
       "      <td>...</td>\n",
       "    </tr>\n",
       "    <tr>\n",
       "      <th>105</th>\n",
       "      <td>2020-10-14</td>\n",
       "      <td>6.0</td>\n",
       "      <td>50</td>\n",
       "      <td>560</td>\n",
       "    </tr>\n",
       "    <tr>\n",
       "      <th>106</th>\n",
       "      <td>2020-10-14</td>\n",
       "      <td>7.0</td>\n",
       "      <td>47</td>\n",
       "      <td>560</td>\n",
       "    </tr>\n",
       "    <tr>\n",
       "      <th>107</th>\n",
       "      <td>2020-10-14</td>\n",
       "      <td>8.0</td>\n",
       "      <td>80</td>\n",
       "      <td>560</td>\n",
       "    </tr>\n",
       "    <tr>\n",
       "      <th>108</th>\n",
       "      <td>2020-10-14</td>\n",
       "      <td>9.0</td>\n",
       "      <td>203</td>\n",
       "      <td>560</td>\n",
       "    </tr>\n",
       "    <tr>\n",
       "      <th>109</th>\n",
       "      <td>2020-10-14</td>\n",
       "      <td>10.0</td>\n",
       "      <td>190</td>\n",
       "      <td>560</td>\n",
       "    </tr>\n",
       "  </tbody>\n",
       "</table>\n",
       "<p>110 rows × 4 columns</p>\n",
       "</div>"
      ],
      "text/plain": [
       "      reg_time  cohort_lifetime  user_id  cohort_users\n",
       "0   2020-10-05              0.0      136           136\n",
       "1   2020-10-05              1.0       70           136\n",
       "2   2020-10-05              2.0       24           136\n",
       "3   2020-10-05              3.0       20           136\n",
       "4   2020-10-05              4.0       14           136\n",
       "..         ...              ...      ...           ...\n",
       "105 2020-10-14              6.0       50           560\n",
       "106 2020-10-14              7.0       47           560\n",
       "107 2020-10-14              8.0       80           560\n",
       "108 2020-10-14              9.0      203           560\n",
       "109 2020-10-14             10.0      190           560\n",
       "\n",
       "[110 rows x 4 columns]"
      ]
     },
     "execution_count": 43,
     "metadata": {},
     "output_type": "execute_result"
    }
   ],
   "source": [
    "#Объединим данные по когортам с исходным количеством пользователей в когорте\n",
    "cohorts = cohorts.merge(initial_users_count, on='reg_time')\n",
    "cohorts"
   ]
  },
  {
   "cell_type": "code",
   "execution_count": 44,
   "id": "ed050901",
   "metadata": {},
   "outputs": [
    {
     "data": {
      "text/html": [
       "<div>\n",
       "<style scoped>\n",
       "    .dataframe tbody tr th:only-of-type {\n",
       "        vertical-align: middle;\n",
       "    }\n",
       "\n",
       "    .dataframe tbody tr th {\n",
       "        vertical-align: top;\n",
       "    }\n",
       "\n",
       "    .dataframe thead th {\n",
       "        text-align: right;\n",
       "    }\n",
       "</style>\n",
       "<table border=\"1\" class=\"dataframe\">\n",
       "  <thead>\n",
       "    <tr style=\"text-align: right;\">\n",
       "      <th></th>\n",
       "      <th>reg_time</th>\n",
       "      <th>cohort_lifetime</th>\n",
       "      <th>user_id</th>\n",
       "      <th>cohort_users</th>\n",
       "      <th>retention</th>\n",
       "    </tr>\n",
       "  </thead>\n",
       "  <tbody>\n",
       "    <tr>\n",
       "      <th>0</th>\n",
       "      <td>2020-10-05</td>\n",
       "      <td>0.0</td>\n",
       "      <td>136</td>\n",
       "      <td>136</td>\n",
       "      <td>1.000000</td>\n",
       "    </tr>\n",
       "    <tr>\n",
       "      <th>1</th>\n",
       "      <td>2020-10-05</td>\n",
       "      <td>1.0</td>\n",
       "      <td>70</td>\n",
       "      <td>136</td>\n",
       "      <td>0.514706</td>\n",
       "    </tr>\n",
       "    <tr>\n",
       "      <th>2</th>\n",
       "      <td>2020-10-05</td>\n",
       "      <td>2.0</td>\n",
       "      <td>24</td>\n",
       "      <td>136</td>\n",
       "      <td>0.176471</td>\n",
       "    </tr>\n",
       "    <tr>\n",
       "      <th>3</th>\n",
       "      <td>2020-10-05</td>\n",
       "      <td>3.0</td>\n",
       "      <td>20</td>\n",
       "      <td>136</td>\n",
       "      <td>0.147059</td>\n",
       "    </tr>\n",
       "    <tr>\n",
       "      <th>4</th>\n",
       "      <td>2020-10-05</td>\n",
       "      <td>4.0</td>\n",
       "      <td>14</td>\n",
       "      <td>136</td>\n",
       "      <td>0.102941</td>\n",
       "    </tr>\n",
       "    <tr>\n",
       "      <th>...</th>\n",
       "      <td>...</td>\n",
       "      <td>...</td>\n",
       "      <td>...</td>\n",
       "      <td>...</td>\n",
       "      <td>...</td>\n",
       "    </tr>\n",
       "    <tr>\n",
       "      <th>105</th>\n",
       "      <td>2020-10-14</td>\n",
       "      <td>6.0</td>\n",
       "      <td>50</td>\n",
       "      <td>560</td>\n",
       "      <td>0.089286</td>\n",
       "    </tr>\n",
       "    <tr>\n",
       "      <th>106</th>\n",
       "      <td>2020-10-14</td>\n",
       "      <td>7.0</td>\n",
       "      <td>47</td>\n",
       "      <td>560</td>\n",
       "      <td>0.083929</td>\n",
       "    </tr>\n",
       "    <tr>\n",
       "      <th>107</th>\n",
       "      <td>2020-10-14</td>\n",
       "      <td>8.0</td>\n",
       "      <td>80</td>\n",
       "      <td>560</td>\n",
       "      <td>0.142857</td>\n",
       "    </tr>\n",
       "    <tr>\n",
       "      <th>108</th>\n",
       "      <td>2020-10-14</td>\n",
       "      <td>9.0</td>\n",
       "      <td>203</td>\n",
       "      <td>560</td>\n",
       "      <td>0.362500</td>\n",
       "    </tr>\n",
       "    <tr>\n",
       "      <th>109</th>\n",
       "      <td>2020-10-14</td>\n",
       "      <td>10.0</td>\n",
       "      <td>190</td>\n",
       "      <td>560</td>\n",
       "      <td>0.339286</td>\n",
       "    </tr>\n",
       "  </tbody>\n",
       "</table>\n",
       "<p>110 rows × 5 columns</p>\n",
       "</div>"
      ],
      "text/plain": [
       "      reg_time  cohort_lifetime  user_id  cohort_users  retention\n",
       "0   2020-10-05              0.0      136           136   1.000000\n",
       "1   2020-10-05              1.0       70           136   0.514706\n",
       "2   2020-10-05              2.0       24           136   0.176471\n",
       "3   2020-10-05              3.0       20           136   0.147059\n",
       "4   2020-10-05              4.0       14           136   0.102941\n",
       "..         ...              ...      ...           ...        ...\n",
       "105 2020-10-14              6.0       50           560   0.089286\n",
       "106 2020-10-14              7.0       47           560   0.083929\n",
       "107 2020-10-14              8.0       80           560   0.142857\n",
       "108 2020-10-14              9.0      203           560   0.362500\n",
       "109 2020-10-14             10.0      190           560   0.339286\n",
       "\n",
       "[110 rows x 5 columns]"
      ]
     },
     "execution_count": 44,
     "metadata": {},
     "output_type": "execute_result"
    }
   ],
   "source": [
    "#считаем ретеншен\n",
    "cohorts['retention'] = cohorts['user_id']/cohorts['cohort_users']\n",
    "cohorts"
   ]
  },
  {
   "cell_type": "code",
   "execution_count": 45,
   "id": "487471c9",
   "metadata": {
    "colab": {
     "base_uri": "https://localhost:8080/",
     "height": 394
    },
    "id": "487471c9",
    "outputId": "fc6b2079-f073-4a85-e87f-f2372240ff14"
   },
   "outputs": [
    {
     "data": {
      "text/html": [
       "<div>\n",
       "<style scoped>\n",
       "    .dataframe tbody tr th:only-of-type {\n",
       "        vertical-align: middle;\n",
       "    }\n",
       "\n",
       "    .dataframe tbody tr th {\n",
       "        vertical-align: top;\n",
       "    }\n",
       "\n",
       "    .dataframe thead th {\n",
       "        text-align: right;\n",
       "    }\n",
       "</style>\n",
       "<table border=\"1\" class=\"dataframe\">\n",
       "  <thead>\n",
       "    <tr style=\"text-align: right;\">\n",
       "      <th>cohort_lifetime</th>\n",
       "      <th>0.0</th>\n",
       "      <th>1.0</th>\n",
       "      <th>2.0</th>\n",
       "      <th>3.0</th>\n",
       "      <th>4.0</th>\n",
       "      <th>5.0</th>\n",
       "      <th>6.0</th>\n",
       "      <th>7.0</th>\n",
       "      <th>8.0</th>\n",
       "      <th>9.0</th>\n",
       "      <th>10.0</th>\n",
       "    </tr>\n",
       "    <tr>\n",
       "      <th>reg_time</th>\n",
       "      <th></th>\n",
       "      <th></th>\n",
       "      <th></th>\n",
       "      <th></th>\n",
       "      <th></th>\n",
       "      <th></th>\n",
       "      <th></th>\n",
       "      <th></th>\n",
       "      <th></th>\n",
       "      <th></th>\n",
       "      <th></th>\n",
       "    </tr>\n",
       "  </thead>\n",
       "  <tbody>\n",
       "    <tr>\n",
       "      <th>2020-10-05</th>\n",
       "      <td>1.0</td>\n",
       "      <td>0.515</td>\n",
       "      <td>0.176</td>\n",
       "      <td>0.147</td>\n",
       "      <td>0.103</td>\n",
       "      <td>0.029</td>\n",
       "      <td>0.074</td>\n",
       "      <td>0.081</td>\n",
       "      <td>0.118</td>\n",
       "      <td>0.272</td>\n",
       "      <td>0.272</td>\n",
       "    </tr>\n",
       "    <tr>\n",
       "      <th>2020-10-06</th>\n",
       "      <td>1.0</td>\n",
       "      <td>0.553</td>\n",
       "      <td>0.171</td>\n",
       "      <td>0.132</td>\n",
       "      <td>0.072</td>\n",
       "      <td>0.092</td>\n",
       "      <td>0.059</td>\n",
       "      <td>0.105</td>\n",
       "      <td>0.086</td>\n",
       "      <td>0.178</td>\n",
       "      <td>0.336</td>\n",
       "    </tr>\n",
       "    <tr>\n",
       "      <th>2020-10-07</th>\n",
       "      <td>1.0</td>\n",
       "      <td>0.673</td>\n",
       "      <td>0.168</td>\n",
       "      <td>0.096</td>\n",
       "      <td>0.111</td>\n",
       "      <td>0.082</td>\n",
       "      <td>0.082</td>\n",
       "      <td>0.043</td>\n",
       "      <td>0.096</td>\n",
       "      <td>0.207</td>\n",
       "      <td>0.284</td>\n",
       "    </tr>\n",
       "    <tr>\n",
       "      <th>2020-10-08</th>\n",
       "      <td>1.0</td>\n",
       "      <td>0.374</td>\n",
       "      <td>0.082</td>\n",
       "      <td>0.064</td>\n",
       "      <td>0.038</td>\n",
       "      <td>0.031</td>\n",
       "      <td>0.048</td>\n",
       "      <td>0.056</td>\n",
       "      <td>0.048</td>\n",
       "      <td>0.124</td>\n",
       "      <td>0.125</td>\n",
       "    </tr>\n",
       "    <tr>\n",
       "      <th>2020-10-09</th>\n",
       "      <td>1.0</td>\n",
       "      <td>0.887</td>\n",
       "      <td>0.168</td>\n",
       "      <td>0.124</td>\n",
       "      <td>0.075</td>\n",
       "      <td>0.070</td>\n",
       "      <td>0.062</td>\n",
       "      <td>0.058</td>\n",
       "      <td>0.076</td>\n",
       "      <td>0.156</td>\n",
       "      <td>0.320</td>\n",
       "    </tr>\n",
       "    <tr>\n",
       "      <th>2020-10-10</th>\n",
       "      <td>1.0</td>\n",
       "      <td>0.421</td>\n",
       "      <td>0.094</td>\n",
       "      <td>0.067</td>\n",
       "      <td>0.060</td>\n",
       "      <td>0.041</td>\n",
       "      <td>0.034</td>\n",
       "      <td>0.043</td>\n",
       "      <td>0.055</td>\n",
       "      <td>0.151</td>\n",
       "      <td>0.151</td>\n",
       "    </tr>\n",
       "    <tr>\n",
       "      <th>2020-10-11</th>\n",
       "      <td>1.0</td>\n",
       "      <td>0.478</td>\n",
       "      <td>0.204</td>\n",
       "      <td>0.131</td>\n",
       "      <td>0.102</td>\n",
       "      <td>0.089</td>\n",
       "      <td>0.102</td>\n",
       "      <td>0.093</td>\n",
       "      <td>0.118</td>\n",
       "      <td>0.295</td>\n",
       "      <td>0.384</td>\n",
       "    </tr>\n",
       "    <tr>\n",
       "      <th>2020-10-12</th>\n",
       "      <td>1.0</td>\n",
       "      <td>0.405</td>\n",
       "      <td>0.170</td>\n",
       "      <td>0.133</td>\n",
       "      <td>0.104</td>\n",
       "      <td>0.105</td>\n",
       "      <td>0.082</td>\n",
       "      <td>0.096</td>\n",
       "      <td>0.128</td>\n",
       "      <td>0.427</td>\n",
       "      <td>0.259</td>\n",
       "    </tr>\n",
       "    <tr>\n",
       "      <th>2020-10-13</th>\n",
       "      <td>1.0</td>\n",
       "      <td>0.674</td>\n",
       "      <td>0.189</td>\n",
       "      <td>0.139</td>\n",
       "      <td>0.091</td>\n",
       "      <td>0.110</td>\n",
       "      <td>0.129</td>\n",
       "      <td>0.135</td>\n",
       "      <td>0.129</td>\n",
       "      <td>0.353</td>\n",
       "      <td>0.437</td>\n",
       "    </tr>\n",
       "    <tr>\n",
       "      <th>2020-10-14</th>\n",
       "      <td>1.0</td>\n",
       "      <td>0.607</td>\n",
       "      <td>0.189</td>\n",
       "      <td>0.139</td>\n",
       "      <td>0.134</td>\n",
       "      <td>0.073</td>\n",
       "      <td>0.089</td>\n",
       "      <td>0.084</td>\n",
       "      <td>0.143</td>\n",
       "      <td>0.362</td>\n",
       "      <td>0.339</td>\n",
       "    </tr>\n",
       "  </tbody>\n",
       "</table>\n",
       "</div>"
      ],
      "text/plain": [
       "cohort_lifetime  0.0    1.0    2.0    3.0    4.0    5.0    6.0    7.0    8.0   \\\n",
       "reg_time                                                                        \n",
       "2020-10-05        1.0  0.515  0.176  0.147  0.103  0.029  0.074  0.081  0.118   \n",
       "2020-10-06        1.0  0.553  0.171  0.132  0.072  0.092  0.059  0.105  0.086   \n",
       "2020-10-07        1.0  0.673  0.168  0.096  0.111  0.082  0.082  0.043  0.096   \n",
       "2020-10-08        1.0  0.374  0.082  0.064  0.038  0.031  0.048  0.056  0.048   \n",
       "2020-10-09        1.0  0.887  0.168  0.124  0.075  0.070  0.062  0.058  0.076   \n",
       "2020-10-10        1.0  0.421  0.094  0.067  0.060  0.041  0.034  0.043  0.055   \n",
       "2020-10-11        1.0  0.478  0.204  0.131  0.102  0.089  0.102  0.093  0.118   \n",
       "2020-10-12        1.0  0.405  0.170  0.133  0.104  0.105  0.082  0.096  0.128   \n",
       "2020-10-13        1.0  0.674  0.189  0.139  0.091  0.110  0.129  0.135  0.129   \n",
       "2020-10-14        1.0  0.607  0.189  0.139  0.134  0.073  0.089  0.084  0.143   \n",
       "\n",
       "cohort_lifetime   9.0    10.0  \n",
       "reg_time                       \n",
       "2020-10-05       0.272  0.272  \n",
       "2020-10-06       0.178  0.336  \n",
       "2020-10-07       0.207  0.284  \n",
       "2020-10-08       0.124  0.125  \n",
       "2020-10-09       0.156  0.320  \n",
       "2020-10-10       0.151  0.151  \n",
       "2020-10-11       0.295  0.384  \n",
       "2020-10-12       0.427  0.259  \n",
       "2020-10-13       0.353  0.437  \n",
       "2020-10-14       0.362  0.339  "
      ]
     },
     "execution_count": 45,
     "metadata": {},
     "output_type": "execute_result"
    }
   ],
   "source": [
    "#Отражение данных в виде сводной таблицы\n",
    "retention_pivot = cohorts.pivot_table(index='reg_time', columns='cohort_lifetime',\n",
    "                                      values='retention', aggfunc='sum')\n",
    "retention_pivot.round(3).fillna('')"
   ]
  },
  {
   "cell_type": "code",
   "execution_count": 46,
   "id": "9d32adc8",
   "metadata": {
    "colab": {
     "base_uri": "https://localhost:8080/",
     "height": 804
    },
    "id": "9d32adc8",
    "outputId": "4cf60daa-7080-4e44-8eb0-108f4949e30c"
   },
   "outputs": [
    {
     "data": {
      "image/png": "[encoded data removed]",
      "text/plain": [
       "<Figure size 936x648 with 2 Axes>"
      ]
     },
     "metadata": {},
     "output_type": "display_data"
    }
   ],
   "source": [
    "#графическое отображение\n",
    "sns.set(style='white')\n",
    "plt.figure(figsize=(13, 9))\n",
    "plt.title('Cohorts: User Retention')\n",
    "sns.heatmap(retention_pivot, annot=True, fmt='.1%', linewidths=1, linecolor='gray', cmap = 'Blues');"
   ]
  },
  {
   "cell_type": "markdown",
   "id": "hsqZc8BcSyGx",
   "metadata": {
    "id": "hsqZc8BcSyGx"
   },
   "source": [
    "Проанализировав ретеншен  можно сделать следующие выводы:\n",
    "- существенное снижение возврата пользователя в приложение видно уже со второго дня не учитывая день установки.\n",
    "- увеличение ретеншен можно наблюдать на 9 - 10 дни.\n",
    "\n",
    "Я бы предложила обратить внимание на пользователей , которые пришли 08,10 и 10,10 - ретеншен ниже , чем у пользователей пришедших в другие дни.\n",
    "\n",
    "Так же здесь учитваются пользователи, не только за период 05-14,10 , для наглядности я бы предложила отфильтровать по последней сесии в этот период."
   ]
  },
  {
   "cell_type": "code",
   "execution_count": 47,
   "id": "b2f167e4",
   "metadata": {
    "id": "b2f167e4"
   },
   "outputs": [],
   "source": [
    "#Время, которое игроки проводят в игре."
   ]
  },
  {
   "cell_type": "code",
   "execution_count": 48,
   "id": "91c1a081",
   "metadata": {
    "colab": {
     "base_uri": "https://localhost:8080/",
     "height": 423
    },
    "id": "91c1a081",
    "outputId": "3ea1031c-a0c5-4bd1-f4f0-7ad4a8efb6fc"
   },
   "outputs": [
    {
     "data": {
      "text/html": [
       "<div>\n",
       "<style scoped>\n",
       "    .dataframe tbody tr th:only-of-type {\n",
       "        vertical-align: middle;\n",
       "    }\n",
       "\n",
       "    .dataframe tbody tr th {\n",
       "        vertical-align: top;\n",
       "    }\n",
       "\n",
       "    .dataframe thead th {\n",
       "        text-align: right;\n",
       "    }\n",
       "</style>\n",
       "<table border=\"1\" class=\"dataframe\">\n",
       "  <thead>\n",
       "    <tr style=\"text-align: right;\">\n",
       "      <th></th>\n",
       "      <th>user_id</th>\n",
       "      <th>close_time</th>\n",
       "      <th>open_time</th>\n",
       "      <th>duration</th>\n",
       "    </tr>\n",
       "  </thead>\n",
       "  <tbody>\n",
       "    <tr>\n",
       "      <th>0</th>\n",
       "      <td>862965630</td>\n",
       "      <td>2020-10-10 10:17:59.063000+00:00</td>\n",
       "      <td>2020-10-10 10:06:09.873000+00:00</td>\n",
       "      <td>709.190</td>\n",
       "    </tr>\n",
       "    <tr>\n",
       "      <th>1</th>\n",
       "      <td>5569239</td>\n",
       "      <td>2020-10-10 11:48:24.723000+00:00</td>\n",
       "      <td>2020-10-10 11:47:34.042000+00:00</td>\n",
       "      <td>50.681</td>\n",
       "    </tr>\n",
       "    <tr>\n",
       "      <th>2</th>\n",
       "      <td>5569239</td>\n",
       "      <td>2020-10-12 06:44:40.882000+00:00</td>\n",
       "      <td>2020-10-12 06:07:58.211000+00:00</td>\n",
       "      <td>2202.671</td>\n",
       "    </tr>\n",
       "    <tr>\n",
       "      <th>3</th>\n",
       "      <td>5569239</td>\n",
       "      <td>2020-10-12 10:02:58.226000+00:00</td>\n",
       "      <td>2020-10-12 09:51:06.953000+00:00</td>\n",
       "      <td>711.273</td>\n",
       "    </tr>\n",
       "    <tr>\n",
       "      <th>4</th>\n",
       "      <td>5569239</td>\n",
       "      <td>2020-10-13 10:58:32.193000+00:00</td>\n",
       "      <td>2020-10-13 10:46:19.641000+00:00</td>\n",
       "      <td>732.552</td>\n",
       "    </tr>\n",
       "    <tr>\n",
       "      <th>...</th>\n",
       "      <td>...</td>\n",
       "      <td>...</td>\n",
       "      <td>...</td>\n",
       "      <td>...</td>\n",
       "    </tr>\n",
       "    <tr>\n",
       "      <th>358029</th>\n",
       "      <td>542994995</td>\n",
       "      <td>2020-10-06 13:17:44.955000+00:00</td>\n",
       "      <td>2020-10-06 13:17:22.688000+00:00</td>\n",
       "      <td>22.267</td>\n",
       "    </tr>\n",
       "    <tr>\n",
       "      <th>358030</th>\n",
       "      <td>542994995</td>\n",
       "      <td>2020-10-06 14:59:02.977000+00:00</td>\n",
       "      <td>2020-10-06 14:52:20.997000+00:00</td>\n",
       "      <td>401.980</td>\n",
       "    </tr>\n",
       "    <tr>\n",
       "      <th>358031</th>\n",
       "      <td>542994995</td>\n",
       "      <td>2020-10-06 18:47:16.823000+00:00</td>\n",
       "      <td>2020-10-06 18:45:02.850000+00:00</td>\n",
       "      <td>133.973</td>\n",
       "    </tr>\n",
       "    <tr>\n",
       "      <th>358032</th>\n",
       "      <td>542994995</td>\n",
       "      <td>2020-10-06 19:22:15.696000+00:00</td>\n",
       "      <td>2020-10-06 19:21:32.383000+00:00</td>\n",
       "      <td>43.313</td>\n",
       "    </tr>\n",
       "    <tr>\n",
       "      <th>358033</th>\n",
       "      <td>542994995</td>\n",
       "      <td>2020-10-07 00:53:51.712000+00:00</td>\n",
       "      <td>2020-10-07 00:52:58.877000+00:00</td>\n",
       "      <td>52.835</td>\n",
       "    </tr>\n",
       "  </tbody>\n",
       "</table>\n",
       "<p>358034 rows × 4 columns</p>\n",
       "</div>"
      ],
      "text/plain": [
       "          user_id                       close_time  \\\n",
       "0       862965630 2020-10-10 10:17:59.063000+00:00   \n",
       "1         5569239 2020-10-10 11:48:24.723000+00:00   \n",
       "2         5569239 2020-10-12 06:44:40.882000+00:00   \n",
       "3         5569239 2020-10-12 10:02:58.226000+00:00   \n",
       "4         5569239 2020-10-13 10:58:32.193000+00:00   \n",
       "...           ...                              ...   \n",
       "358029  542994995 2020-10-06 13:17:44.955000+00:00   \n",
       "358030  542994995 2020-10-06 14:59:02.977000+00:00   \n",
       "358031  542994995 2020-10-06 18:47:16.823000+00:00   \n",
       "358032  542994995 2020-10-06 19:22:15.696000+00:00   \n",
       "358033  542994995 2020-10-07 00:53:51.712000+00:00   \n",
       "\n",
       "                              open_time  duration  \n",
       "0      2020-10-10 10:06:09.873000+00:00   709.190  \n",
       "1      2020-10-10 11:47:34.042000+00:00    50.681  \n",
       "2      2020-10-12 06:07:58.211000+00:00  2202.671  \n",
       "3      2020-10-12 09:51:06.953000+00:00   711.273  \n",
       "4      2020-10-13 10:46:19.641000+00:00   732.552  \n",
       "...                                 ...       ...  \n",
       "358029 2020-10-06 13:17:22.688000+00:00    22.267  \n",
       "358030 2020-10-06 14:52:20.997000+00:00   401.980  \n",
       "358031 2020-10-06 18:45:02.850000+00:00   133.973  \n",
       "358032 2020-10-06 19:21:32.383000+00:00    43.313  \n",
       "358033 2020-10-07 00:52:58.877000+00:00    52.835  \n",
       "\n",
       "[358034 rows x 4 columns]"
      ]
     },
     "execution_count": 48,
     "metadata": {},
     "output_type": "execute_result"
    }
   ],
   "source": [
    "session_close"
   ]
  },
  {
   "cell_type": "code",
   "execution_count": 49,
   "id": "d0166e49",
   "metadata": {
    "colab": {
     "base_uri": "https://localhost:8080/"
    },
    "id": "d0166e49",
    "outputId": "02e82b47-91a7-45cf-aeb7-12d8d96af6f7"
   },
   "outputs": [
    {
     "data": {
      "text/plain": [
       "12.50965916263034"
      ]
     },
     "execution_count": 49,
     "metadata": {},
     "output_type": "execute_result"
    }
   ],
   "source": [
    "mean_time = session_close.duration.mean()/60\n",
    "mean_time"
   ]
  },
  {
   "cell_type": "code",
   "execution_count": null,
   "id": "c9ecc39c",
   "metadata": {},
   "outputs": [],
   "source": []
  },
  {
   "cell_type": "markdown",
   "id": "WfBspedmY6vi",
   "metadata": {
    "id": "WfBspedmY6vi"
   },
   "source": [
    "В среднем пользователь проводит 12,51 минут в игре"
   ]
  },
  {
   "cell_type": "code",
   "execution_count": 50,
   "id": "971e5765",
   "metadata": {
    "id": "971e5765"
   },
   "outputs": [
    {
     "data": {
      "text/html": [
       "<div>\n",
       "<style scoped>\n",
       "    .dataframe tbody tr th:only-of-type {\n",
       "        vertical-align: middle;\n",
       "    }\n",
       "\n",
       "    .dataframe tbody tr th {\n",
       "        vertical-align: top;\n",
       "    }\n",
       "\n",
       "    .dataframe thead th {\n",
       "        text-align: right;\n",
       "    }\n",
       "</style>\n",
       "<table border=\"1\" class=\"dataframe\">\n",
       "  <thead>\n",
       "    <tr style=\"text-align: right;\">\n",
       "      <th></th>\n",
       "      <th>user_id</th>\n",
       "      <th>duration</th>\n",
       "      <th>duration_min</th>\n",
       "    </tr>\n",
       "  </thead>\n",
       "  <tbody>\n",
       "    <tr>\n",
       "      <th>0</th>\n",
       "      <td>100027314</td>\n",
       "      <td>193.343000</td>\n",
       "      <td>3.222383</td>\n",
       "    </tr>\n",
       "    <tr>\n",
       "      <th>1</th>\n",
       "      <td>100044206</td>\n",
       "      <td>28.610000</td>\n",
       "      <td>0.476833</td>\n",
       "    </tr>\n",
       "    <tr>\n",
       "      <th>2</th>\n",
       "      <td>100052283</td>\n",
       "      <td>252.103500</td>\n",
       "      <td>4.201725</td>\n",
       "    </tr>\n",
       "    <tr>\n",
       "      <th>3</th>\n",
       "      <td>100069353</td>\n",
       "      <td>71.054000</td>\n",
       "      <td>1.184233</td>\n",
       "    </tr>\n",
       "    <tr>\n",
       "      <th>4</th>\n",
       "      <td>100073694</td>\n",
       "      <td>590.758000</td>\n",
       "      <td>9.845967</td>\n",
       "    </tr>\n",
       "    <tr>\n",
       "      <th>...</th>\n",
       "      <td>...</td>\n",
       "      <td>...</td>\n",
       "      <td>...</td>\n",
       "    </tr>\n",
       "    <tr>\n",
       "      <th>31067</th>\n",
       "      <td>999806303</td>\n",
       "      <td>708.817000</td>\n",
       "      <td>11.813617</td>\n",
       "    </tr>\n",
       "    <tr>\n",
       "      <th>31068</th>\n",
       "      <td>999842733</td>\n",
       "      <td>1201.551250</td>\n",
       "      <td>20.025854</td>\n",
       "    </tr>\n",
       "    <tr>\n",
       "      <th>31069</th>\n",
       "      <td>999843309</td>\n",
       "      <td>1195.944479</td>\n",
       "      <td>19.932408</td>\n",
       "    </tr>\n",
       "    <tr>\n",
       "      <th>31070</th>\n",
       "      <td>999858624</td>\n",
       "      <td>44.478000</td>\n",
       "      <td>0.741300</td>\n",
       "    </tr>\n",
       "    <tr>\n",
       "      <th>31071</th>\n",
       "      <td>999862290</td>\n",
       "      <td>598.183500</td>\n",
       "      <td>9.969725</td>\n",
       "    </tr>\n",
       "  </tbody>\n",
       "</table>\n",
       "<p>31072 rows × 3 columns</p>\n",
       "</div>"
      ],
      "text/plain": [
       "         user_id     duration  duration_min\n",
       "0      100027314   193.343000      3.222383\n",
       "1      100044206    28.610000      0.476833\n",
       "2      100052283   252.103500      4.201725\n",
       "3      100069353    71.054000      1.184233\n",
       "4      100073694   590.758000      9.845967\n",
       "...          ...          ...           ...\n",
       "31067  999806303   708.817000     11.813617\n",
       "31068  999842733  1201.551250     20.025854\n",
       "31069  999843309  1195.944479     19.932408\n",
       "31070  999858624    44.478000      0.741300\n",
       "31071  999862290   598.183500      9.969725\n",
       "\n",
       "[31072 rows x 3 columns]"
      ]
     },
     "execution_count": 50,
     "metadata": {},
     "output_type": "execute_result"
    }
   ],
   "source": [
    "# Так же можем отдельно посмотреть среднее время по каждому пользователю\n",
    "mean_time_user = session_close.groupby('user_id').agg({'duration': 'mean'}).reset_index()\n",
    "mean_time_user['duration_min'] = mean_time_user['duration']/60\n",
    "mean_time_user"
   ]
  },
  {
   "cell_type": "code",
   "execution_count": 51,
   "id": "d6ff5821",
   "metadata": {},
   "outputs": [
    {
     "data": {
      "text/plain": [
       "0         3.222383\n",
       "1         0.476833\n",
       "2         4.201725\n",
       "3         1.184233\n",
       "4         9.845967\n",
       "           ...    \n",
       "31067    11.813617\n",
       "31068    20.025854\n",
       "31069    19.932408\n",
       "31070     0.741300\n",
       "31071     9.969725\n",
       "Name: duration_min, Length: 31072, dtype: float64"
      ]
     },
     "execution_count": 51,
     "metadata": {},
     "output_type": "execute_result"
    }
   ],
   "source": [
    "mean_time_user_plot = mean_time_user['duration_min']\n",
    "mean_time_user_plot"
   ]
  },
  {
   "cell_type": "code",
   "execution_count": 52,
   "id": "a73bbd33",
   "metadata": {
    "id": "a73bbd33"
   },
   "outputs": [],
   "source": [
    "#Задание 2\n",
    "#Как игроки продвигаются по квестам"
   ]
  },
  {
   "cell_type": "code",
   "execution_count": null,
   "id": "QIKpRK4k9TQp",
   "metadata": {
    "id": "QIKpRK4k9TQp"
   },
   "outputs": [],
   "source": []
  },
  {
   "cell_type": "code",
   "execution_count": 53,
   "id": "c3c9172a",
   "metadata": {
    "colab": {
     "base_uri": "https://localhost:8080/",
     "height": 423
    },
    "id": "c3c9172a",
    "outputId": "7acc0b72-cd2f-4678-861f-ebff731fb460"
   },
   "outputs": [
    {
     "data": {
      "text/html": [
       "<div>\n",
       "<style scoped>\n",
       "    .dataframe tbody tr th:only-of-type {\n",
       "        vertical-align: middle;\n",
       "    }\n",
       "\n",
       "    .dataframe tbody tr th {\n",
       "        vertical-align: top;\n",
       "    }\n",
       "\n",
       "    .dataframe thead th {\n",
       "        text-align: right;\n",
       "    }\n",
       "</style>\n",
       "<table border=\"1\" class=\"dataframe\">\n",
       "  <thead>\n",
       "    <tr style=\"text-align: right;\">\n",
       "      <th></th>\n",
       "      <th>user_id</th>\n",
       "      <th>time</th>\n",
       "      <th>quest</th>\n",
       "    </tr>\n",
       "  </thead>\n",
       "  <tbody>\n",
       "    <tr>\n",
       "      <th>0</th>\n",
       "      <td>155342012</td>\n",
       "      <td>2020-10-05 23:57:01.635002</td>\n",
       "      <td>quest_0</td>\n",
       "    </tr>\n",
       "    <tr>\n",
       "      <th>1</th>\n",
       "      <td>155342012</td>\n",
       "      <td>2020-10-05 23:57:46.630000</td>\n",
       "      <td>quest_1</td>\n",
       "    </tr>\n",
       "    <tr>\n",
       "      <th>2</th>\n",
       "      <td>155342012</td>\n",
       "      <td>2020-10-05 23:59:40.605000</td>\n",
       "      <td>quest_2</td>\n",
       "    </tr>\n",
       "    <tr>\n",
       "      <th>3</th>\n",
       "      <td>270186753</td>\n",
       "      <td>2020-10-07 03:56:52.096002</td>\n",
       "      <td>quest_0</td>\n",
       "    </tr>\n",
       "    <tr>\n",
       "      <th>4</th>\n",
       "      <td>270186753</td>\n",
       "      <td>2020-10-07 03:59:31.569000</td>\n",
       "      <td>quest_1</td>\n",
       "    </tr>\n",
       "    <tr>\n",
       "      <th>...</th>\n",
       "      <td>...</td>\n",
       "      <td>...</td>\n",
       "      <td>...</td>\n",
       "    </tr>\n",
       "    <tr>\n",
       "      <th>402922</th>\n",
       "      <td>743071603</td>\n",
       "      <td>2020-10-09 16:26:10.575002</td>\n",
       "      <td>quest_14</td>\n",
       "    </tr>\n",
       "    <tr>\n",
       "      <th>402923</th>\n",
       "      <td>743071603</td>\n",
       "      <td>2020-10-09 16:33:28.583001</td>\n",
       "      <td>quest_15</td>\n",
       "    </tr>\n",
       "    <tr>\n",
       "      <th>402924</th>\n",
       "      <td>743071603</td>\n",
       "      <td>2020-10-09 16:39:07.563002</td>\n",
       "      <td>quest_16</td>\n",
       "    </tr>\n",
       "    <tr>\n",
       "      <th>402925</th>\n",
       "      <td>743071603</td>\n",
       "      <td>2020-10-09 17:39:16.240002</td>\n",
       "      <td>quest_17</td>\n",
       "    </tr>\n",
       "    <tr>\n",
       "      <th>402926</th>\n",
       "      <td>743071603</td>\n",
       "      <td>2020-10-09 23:04:45.146001</td>\n",
       "      <td>quest_18</td>\n",
       "    </tr>\n",
       "  </tbody>\n",
       "</table>\n",
       "<p>402927 rows × 3 columns</p>\n",
       "</div>"
      ],
      "text/plain": [
       "          user_id                       time     quest\n",
       "0       155342012 2020-10-05 23:57:01.635002   quest_0\n",
       "1       155342012 2020-10-05 23:57:46.630000   quest_1\n",
       "2       155342012 2020-10-05 23:59:40.605000   quest_2\n",
       "3       270186753 2020-10-07 03:56:52.096002   quest_0\n",
       "4       270186753 2020-10-07 03:59:31.569000   quest_1\n",
       "...           ...                        ...       ...\n",
       "402922  743071603 2020-10-09 16:26:10.575002  quest_14\n",
       "402923  743071603 2020-10-09 16:33:28.583001  quest_15\n",
       "402924  743071603 2020-10-09 16:39:07.563002  quest_16\n",
       "402925  743071603 2020-10-09 17:39:16.240002  quest_17\n",
       "402926  743071603 2020-10-09 23:04:45.146001  quest_18\n",
       "\n",
       "[402927 rows x 3 columns]"
      ]
     },
     "execution_count": 53,
     "metadata": {},
     "output_type": "execute_result"
    }
   ],
   "source": [
    "quest_complete"
   ]
  },
  {
   "cell_type": "code",
   "execution_count": 54,
   "id": "6183f985",
   "metadata": {
    "colab": {
     "base_uri": "https://localhost:8080/",
     "height": 423
    },
    "id": "6183f985",
    "outputId": "d810346c-0b02-4340-bff0-ac0abef0d9e7"
   },
   "outputs": [
    {
     "data": {
      "text/html": [
       "<div>\n",
       "<style scoped>\n",
       "    .dataframe tbody tr th:only-of-type {\n",
       "        vertical-align: middle;\n",
       "    }\n",
       "\n",
       "    .dataframe tbody tr th {\n",
       "        vertical-align: top;\n",
       "    }\n",
       "\n",
       "    .dataframe thead th {\n",
       "        text-align: right;\n",
       "    }\n",
       "</style>\n",
       "<table border=\"1\" class=\"dataframe\">\n",
       "  <thead>\n",
       "    <tr style=\"text-align: right;\">\n",
       "      <th></th>\n",
       "      <th>user_id</th>\n",
       "      <th>time</th>\n",
       "      <th>quest</th>\n",
       "    </tr>\n",
       "  </thead>\n",
       "  <tbody>\n",
       "    <tr>\n",
       "      <th>0</th>\n",
       "      <td>531655022</td>\n",
       "      <td>2020-10-12 03:31:30.152001</td>\n",
       "      <td>quest_0</td>\n",
       "    </tr>\n",
       "    <tr>\n",
       "      <th>1</th>\n",
       "      <td>531655022</td>\n",
       "      <td>2020-10-12 03:32:12.735001</td>\n",
       "      <td>quest_1</td>\n",
       "    </tr>\n",
       "    <tr>\n",
       "      <th>2</th>\n",
       "      <td>531655022</td>\n",
       "      <td>2020-10-12 03:33:24.633000</td>\n",
       "      <td>quest_2</td>\n",
       "    </tr>\n",
       "    <tr>\n",
       "      <th>3</th>\n",
       "      <td>531655022</td>\n",
       "      <td>2020-10-12 03:33:32.126001</td>\n",
       "      <td>quest_3</td>\n",
       "    </tr>\n",
       "    <tr>\n",
       "      <th>4</th>\n",
       "      <td>531655022</td>\n",
       "      <td>2020-10-12 03:37:53.645002</td>\n",
       "      <td>quest_4</td>\n",
       "    </tr>\n",
       "    <tr>\n",
       "      <th>...</th>\n",
       "      <td>...</td>\n",
       "      <td>...</td>\n",
       "      <td>...</td>\n",
       "    </tr>\n",
       "    <tr>\n",
       "      <th>423100</th>\n",
       "      <td>743071603</td>\n",
       "      <td>2020-10-09 16:33:07.073001</td>\n",
       "      <td>quest_15</td>\n",
       "    </tr>\n",
       "    <tr>\n",
       "      <th>423101</th>\n",
       "      <td>743071603</td>\n",
       "      <td>2020-10-09 16:36:14.068001</td>\n",
       "      <td>quest_16</td>\n",
       "    </tr>\n",
       "    <tr>\n",
       "      <th>423102</th>\n",
       "      <td>743071603</td>\n",
       "      <td>2020-10-09 16:39:40.565001</td>\n",
       "      <td>quest_17</td>\n",
       "    </tr>\n",
       "    <tr>\n",
       "      <th>423103</th>\n",
       "      <td>743071603</td>\n",
       "      <td>2020-10-09 17:39:45.742001</td>\n",
       "      <td>quest_18</td>\n",
       "    </tr>\n",
       "    <tr>\n",
       "      <th>423104</th>\n",
       "      <td>743071603</td>\n",
       "      <td>2020-10-09 23:04:58.643001</td>\n",
       "      <td>quest_19</td>\n",
       "    </tr>\n",
       "  </tbody>\n",
       "</table>\n",
       "<p>423105 rows × 3 columns</p>\n",
       "</div>"
      ],
      "text/plain": [
       "          user_id                       time     quest\n",
       "0       531655022 2020-10-12 03:31:30.152001   quest_0\n",
       "1       531655022 2020-10-12 03:32:12.735001   quest_1\n",
       "2       531655022 2020-10-12 03:33:24.633000   quest_2\n",
       "3       531655022 2020-10-12 03:33:32.126001   quest_3\n",
       "4       531655022 2020-10-12 03:37:53.645002   quest_4\n",
       "...           ...                        ...       ...\n",
       "423100  743071603 2020-10-09 16:33:07.073001  quest_15\n",
       "423101  743071603 2020-10-09 16:36:14.068001  quest_16\n",
       "423102  743071603 2020-10-09 16:39:40.565001  quest_17\n",
       "423103  743071603 2020-10-09 17:39:45.742001  quest_18\n",
       "423104  743071603 2020-10-09 23:04:58.643001  quest_19\n",
       "\n",
       "[423105 rows x 3 columns]"
      ]
     },
     "execution_count": 54,
     "metadata": {},
     "output_type": "execute_result"
    }
   ],
   "source": [
    "quest_start"
   ]
  },
  {
   "cell_type": "code",
   "execution_count": 55,
   "id": "9954a3af",
   "metadata": {
    "id": "9954a3af"
   },
   "outputs": [],
   "source": [
    "#объединение таблиц\n",
    "level = pd.merge(quest_start, quest_complete, on=['user_id', 'quest'],  how = 'inner')"
   ]
  },
  {
   "cell_type": "code",
   "execution_count": 56,
   "id": "0TL7F1osnemZ",
   "metadata": {
    "colab": {
     "base_uri": "https://localhost:8080/",
     "height": 423
    },
    "id": "0TL7F1osnemZ",
    "outputId": "b52b1c80-3de9-4dbb-e02d-365f151a5775"
   },
   "outputs": [
    {
     "data": {
      "text/html": [
       "<div>\n",
       "<style scoped>\n",
       "    .dataframe tbody tr th:only-of-type {\n",
       "        vertical-align: middle;\n",
       "    }\n",
       "\n",
       "    .dataframe tbody tr th {\n",
       "        vertical-align: top;\n",
       "    }\n",
       "\n",
       "    .dataframe thead th {\n",
       "        text-align: right;\n",
       "    }\n",
       "</style>\n",
       "<table border=\"1\" class=\"dataframe\">\n",
       "  <thead>\n",
       "    <tr style=\"text-align: right;\">\n",
       "      <th></th>\n",
       "      <th>user_id</th>\n",
       "      <th>time_start</th>\n",
       "      <th>quest</th>\n",
       "      <th>time_finish</th>\n",
       "    </tr>\n",
       "  </thead>\n",
       "  <tbody>\n",
       "    <tr>\n",
       "      <th>0</th>\n",
       "      <td>531655022</td>\n",
       "      <td>2020-10-12 03:31:30.152001</td>\n",
       "      <td>quest_0</td>\n",
       "      <td>2020-10-12 03:32:12.735002</td>\n",
       "    </tr>\n",
       "    <tr>\n",
       "      <th>1</th>\n",
       "      <td>531655022</td>\n",
       "      <td>2020-10-12 03:32:12.735001</td>\n",
       "      <td>quest_1</td>\n",
       "      <td>2020-10-12 03:33:06.650001</td>\n",
       "    </tr>\n",
       "    <tr>\n",
       "      <th>2</th>\n",
       "      <td>531655022</td>\n",
       "      <td>2020-10-12 03:33:24.633000</td>\n",
       "      <td>quest_2</td>\n",
       "      <td>2020-10-12 03:33:32.125001</td>\n",
       "    </tr>\n",
       "    <tr>\n",
       "      <th>3</th>\n",
       "      <td>531655022</td>\n",
       "      <td>2020-10-12 03:33:32.126001</td>\n",
       "      <td>quest_3</td>\n",
       "      <td>2020-10-12 03:37:22.167002</td>\n",
       "    </tr>\n",
       "    <tr>\n",
       "      <th>4</th>\n",
       "      <td>531655022</td>\n",
       "      <td>2020-10-12 03:37:53.645002</td>\n",
       "      <td>quest_4</td>\n",
       "      <td>2020-10-12 03:46:06.639002</td>\n",
       "    </tr>\n",
       "    <tr>\n",
       "      <th>...</th>\n",
       "      <td>...</td>\n",
       "      <td>...</td>\n",
       "      <td>...</td>\n",
       "      <td>...</td>\n",
       "    </tr>\n",
       "    <tr>\n",
       "      <th>402913</th>\n",
       "      <td>743071603</td>\n",
       "      <td>2020-10-09 16:25:47.553003</td>\n",
       "      <td>quest_14</td>\n",
       "      <td>2020-10-09 16:26:10.575002</td>\n",
       "    </tr>\n",
       "    <tr>\n",
       "      <th>402914</th>\n",
       "      <td>743071603</td>\n",
       "      <td>2020-10-09 16:33:07.073001</td>\n",
       "      <td>quest_15</td>\n",
       "      <td>2020-10-09 16:33:28.583001</td>\n",
       "    </tr>\n",
       "    <tr>\n",
       "      <th>402915</th>\n",
       "      <td>743071603</td>\n",
       "      <td>2020-10-09 16:36:14.068001</td>\n",
       "      <td>quest_16</td>\n",
       "      <td>2020-10-09 16:39:07.563002</td>\n",
       "    </tr>\n",
       "    <tr>\n",
       "      <th>402916</th>\n",
       "      <td>743071603</td>\n",
       "      <td>2020-10-09 16:39:40.565001</td>\n",
       "      <td>quest_17</td>\n",
       "      <td>2020-10-09 17:39:16.240002</td>\n",
       "    </tr>\n",
       "    <tr>\n",
       "      <th>402917</th>\n",
       "      <td>743071603</td>\n",
       "      <td>2020-10-09 17:39:45.742001</td>\n",
       "      <td>quest_18</td>\n",
       "      <td>2020-10-09 23:04:45.146001</td>\n",
       "    </tr>\n",
       "  </tbody>\n",
       "</table>\n",
       "<p>402918 rows × 4 columns</p>\n",
       "</div>"
      ],
      "text/plain": [
       "          user_id                 time_start     quest  \\\n",
       "0       531655022 2020-10-12 03:31:30.152001   quest_0   \n",
       "1       531655022 2020-10-12 03:32:12.735001   quest_1   \n",
       "2       531655022 2020-10-12 03:33:24.633000   quest_2   \n",
       "3       531655022 2020-10-12 03:33:32.126001   quest_3   \n",
       "4       531655022 2020-10-12 03:37:53.645002   quest_4   \n",
       "...           ...                        ...       ...   \n",
       "402913  743071603 2020-10-09 16:25:47.553003  quest_14   \n",
       "402914  743071603 2020-10-09 16:33:07.073001  quest_15   \n",
       "402915  743071603 2020-10-09 16:36:14.068001  quest_16   \n",
       "402916  743071603 2020-10-09 16:39:40.565001  quest_17   \n",
       "402917  743071603 2020-10-09 17:39:45.742001  quest_18   \n",
       "\n",
       "                      time_finish  \n",
       "0      2020-10-12 03:32:12.735002  \n",
       "1      2020-10-12 03:33:06.650001  \n",
       "2      2020-10-12 03:33:32.125001  \n",
       "3      2020-10-12 03:37:22.167002  \n",
       "4      2020-10-12 03:46:06.639002  \n",
       "...                           ...  \n",
       "402913 2020-10-09 16:26:10.575002  \n",
       "402914 2020-10-09 16:33:28.583001  \n",
       "402915 2020-10-09 16:39:07.563002  \n",
       "402916 2020-10-09 17:39:16.240002  \n",
       "402917 2020-10-09 23:04:45.146001  \n",
       "\n",
       "[402918 rows x 4 columns]"
      ]
     },
     "execution_count": 56,
     "metadata": {},
     "output_type": "execute_result"
    }
   ],
   "source": [
    "#переименовываю колонки\n",
    "level = level.rename(columns={'time_x': 'time_start', 'time_y' : 'time_finish'})\n",
    "level"
   ]
  },
  {
   "cell_type": "code",
   "execution_count": 57,
   "id": "d9ecaa08",
   "metadata": {
    "colab": {
     "base_uri": "https://localhost:8080/",
     "height": 423
    },
    "id": "d9ecaa08",
    "outputId": "48d2e831-d9f8-40bc-a59f-59f3fca0f07d"
   },
   "outputs": [
    {
     "data": {
      "text/html": [
       "<div>\n",
       "<style scoped>\n",
       "    .dataframe tbody tr th:only-of-type {\n",
       "        vertical-align: middle;\n",
       "    }\n",
       "\n",
       "    .dataframe tbody tr th {\n",
       "        vertical-align: top;\n",
       "    }\n",
       "\n",
       "    .dataframe thead th {\n",
       "        text-align: right;\n",
       "    }\n",
       "</style>\n",
       "<table border=\"1\" class=\"dataframe\">\n",
       "  <thead>\n",
       "    <tr style=\"text-align: right;\">\n",
       "      <th></th>\n",
       "      <th>user_id</th>\n",
       "      <th>time_start</th>\n",
       "      <th>quest</th>\n",
       "      <th>time_finish</th>\n",
       "      <th>quest_time</th>\n",
       "    </tr>\n",
       "  </thead>\n",
       "  <tbody>\n",
       "    <tr>\n",
       "      <th>0</th>\n",
       "      <td>531655022</td>\n",
       "      <td>2020-10-12 03:31:30.152001</td>\n",
       "      <td>quest_0</td>\n",
       "      <td>2020-10-12 03:32:12.735002</td>\n",
       "      <td>0 days 00:00:42.583001</td>\n",
       "    </tr>\n",
       "    <tr>\n",
       "      <th>1</th>\n",
       "      <td>531655022</td>\n",
       "      <td>2020-10-12 03:32:12.735001</td>\n",
       "      <td>quest_1</td>\n",
       "      <td>2020-10-12 03:33:06.650001</td>\n",
       "      <td>0 days 00:00:53.915000</td>\n",
       "    </tr>\n",
       "    <tr>\n",
       "      <th>2</th>\n",
       "      <td>531655022</td>\n",
       "      <td>2020-10-12 03:33:24.633000</td>\n",
       "      <td>quest_2</td>\n",
       "      <td>2020-10-12 03:33:32.125001</td>\n",
       "      <td>0 days 00:00:07.492001</td>\n",
       "    </tr>\n",
       "    <tr>\n",
       "      <th>3</th>\n",
       "      <td>531655022</td>\n",
       "      <td>2020-10-12 03:33:32.126001</td>\n",
       "      <td>quest_3</td>\n",
       "      <td>2020-10-12 03:37:22.167002</td>\n",
       "      <td>0 days 00:03:50.041001</td>\n",
       "    </tr>\n",
       "    <tr>\n",
       "      <th>4</th>\n",
       "      <td>531655022</td>\n",
       "      <td>2020-10-12 03:37:53.645002</td>\n",
       "      <td>quest_4</td>\n",
       "      <td>2020-10-12 03:46:06.639002</td>\n",
       "      <td>0 days 00:08:12.994000</td>\n",
       "    </tr>\n",
       "    <tr>\n",
       "      <th>...</th>\n",
       "      <td>...</td>\n",
       "      <td>...</td>\n",
       "      <td>...</td>\n",
       "      <td>...</td>\n",
       "      <td>...</td>\n",
       "    </tr>\n",
       "    <tr>\n",
       "      <th>402913</th>\n",
       "      <td>743071603</td>\n",
       "      <td>2020-10-09 16:25:47.553003</td>\n",
       "      <td>quest_14</td>\n",
       "      <td>2020-10-09 16:26:10.575002</td>\n",
       "      <td>0 days 00:00:23.021999</td>\n",
       "    </tr>\n",
       "    <tr>\n",
       "      <th>402914</th>\n",
       "      <td>743071603</td>\n",
       "      <td>2020-10-09 16:33:07.073001</td>\n",
       "      <td>quest_15</td>\n",
       "      <td>2020-10-09 16:33:28.583001</td>\n",
       "      <td>0 days 00:00:21.510000</td>\n",
       "    </tr>\n",
       "    <tr>\n",
       "      <th>402915</th>\n",
       "      <td>743071603</td>\n",
       "      <td>2020-10-09 16:36:14.068001</td>\n",
       "      <td>quest_16</td>\n",
       "      <td>2020-10-09 16:39:07.563002</td>\n",
       "      <td>0 days 00:02:53.495001</td>\n",
       "    </tr>\n",
       "    <tr>\n",
       "      <th>402916</th>\n",
       "      <td>743071603</td>\n",
       "      <td>2020-10-09 16:39:40.565001</td>\n",
       "      <td>quest_17</td>\n",
       "      <td>2020-10-09 17:39:16.240002</td>\n",
       "      <td>0 days 00:59:35.675001</td>\n",
       "    </tr>\n",
       "    <tr>\n",
       "      <th>402917</th>\n",
       "      <td>743071603</td>\n",
       "      <td>2020-10-09 17:39:45.742001</td>\n",
       "      <td>quest_18</td>\n",
       "      <td>2020-10-09 23:04:45.146001</td>\n",
       "      <td>0 days 05:24:59.404000</td>\n",
       "    </tr>\n",
       "  </tbody>\n",
       "</table>\n",
       "<p>402918 rows × 5 columns</p>\n",
       "</div>"
      ],
      "text/plain": [
       "          user_id                 time_start     quest  \\\n",
       "0       531655022 2020-10-12 03:31:30.152001   quest_0   \n",
       "1       531655022 2020-10-12 03:32:12.735001   quest_1   \n",
       "2       531655022 2020-10-12 03:33:24.633000   quest_2   \n",
       "3       531655022 2020-10-12 03:33:32.126001   quest_3   \n",
       "4       531655022 2020-10-12 03:37:53.645002   quest_4   \n",
       "...           ...                        ...       ...   \n",
       "402913  743071603 2020-10-09 16:25:47.553003  quest_14   \n",
       "402914  743071603 2020-10-09 16:33:07.073001  quest_15   \n",
       "402915  743071603 2020-10-09 16:36:14.068001  quest_16   \n",
       "402916  743071603 2020-10-09 16:39:40.565001  quest_17   \n",
       "402917  743071603 2020-10-09 17:39:45.742001  quest_18   \n",
       "\n",
       "                      time_finish             quest_time  \n",
       "0      2020-10-12 03:32:12.735002 0 days 00:00:42.583001  \n",
       "1      2020-10-12 03:33:06.650001 0 days 00:00:53.915000  \n",
       "2      2020-10-12 03:33:32.125001 0 days 00:00:07.492001  \n",
       "3      2020-10-12 03:37:22.167002 0 days 00:03:50.041001  \n",
       "4      2020-10-12 03:46:06.639002 0 days 00:08:12.994000  \n",
       "...                           ...                    ...  \n",
       "402913 2020-10-09 16:26:10.575002 0 days 00:00:23.021999  \n",
       "402914 2020-10-09 16:33:28.583001 0 days 00:00:21.510000  \n",
       "402915 2020-10-09 16:39:07.563002 0 days 00:02:53.495001  \n",
       "402916 2020-10-09 17:39:16.240002 0 days 00:59:35.675001  \n",
       "402917 2020-10-09 23:04:45.146001 0 days 05:24:59.404000  \n",
       "\n",
       "[402918 rows x 5 columns]"
      ]
     },
     "execution_count": 57,
     "metadata": {},
     "output_type": "execute_result"
    }
   ],
   "source": [
    "#добавляю столбец quest_time с временем прохождения уровня\n",
    "level['quest_time']= (level['time_finish'] - level['time_start'])\n",
    "level"
   ]
  },
  {
   "cell_type": "code",
   "execution_count": 58,
   "id": "rSB7LIj8o5gs",
   "metadata": {
    "colab": {
     "base_uri": "https://localhost:8080/",
     "height": 423
    },
    "id": "rSB7LIj8o5gs",
    "outputId": "b24ba8cf-87b4-4668-b504-b1fc27896748"
   },
   "outputs": [
    {
     "data": {
      "text/html": [
       "<div>\n",
       "<style scoped>\n",
       "    .dataframe tbody tr th:only-of-type {\n",
       "        vertical-align: middle;\n",
       "    }\n",
       "\n",
       "    .dataframe tbody tr th {\n",
       "        vertical-align: top;\n",
       "    }\n",
       "\n",
       "    .dataframe thead th {\n",
       "        text-align: right;\n",
       "    }\n",
       "</style>\n",
       "<table border=\"1\" class=\"dataframe\">\n",
       "  <thead>\n",
       "    <tr style=\"text-align: right;\">\n",
       "      <th></th>\n",
       "      <th>quest</th>\n",
       "      <th>quest_time</th>\n",
       "    </tr>\n",
       "  </thead>\n",
       "  <tbody>\n",
       "    <tr>\n",
       "      <th>0</th>\n",
       "      <td>quest_0</td>\n",
       "      <td>0 days 00:23:58.829355091</td>\n",
       "    </tr>\n",
       "    <tr>\n",
       "      <th>1</th>\n",
       "      <td>quest_1</td>\n",
       "      <td>0 days 00:34:43.261365867</td>\n",
       "    </tr>\n",
       "    <tr>\n",
       "      <th>2</th>\n",
       "      <td>quest_10</td>\n",
       "      <td>0 days 00:18:08.487235024</td>\n",
       "    </tr>\n",
       "    <tr>\n",
       "      <th>3</th>\n",
       "      <td>quest_11</td>\n",
       "      <td>0 days 01:34:28.503465025</td>\n",
       "    </tr>\n",
       "    <tr>\n",
       "      <th>4</th>\n",
       "      <td>quest_12</td>\n",
       "      <td>0 days 00:40:19.531022087</td>\n",
       "    </tr>\n",
       "    <tr>\n",
       "      <th>...</th>\n",
       "      <td>...</td>\n",
       "      <td>...</td>\n",
       "    </tr>\n",
       "    <tr>\n",
       "      <th>73</th>\n",
       "      <td>quest_76</td>\n",
       "      <td>0 days 00:04:42.395571857</td>\n",
       "    </tr>\n",
       "    <tr>\n",
       "      <th>74</th>\n",
       "      <td>quest_77</td>\n",
       "      <td>0 days 00:16:33.877666833</td>\n",
       "    </tr>\n",
       "    <tr>\n",
       "      <th>75</th>\n",
       "      <td>quest_78</td>\n",
       "      <td>0 days 00:01:34.067166</td>\n",
       "    </tr>\n",
       "    <tr>\n",
       "      <th>76</th>\n",
       "      <td>quest_8</td>\n",
       "      <td>0 days 00:02:00.341233274</td>\n",
       "    </tr>\n",
       "    <tr>\n",
       "      <th>77</th>\n",
       "      <td>quest_9</td>\n",
       "      <td>0 days 00:25:12.773518800</td>\n",
       "    </tr>\n",
       "  </tbody>\n",
       "</table>\n",
       "<p>78 rows × 2 columns</p>\n",
       "</div>"
      ],
      "text/plain": [
       "       quest                quest_time\n",
       "0    quest_0 0 days 00:23:58.829355091\n",
       "1    quest_1 0 days 00:34:43.261365867\n",
       "2   quest_10 0 days 00:18:08.487235024\n",
       "3   quest_11 0 days 01:34:28.503465025\n",
       "4   quest_12 0 days 00:40:19.531022087\n",
       "..       ...                       ...\n",
       "73  quest_76 0 days 00:04:42.395571857\n",
       "74  quest_77 0 days 00:16:33.877666833\n",
       "75  quest_78    0 days 00:01:34.067166\n",
       "76   quest_8 0 days 00:02:00.341233274\n",
       "77   quest_9 0 days 00:25:12.773518800\n",
       "\n",
       "[78 rows x 2 columns]"
      ]
     },
     "execution_count": 58,
     "metadata": {},
     "output_type": "execute_result"
    }
   ],
   "source": [
    "level_groups = level.groupby('quest').agg({'quest_time': 'mean'}).reset_index()\n",
    "level_groups"
   ]
  },
  {
   "cell_type": "code",
   "execution_count": 59,
   "id": "vwNdym5Yq6As",
   "metadata": {
    "colab": {
     "base_uri": "https://localhost:8080/",
     "height": 423
    },
    "id": "vwNdym5Yq6As",
    "outputId": "346a5c07-135e-4fc2-c59b-68c3bfdfc241"
   },
   "outputs": [
    {
     "data": {
      "text/html": [
       "<div>\n",
       "<style scoped>\n",
       "    .dataframe tbody tr th:only-of-type {\n",
       "        vertical-align: middle;\n",
       "    }\n",
       "\n",
       "    .dataframe tbody tr th {\n",
       "        vertical-align: top;\n",
       "    }\n",
       "\n",
       "    .dataframe thead th {\n",
       "        text-align: right;\n",
       "    }\n",
       "</style>\n",
       "<table border=\"1\" class=\"dataframe\">\n",
       "  <thead>\n",
       "    <tr style=\"text-align: right;\">\n",
       "      <th></th>\n",
       "      <th>quest</th>\n",
       "      <th>quest_time</th>\n",
       "    </tr>\n",
       "  </thead>\n",
       "  <tbody>\n",
       "    <tr>\n",
       "      <th>19</th>\n",
       "      <td>quest_26</td>\n",
       "      <td>1 days 00:58:11.758055670</td>\n",
       "    </tr>\n",
       "    <tr>\n",
       "      <th>24</th>\n",
       "      <td>quest_30</td>\n",
       "      <td>1 days 00:31:55.427288300</td>\n",
       "    </tr>\n",
       "    <tr>\n",
       "      <th>30</th>\n",
       "      <td>quest_36</td>\n",
       "      <td>0 days 19:17:29.301060321</td>\n",
       "    </tr>\n",
       "    <tr>\n",
       "      <th>22</th>\n",
       "      <td>quest_29</td>\n",
       "      <td>0 days 14:53:31.560558079</td>\n",
       "    </tr>\n",
       "    <tr>\n",
       "      <th>33</th>\n",
       "      <td>quest_39</td>\n",
       "      <td>0 days 13:34:47.149813732</td>\n",
       "    </tr>\n",
       "    <tr>\n",
       "      <th>...</th>\n",
       "      <td>...</td>\n",
       "      <td>...</td>\n",
       "    </tr>\n",
       "    <tr>\n",
       "      <th>76</th>\n",
       "      <td>quest_8</td>\n",
       "      <td>0 days 00:02:00.341233274</td>\n",
       "    </tr>\n",
       "    <tr>\n",
       "      <th>75</th>\n",
       "      <td>quest_78</td>\n",
       "      <td>0 days 00:01:34.067166</td>\n",
       "    </tr>\n",
       "    <tr>\n",
       "      <th>63</th>\n",
       "      <td>quest_66</td>\n",
       "      <td>0 days 00:00:32.793219500</td>\n",
       "    </tr>\n",
       "    <tr>\n",
       "      <th>57</th>\n",
       "      <td>quest_60</td>\n",
       "      <td>0 days 00:00:32.473242796</td>\n",
       "    </tr>\n",
       "    <tr>\n",
       "      <th>65</th>\n",
       "      <td>quest_69</td>\n",
       "      <td>0 days 00:00:10.155502266</td>\n",
       "    </tr>\n",
       "  </tbody>\n",
       "</table>\n",
       "<p>78 rows × 2 columns</p>\n",
       "</div>"
      ],
      "text/plain": [
       "       quest                quest_time\n",
       "19  quest_26 1 days 00:58:11.758055670\n",
       "24  quest_30 1 days 00:31:55.427288300\n",
       "30  quest_36 0 days 19:17:29.301060321\n",
       "22  quest_29 0 days 14:53:31.560558079\n",
       "33  quest_39 0 days 13:34:47.149813732\n",
       "..       ...                       ...\n",
       "76   quest_8 0 days 00:02:00.341233274\n",
       "75  quest_78    0 days 00:01:34.067166\n",
       "63  quest_66 0 days 00:00:32.793219500\n",
       "57  quest_60 0 days 00:00:32.473242796\n",
       "65  quest_69 0 days 00:00:10.155502266\n",
       "\n",
       "[78 rows x 2 columns]"
      ]
     },
     "execution_count": 59,
     "metadata": {},
     "output_type": "execute_result"
    }
   ],
   "source": [
    "#сортируем по убыванию времени прохождения квеста\n",
    "level_groups.sort_values(by='quest_time', ascending=False)\n"
   ]
  },
  {
   "cell_type": "markdown",
   "id": "TT51-r5TurIM",
   "metadata": {
    "id": "TT51-r5TurIM"
   },
   "source": [
    "Видим , что из 78 квестов , пользователи больше всего потратили время на прохождение 26 квеста - 1 день 58 минут"
   ]
  },
  {
   "cell_type": "code",
   "execution_count": null,
   "id": "fa378aec",
   "metadata": {},
   "outputs": [],
   "source": []
  },
  {
   "cell_type": "code",
   "execution_count": 60,
   "id": "g66SSWklq6Db",
   "metadata": {
    "colab": {
     "base_uri": "https://localhost:8080/",
     "height": 423
    },
    "id": "g66SSWklq6Db",
    "outputId": "24b3e273-698e-447b-dcf2-22507c7f0a09"
   },
   "outputs": [
    {
     "data": {
      "text/html": [
       "<div>\n",
       "<style scoped>\n",
       "    .dataframe tbody tr th:only-of-type {\n",
       "        vertical-align: middle;\n",
       "    }\n",
       "\n",
       "    .dataframe tbody tr th {\n",
       "        vertical-align: top;\n",
       "    }\n",
       "\n",
       "    .dataframe thead th {\n",
       "        text-align: right;\n",
       "    }\n",
       "</style>\n",
       "<table border=\"1\" class=\"dataframe\">\n",
       "  <thead>\n",
       "    <tr style=\"text-align: right;\">\n",
       "      <th></th>\n",
       "      <th>quest</th>\n",
       "      <th>quest_time</th>\n",
       "    </tr>\n",
       "  </thead>\n",
       "  <tbody>\n",
       "    <tr>\n",
       "      <th>65</th>\n",
       "      <td>quest_69</td>\n",
       "      <td>0 days 00:00:10.155502266</td>\n",
       "    </tr>\n",
       "    <tr>\n",
       "      <th>57</th>\n",
       "      <td>quest_60</td>\n",
       "      <td>0 days 00:00:32.473242796</td>\n",
       "    </tr>\n",
       "    <tr>\n",
       "      <th>63</th>\n",
       "      <td>quest_66</td>\n",
       "      <td>0 days 00:00:32.793219500</td>\n",
       "    </tr>\n",
       "    <tr>\n",
       "      <th>75</th>\n",
       "      <td>quest_78</td>\n",
       "      <td>0 days 00:01:34.067166</td>\n",
       "    </tr>\n",
       "    <tr>\n",
       "      <th>76</th>\n",
       "      <td>quest_8</td>\n",
       "      <td>0 days 00:02:00.341233274</td>\n",
       "    </tr>\n",
       "    <tr>\n",
       "      <th>...</th>\n",
       "      <td>...</td>\n",
       "      <td>...</td>\n",
       "    </tr>\n",
       "    <tr>\n",
       "      <th>33</th>\n",
       "      <td>quest_39</td>\n",
       "      <td>0 days 13:34:47.149813732</td>\n",
       "    </tr>\n",
       "    <tr>\n",
       "      <th>22</th>\n",
       "      <td>quest_29</td>\n",
       "      <td>0 days 14:53:31.560558079</td>\n",
       "    </tr>\n",
       "    <tr>\n",
       "      <th>30</th>\n",
       "      <td>quest_36</td>\n",
       "      <td>0 days 19:17:29.301060321</td>\n",
       "    </tr>\n",
       "    <tr>\n",
       "      <th>24</th>\n",
       "      <td>quest_30</td>\n",
       "      <td>1 days 00:31:55.427288300</td>\n",
       "    </tr>\n",
       "    <tr>\n",
       "      <th>19</th>\n",
       "      <td>quest_26</td>\n",
       "      <td>1 days 00:58:11.758055670</td>\n",
       "    </tr>\n",
       "  </tbody>\n",
       "</table>\n",
       "<p>78 rows × 2 columns</p>\n",
       "</div>"
      ],
      "text/plain": [
       "       quest                quest_time\n",
       "65  quest_69 0 days 00:00:10.155502266\n",
       "57  quest_60 0 days 00:00:32.473242796\n",
       "63  quest_66 0 days 00:00:32.793219500\n",
       "75  quest_78    0 days 00:01:34.067166\n",
       "76   quest_8 0 days 00:02:00.341233274\n",
       "..       ...                       ...\n",
       "33  quest_39 0 days 13:34:47.149813732\n",
       "22  quest_29 0 days 14:53:31.560558079\n",
       "30  quest_36 0 days 19:17:29.301060321\n",
       "24  quest_30 1 days 00:31:55.427288300\n",
       "19  quest_26 1 days 00:58:11.758055670\n",
       "\n",
       "[78 rows x 2 columns]"
      ]
     },
     "execution_count": 60,
     "metadata": {},
     "output_type": "execute_result"
    }
   ],
   "source": [
    "#сортируем по возрастанию времени прохождения квеста\n",
    "level_groups.sort_values(by='quest_time', ascending=True)"
   ]
  },
  {
   "cell_type": "markdown",
   "id": "aSwqGi4tuvZE",
   "metadata": {
    "id": "aSwqGi4tuvZE"
   },
   "source": [
    "Видим , что из 78 квестов , пользователи меньше всего потратили время на прохождение 69 квеста - 10 секунд."
   ]
  },
  {
   "cell_type": "code",
   "execution_count": 61,
   "id": "2o1kbbj7owax",
   "metadata": {
    "colab": {
     "base_uri": "https://localhost:8080/"
    },
    "id": "2o1kbbj7owax",
    "outputId": "66156d31-39d6-4022-dc12-4f4132cbd0cb"
   },
   "outputs": [
    {
     "data": {
      "text/plain": [
       "user_id        30\n",
       "time_start     30\n",
       "quest          30\n",
       "time_finish    30\n",
       "quest_time     30\n",
       "dtype: int64"
      ]
     },
     "execution_count": 61,
     "metadata": {},
     "output_type": "execute_result"
    }
   ],
   "source": [
    "level.query(\"quest == 'quest_69'\").count()"
   ]
  },
  {
   "cell_type": "code",
   "execution_count": null,
   "id": "_MoY-HNc9U7P",
   "metadata": {
    "id": "_MoY-HNc9U7P"
   },
   "outputs": [],
   "source": []
  },
  {
   "cell_type": "code",
   "execution_count": 62,
   "id": "h16AYqqfowdx",
   "metadata": {
    "id": "h16AYqqfowdx"
   },
   "outputs": [],
   "source": [
    "#Задание 3\n",
    "#Как игроки продвигаются по уровням"
   ]
  },
  {
   "cell_type": "code",
   "execution_count": null,
   "id": "pRF-gHAH9VS0",
   "metadata": {
    "id": "pRF-gHAH9VS0"
   },
   "outputs": [],
   "source": []
  },
  {
   "cell_type": "code",
   "execution_count": 63,
   "id": "419e85d4",
   "metadata": {
    "colab": {
     "base_uri": "https://localhost:8080/",
     "height": 423
    },
    "id": "419e85d4",
    "outputId": "40619462-1e67-41cd-8495-812fcc743fee"
   },
   "outputs": [
    {
     "data": {
      "text/html": [
       "<div>\n",
       "<style scoped>\n",
       "    .dataframe tbody tr th:only-of-type {\n",
       "        vertical-align: middle;\n",
       "    }\n",
       "\n",
       "    .dataframe tbody tr th {\n",
       "        vertical-align: top;\n",
       "    }\n",
       "\n",
       "    .dataframe thead th {\n",
       "        text-align: right;\n",
       "    }\n",
       "</style>\n",
       "<table border=\"1\" class=\"dataframe\">\n",
       "  <thead>\n",
       "    <tr style=\"text-align: right;\">\n",
       "      <th></th>\n",
       "      <th>user_id</th>\n",
       "      <th>time</th>\n",
       "      <th>level</th>\n",
       "    </tr>\n",
       "  </thead>\n",
       "  <tbody>\n",
       "    <tr>\n",
       "      <th>0</th>\n",
       "      <td>380448720</td>\n",
       "      <td>2020-10-10 06:22:12.799003</td>\n",
       "      <td>2.0</td>\n",
       "    </tr>\n",
       "    <tr>\n",
       "      <th>1</th>\n",
       "      <td>380448720</td>\n",
       "      <td>2020-10-10 06:26:42.405003</td>\n",
       "      <td>3.0</td>\n",
       "    </tr>\n",
       "    <tr>\n",
       "      <th>2</th>\n",
       "      <td>380448720</td>\n",
       "      <td>2020-10-10 06:27:12.760003</td>\n",
       "      <td>4.0</td>\n",
       "    </tr>\n",
       "    <tr>\n",
       "      <th>3</th>\n",
       "      <td>598474555</td>\n",
       "      <td>2020-10-10 07:06:38.315003</td>\n",
       "      <td>2.0</td>\n",
       "    </tr>\n",
       "    <tr>\n",
       "      <th>4</th>\n",
       "      <td>598474555</td>\n",
       "      <td>2020-10-10 07:09:39.832003</td>\n",
       "      <td>3.0</td>\n",
       "    </tr>\n",
       "    <tr>\n",
       "      <th>...</th>\n",
       "      <td>...</td>\n",
       "      <td>...</td>\n",
       "      <td>...</td>\n",
       "    </tr>\n",
       "    <tr>\n",
       "      <th>130625</th>\n",
       "      <td>493177327</td>\n",
       "      <td>2020-10-15 18:13:33.880003</td>\n",
       "      <td>5.0</td>\n",
       "    </tr>\n",
       "    <tr>\n",
       "      <th>130626</th>\n",
       "      <td>493177327</td>\n",
       "      <td>2020-10-15 19:07:40.465003</td>\n",
       "      <td>6.0</td>\n",
       "    </tr>\n",
       "    <tr>\n",
       "      <th>130627</th>\n",
       "      <td>493177327</td>\n",
       "      <td>2020-10-15 20:06:02.250002</td>\n",
       "      <td>7.0</td>\n",
       "    </tr>\n",
       "    <tr>\n",
       "      <th>130628</th>\n",
       "      <td>493177327</td>\n",
       "      <td>2020-10-17 20:20:59.863003</td>\n",
       "      <td>8.0</td>\n",
       "    </tr>\n",
       "    <tr>\n",
       "      <th>130629</th>\n",
       "      <td>493177327</td>\n",
       "      <td>2020-10-20 20:47:59.148004</td>\n",
       "      <td>9.0</td>\n",
       "    </tr>\n",
       "  </tbody>\n",
       "</table>\n",
       "<p>130630 rows × 3 columns</p>\n",
       "</div>"
      ],
      "text/plain": [
       "          user_id                       time  level\n",
       "0       380448720 2020-10-10 06:22:12.799003    2.0\n",
       "1       380448720 2020-10-10 06:26:42.405003    3.0\n",
       "2       380448720 2020-10-10 06:27:12.760003    4.0\n",
       "3       598474555 2020-10-10 07:06:38.315003    2.0\n",
       "4       598474555 2020-10-10 07:09:39.832003    3.0\n",
       "...           ...                        ...    ...\n",
       "130625  493177327 2020-10-15 18:13:33.880003    5.0\n",
       "130626  493177327 2020-10-15 19:07:40.465003    6.0\n",
       "130627  493177327 2020-10-15 20:06:02.250002    7.0\n",
       "130628  493177327 2020-10-17 20:20:59.863003    8.0\n",
       "130629  493177327 2020-10-20 20:47:59.148004    9.0\n",
       "\n",
       "[130630 rows x 3 columns]"
      ]
     },
     "execution_count": 63,
     "metadata": {},
     "output_type": "execute_result"
    }
   ],
   "source": [
    "level_up"
   ]
  },
  {
   "cell_type": "code",
   "execution_count": 64,
   "id": "51f066f1",
   "metadata": {
    "id": "51f066f1"
   },
   "outputs": [],
   "source": [
    "level_up_groups = pd.read_sql('''\n",
    "    SELECT user_id, date(time), level FROM level_up\n",
    "''', con)"
   ]
  },
  {
   "cell_type": "code",
   "execution_count": 65,
   "id": "yTxAxqcM4oiv",
   "metadata": {
    "colab": {
     "base_uri": "https://localhost:8080/",
     "height": 423
    },
    "id": "yTxAxqcM4oiv",
    "outputId": "b7e9a979-f2f5-4ba1-81b1-27563a485958"
   },
   "outputs": [
    {
     "data": {
      "text/html": [
       "<div>\n",
       "<style scoped>\n",
       "    .dataframe tbody tr th:only-of-type {\n",
       "        vertical-align: middle;\n",
       "    }\n",
       "\n",
       "    .dataframe tbody tr th {\n",
       "        vertical-align: top;\n",
       "    }\n",
       "\n",
       "    .dataframe thead th {\n",
       "        text-align: right;\n",
       "    }\n",
       "</style>\n",
       "<table border=\"1\" class=\"dataframe\">\n",
       "  <thead>\n",
       "    <tr style=\"text-align: right;\">\n",
       "      <th></th>\n",
       "      <th>user_id</th>\n",
       "      <th>date(time)</th>\n",
       "      <th>level</th>\n",
       "    </tr>\n",
       "  </thead>\n",
       "  <tbody>\n",
       "    <tr>\n",
       "      <th>0</th>\n",
       "      <td>380448720</td>\n",
       "      <td>2020-10-10</td>\n",
       "      <td>2.0</td>\n",
       "    </tr>\n",
       "    <tr>\n",
       "      <th>1</th>\n",
       "      <td>380448720</td>\n",
       "      <td>2020-10-10</td>\n",
       "      <td>3.0</td>\n",
       "    </tr>\n",
       "    <tr>\n",
       "      <th>2</th>\n",
       "      <td>380448720</td>\n",
       "      <td>2020-10-10</td>\n",
       "      <td>4.0</td>\n",
       "    </tr>\n",
       "    <tr>\n",
       "      <th>3</th>\n",
       "      <td>598474555</td>\n",
       "      <td>2020-10-10</td>\n",
       "      <td>2.0</td>\n",
       "    </tr>\n",
       "    <tr>\n",
       "      <th>4</th>\n",
       "      <td>598474555</td>\n",
       "      <td>2020-10-10</td>\n",
       "      <td>3.0</td>\n",
       "    </tr>\n",
       "    <tr>\n",
       "      <th>...</th>\n",
       "      <td>...</td>\n",
       "      <td>...</td>\n",
       "      <td>...</td>\n",
       "    </tr>\n",
       "    <tr>\n",
       "      <th>130625</th>\n",
       "      <td>493177327</td>\n",
       "      <td>2020-10-15</td>\n",
       "      <td>5.0</td>\n",
       "    </tr>\n",
       "    <tr>\n",
       "      <th>130626</th>\n",
       "      <td>493177327</td>\n",
       "      <td>2020-10-15</td>\n",
       "      <td>6.0</td>\n",
       "    </tr>\n",
       "    <tr>\n",
       "      <th>130627</th>\n",
       "      <td>493177327</td>\n",
       "      <td>2020-10-15</td>\n",
       "      <td>7.0</td>\n",
       "    </tr>\n",
       "    <tr>\n",
       "      <th>130628</th>\n",
       "      <td>493177327</td>\n",
       "      <td>2020-10-17</td>\n",
       "      <td>8.0</td>\n",
       "    </tr>\n",
       "    <tr>\n",
       "      <th>130629</th>\n",
       "      <td>493177327</td>\n",
       "      <td>2020-10-20</td>\n",
       "      <td>9.0</td>\n",
       "    </tr>\n",
       "  </tbody>\n",
       "</table>\n",
       "<p>130630 rows × 3 columns</p>\n",
       "</div>"
      ],
      "text/plain": [
       "          user_id  date(time)  level\n",
       "0       380448720  2020-10-10    2.0\n",
       "1       380448720  2020-10-10    3.0\n",
       "2       380448720  2020-10-10    4.0\n",
       "3       598474555  2020-10-10    2.0\n",
       "4       598474555  2020-10-10    3.0\n",
       "...           ...         ...    ...\n",
       "130625  493177327  2020-10-15    5.0\n",
       "130626  493177327  2020-10-15    6.0\n",
       "130627  493177327  2020-10-15    7.0\n",
       "130628  493177327  2020-10-17    8.0\n",
       "130629  493177327  2020-10-20    9.0\n",
       "\n",
       "[130630 rows x 3 columns]"
      ]
     },
     "execution_count": 65,
     "metadata": {},
     "output_type": "execute_result"
    }
   ],
   "source": [
    "level_up_groups"
   ]
  },
  {
   "cell_type": "code",
   "execution_count": 66,
   "id": "qAznF4d24GOj",
   "metadata": {
    "colab": {
     "base_uri": "https://localhost:8080/",
     "height": 455
    },
    "id": "qAznF4d24GOj",
    "outputId": "f7c7eed7-9fce-464d-c44b-e569401e31d7"
   },
   "outputs": [
    {
     "data": {
      "text/html": [
       "<div>\n",
       "<style scoped>\n",
       "    .dataframe tbody tr th:only-of-type {\n",
       "        vertical-align: middle;\n",
       "    }\n",
       "\n",
       "    .dataframe tbody tr th {\n",
       "        vertical-align: top;\n",
       "    }\n",
       "\n",
       "    .dataframe thead th {\n",
       "        text-align: right;\n",
       "    }\n",
       "</style>\n",
       "<table border=\"1\" class=\"dataframe\">\n",
       "  <thead>\n",
       "    <tr style=\"text-align: right;\">\n",
       "      <th></th>\n",
       "      <th></th>\n",
       "      <th>user_id</th>\n",
       "    </tr>\n",
       "    <tr>\n",
       "      <th>date(time)</th>\n",
       "      <th>level</th>\n",
       "      <th></th>\n",
       "    </tr>\n",
       "  </thead>\n",
       "  <tbody>\n",
       "    <tr>\n",
       "      <th rowspan=\"5\" valign=\"top\">2020-10-05</th>\n",
       "      <th>2.0</th>\n",
       "      <td>302</td>\n",
       "    </tr>\n",
       "    <tr>\n",
       "      <th>3.0</th>\n",
       "      <td>267</td>\n",
       "    </tr>\n",
       "    <tr>\n",
       "      <th>4.0</th>\n",
       "      <td>232</td>\n",
       "    </tr>\n",
       "    <tr>\n",
       "      <th>5.0</th>\n",
       "      <td>177</td>\n",
       "    </tr>\n",
       "    <tr>\n",
       "      <th>6.0</th>\n",
       "      <td>137</td>\n",
       "    </tr>\n",
       "    <tr>\n",
       "      <th>...</th>\n",
       "      <th>...</th>\n",
       "      <td>...</td>\n",
       "    </tr>\n",
       "    <tr>\n",
       "      <th rowspan=\"5\" valign=\"top\">2020-10-24</th>\n",
       "      <th>11.0</th>\n",
       "      <td>3</td>\n",
       "    </tr>\n",
       "    <tr>\n",
       "      <th>12.0</th>\n",
       "      <td>8</td>\n",
       "    </tr>\n",
       "    <tr>\n",
       "      <th>14.0</th>\n",
       "      <td>2</td>\n",
       "    </tr>\n",
       "    <tr>\n",
       "      <th>15.0</th>\n",
       "      <td>3</td>\n",
       "    </tr>\n",
       "    <tr>\n",
       "      <th>20.0</th>\n",
       "      <td>1</td>\n",
       "    </tr>\n",
       "  </tbody>\n",
       "</table>\n",
       "<p>286 rows × 1 columns</p>\n",
       "</div>"
      ],
      "text/plain": [
       "                  user_id\n",
       "date(time) level         \n",
       "2020-10-05 2.0        302\n",
       "           3.0        267\n",
       "           4.0        232\n",
       "           5.0        177\n",
       "           6.0        137\n",
       "...                   ...\n",
       "2020-10-24 11.0         3\n",
       "           12.0         8\n",
       "           14.0         2\n",
       "           15.0         3\n",
       "           20.0         1\n",
       "\n",
       "[286 rows x 1 columns]"
      ]
     },
     "execution_count": 66,
     "metadata": {},
     "output_type": "execute_result"
    }
   ],
   "source": [
    "level_up_groups.groupby(['date(time)', 'level']).count()"
   ]
  },
  {
   "cell_type": "markdown",
   "id": "djwcafJf5Q1x",
   "metadata": {
    "id": "djwcafJf5Q1x"
   },
   "source": [
    "Можно посмотреть по дням какие уровни и сколько пользователей прошло"
   ]
  },
  {
   "cell_type": "code",
   "execution_count": 67,
   "id": "d034d9a9",
   "metadata": {
    "colab": {
     "base_uri": "https://localhost:8080/",
     "height": 676
    },
    "id": "d034d9a9",
    "outputId": "eac100c8-5788-412a-9eff-a1e05f664a99"
   },
   "outputs": [
    {
     "data": {
      "text/html": [
       "<div>\n",
       "<style scoped>\n",
       "    .dataframe tbody tr th:only-of-type {\n",
       "        vertical-align: middle;\n",
       "    }\n",
       "\n",
       "    .dataframe tbody tr th {\n",
       "        vertical-align: top;\n",
       "    }\n",
       "\n",
       "    .dataframe thead th {\n",
       "        text-align: right;\n",
       "    }\n",
       "</style>\n",
       "<table border=\"1\" class=\"dataframe\">\n",
       "  <thead>\n",
       "    <tr style=\"text-align: right;\">\n",
       "      <th></th>\n",
       "      <th>level</th>\n",
       "      <th>user_id</th>\n",
       "    </tr>\n",
       "  </thead>\n",
       "  <tbody>\n",
       "    <tr>\n",
       "      <th>0</th>\n",
       "      <td>2.0</td>\n",
       "      <td>25535</td>\n",
       "    </tr>\n",
       "    <tr>\n",
       "      <th>1</th>\n",
       "      <td>3.0</td>\n",
       "      <td>21367</td>\n",
       "    </tr>\n",
       "    <tr>\n",
       "      <th>2</th>\n",
       "      <td>4.0</td>\n",
       "      <td>17863</td>\n",
       "    </tr>\n",
       "    <tr>\n",
       "      <th>3</th>\n",
       "      <td>5.0</td>\n",
       "      <td>14439</td>\n",
       "    </tr>\n",
       "    <tr>\n",
       "      <th>4</th>\n",
       "      <td>6.0</td>\n",
       "      <td>12730</td>\n",
       "    </tr>\n",
       "    <tr>\n",
       "      <th>5</th>\n",
       "      <td>7.0</td>\n",
       "      <td>12084</td>\n",
       "    </tr>\n",
       "    <tr>\n",
       "      <th>6</th>\n",
       "      <td>8.0</td>\n",
       "      <td>10328</td>\n",
       "    </tr>\n",
       "    <tr>\n",
       "      <th>7</th>\n",
       "      <td>9.0</td>\n",
       "      <td>6598</td>\n",
       "    </tr>\n",
       "    <tr>\n",
       "      <th>8</th>\n",
       "      <td>10.0</td>\n",
       "      <td>4034</td>\n",
       "    </tr>\n",
       "    <tr>\n",
       "      <th>9</th>\n",
       "      <td>11.0</td>\n",
       "      <td>2636</td>\n",
       "    </tr>\n",
       "    <tr>\n",
       "      <th>10</th>\n",
       "      <td>12.0</td>\n",
       "      <td>1553</td>\n",
       "    </tr>\n",
       "    <tr>\n",
       "      <th>11</th>\n",
       "      <td>13.0</td>\n",
       "      <td>795</td>\n",
       "    </tr>\n",
       "    <tr>\n",
       "      <th>12</th>\n",
       "      <td>14.0</td>\n",
       "      <td>384</td>\n",
       "    </tr>\n",
       "    <tr>\n",
       "      <th>13</th>\n",
       "      <td>15.0</td>\n",
       "      <td>173</td>\n",
       "    </tr>\n",
       "    <tr>\n",
       "      <th>14</th>\n",
       "      <td>16.0</td>\n",
       "      <td>74</td>\n",
       "    </tr>\n",
       "    <tr>\n",
       "      <th>15</th>\n",
       "      <td>17.0</td>\n",
       "      <td>22</td>\n",
       "    </tr>\n",
       "    <tr>\n",
       "      <th>16</th>\n",
       "      <td>18.0</td>\n",
       "      <td>7</td>\n",
       "    </tr>\n",
       "    <tr>\n",
       "      <th>17</th>\n",
       "      <td>19.0</td>\n",
       "      <td>5</td>\n",
       "    </tr>\n",
       "    <tr>\n",
       "      <th>18</th>\n",
       "      <td>20.0</td>\n",
       "      <td>2</td>\n",
       "    </tr>\n",
       "    <tr>\n",
       "      <th>19</th>\n",
       "      <td>21.0</td>\n",
       "      <td>1</td>\n",
       "    </tr>\n",
       "  </tbody>\n",
       "</table>\n",
       "</div>"
      ],
      "text/plain": [
       "    level  user_id\n",
       "0     2.0    25535\n",
       "1     3.0    21367\n",
       "2     4.0    17863\n",
       "3     5.0    14439\n",
       "4     6.0    12730\n",
       "5     7.0    12084\n",
       "6     8.0    10328\n",
       "7     9.0     6598\n",
       "8    10.0     4034\n",
       "9    11.0     2636\n",
       "10   12.0     1553\n",
       "11   13.0      795\n",
       "12   14.0      384\n",
       "13   15.0      173\n",
       "14   16.0       74\n",
       "15   17.0       22\n",
       "16   18.0        7\n",
       "17   19.0        5\n",
       "18   20.0        2\n",
       "19   21.0        1"
      ]
     },
     "execution_count": 67,
     "metadata": {},
     "output_type": "execute_result"
    }
   ],
   "source": [
    "level_up_groups_plot = level_up_groups.groupby([\"level\"]).agg({\"user_id\": \"count\"}).reset_index()\n",
    "level_up_groups_plot"
   ]
  },
  {
   "cell_type": "markdown",
   "id": "SfD2LiUz7fPa",
   "metadata": {
    "id": "SfD2LiUz7fPa"
   },
   "source": [
    "Так же можно посмотреть какие уровни больше всего проходят пользователи. Видно , что с 8 уровня идет значительное уменьшение прохождения дальнейших уровней. Один из важных факторов - это то,  что не все пользователи пришли в приложение в один день."
   ]
  },
  {
   "cell_type": "code",
   "execution_count": 68,
   "id": "yOFTw6zq_gYK",
   "metadata": {
    "id": "yOFTw6zq_gYK"
   },
   "outputs": [
    {
     "data": {
      "image/png": "[encoded data removed]",
      "text/plain": [
       "<Figure size 720x720 with 1 Axes>"
      ]
     },
     "metadata": {},
     "output_type": "display_data"
    }
   ],
   "source": [
    "plt.figure(figsize = (10, 10))\n",
    "ax = sns.barplot(x=\"level\", y=\"user_id\", data=level_up_groups_plot)"
   ]
  },
  {
   "cell_type": "markdown",
   "id": "-6twqoKl_hjv",
   "metadata": {
    "id": "-6twqoKl_hjv"
   },
   "source": [
    "Монетизация"
   ]
  },
  {
   "cell_type": "code",
   "execution_count": 69,
   "id": "hB41mFyg_hpR",
   "metadata": {
    "id": "hB41mFyg_hpR"
   },
   "outputs": [],
   "source": [
    "#Задание 4 Показатели монетизации"
   ]
  },
  {
   "cell_type": "code",
   "execution_count": 70,
   "id": "ygD-qRLY7l5h",
   "metadata": {
    "colab": {
     "base_uri": "https://localhost:8080/",
     "height": 423
    },
    "id": "ygD-qRLY7l5h",
    "outputId": "c071dc56-22d8-4d76-fc15-f5ded0a02488"
   },
   "outputs": [
    {
     "data": {
      "text/html": [
       "<div>\n",
       "<style scoped>\n",
       "    .dataframe tbody tr th:only-of-type {\n",
       "        vertical-align: middle;\n",
       "    }\n",
       "\n",
       "    .dataframe tbody tr th {\n",
       "        vertical-align: top;\n",
       "    }\n",
       "\n",
       "    .dataframe thead th {\n",
       "        text-align: right;\n",
       "    }\n",
       "</style>\n",
       "<table border=\"1\" class=\"dataframe\">\n",
       "  <thead>\n",
       "    <tr style=\"text-align: right;\">\n",
       "      <th></th>\n",
       "      <th>user_id</th>\n",
       "      <th>time</th>\n",
       "      <th>amount</th>\n",
       "    </tr>\n",
       "  </thead>\n",
       "  <tbody>\n",
       "    <tr>\n",
       "      <th>0</th>\n",
       "      <td>833023813</td>\n",
       "      <td>2020-10-13 08:38:18.963</td>\n",
       "      <td>0.151908</td>\n",
       "    </tr>\n",
       "    <tr>\n",
       "      <th>1</th>\n",
       "      <td>930591363</td>\n",
       "      <td>2020-10-23 15:08:18.890</td>\n",
       "      <td>0.304580</td>\n",
       "    </tr>\n",
       "    <tr>\n",
       "      <th>2</th>\n",
       "      <td>617318093</td>\n",
       "      <td>2020-10-14 14:55:01.216</td>\n",
       "      <td>0.151908</td>\n",
       "    </tr>\n",
       "    <tr>\n",
       "      <th>3</th>\n",
       "      <td>613416547</td>\n",
       "      <td>2020-10-12 23:41:55.970</td>\n",
       "      <td>0.151908</td>\n",
       "    </tr>\n",
       "    <tr>\n",
       "      <th>4</th>\n",
       "      <td>574673385</td>\n",
       "      <td>2020-10-14 01:01:53.697</td>\n",
       "      <td>0.151908</td>\n",
       "    </tr>\n",
       "    <tr>\n",
       "      <th>...</th>\n",
       "      <td>...</td>\n",
       "      <td>...</td>\n",
       "      <td>...</td>\n",
       "    </tr>\n",
       "    <tr>\n",
       "      <th>695</th>\n",
       "      <td>953299048</td>\n",
       "      <td>2020-10-21 17:13:39.445</td>\n",
       "      <td>0.304580</td>\n",
       "    </tr>\n",
       "    <tr>\n",
       "      <th>696</th>\n",
       "      <td>885105419</td>\n",
       "      <td>2020-10-13 01:08:36.320</td>\n",
       "      <td>0.304580</td>\n",
       "    </tr>\n",
       "    <tr>\n",
       "      <th>697</th>\n",
       "      <td>723572556</td>\n",
       "      <td>2020-10-16 18:50:28.787</td>\n",
       "      <td>2.289313</td>\n",
       "    </tr>\n",
       "    <tr>\n",
       "      <th>698</th>\n",
       "      <td>885105419</td>\n",
       "      <td>2020-10-17 13:52:14.721</td>\n",
       "      <td>1.144275</td>\n",
       "    </tr>\n",
       "    <tr>\n",
       "      <th>699</th>\n",
       "      <td>714706192</td>\n",
       "      <td>2020-10-12 09:35:46.508</td>\n",
       "      <td>0.151908</td>\n",
       "    </tr>\n",
       "  </tbody>\n",
       "</table>\n",
       "<p>700 rows × 3 columns</p>\n",
       "</div>"
      ],
      "text/plain": [
       "       user_id                    time    amount\n",
       "0    833023813 2020-10-13 08:38:18.963  0.151908\n",
       "1    930591363 2020-10-23 15:08:18.890  0.304580\n",
       "2    617318093 2020-10-14 14:55:01.216  0.151908\n",
       "3    613416547 2020-10-12 23:41:55.970  0.151908\n",
       "4    574673385 2020-10-14 01:01:53.697  0.151908\n",
       "..         ...                     ...       ...\n",
       "695  953299048 2020-10-21 17:13:39.445  0.304580\n",
       "696  885105419 2020-10-13 01:08:36.320  0.304580\n",
       "697  723572556 2020-10-16 18:50:28.787  2.289313\n",
       "698  885105419 2020-10-17 13:52:14.721  1.144275\n",
       "699  714706192 2020-10-12 09:35:46.508  0.151908\n",
       "\n",
       "[700 rows x 3 columns]"
      ]
     },
     "execution_count": 70,
     "metadata": {},
     "output_type": "execute_result"
    }
   ],
   "source": [
    "payment"
   ]
  },
  {
   "cell_type": "code",
   "execution_count": 71,
   "id": "54ab72f5",
   "metadata": {},
   "outputs": [
    {
     "data": {
      "text/plain": [
       "0      0.151908\n",
       "1      0.304580\n",
       "2      0.151908\n",
       "3      0.151908\n",
       "4      0.151908\n",
       "         ...   \n",
       "695    0.304580\n",
       "696    0.304580\n",
       "697    2.289313\n",
       "698    1.144275\n",
       "699    0.151908\n",
       "Name: amount, Length: 700, dtype: float64"
      ]
     },
     "execution_count": 71,
     "metadata": {},
     "output_type": "execute_result"
    }
   ],
   "source": [
    "payment_amount = payment['amount']\n",
    "payment_amount"
   ]
  },
  {
   "cell_type": "code",
   "execution_count": 72,
   "id": "fca5a8d2",
   "metadata": {},
   "outputs": [
    {
     "data": {
      "text/plain": [
       "<AxesSubplot:>"
      ]
     },
     "execution_count": 72,
     "metadata": {},
     "output_type": "execute_result"
    },
    {
     "data": {
      "image/png": "[encoded data removed]",
      "text/plain": [
       "<Figure size 432x288 with 1 Axes>"
      ]
     },
     "metadata": {},
     "output_type": "display_data"
    }
   ],
   "source": [
    "color = {\n",
    "    \"boxes\": \"DarkGreen\",\n",
    "    \"whiskers\": \"DarkOrange\",\n",
    "    \"medians\": \"DarkBlue\",\n",
    "    \"caps\": \"Gray\",\n",
    "}\n",
    "payment.plot.box(color=color)"
   ]
  },
  {
   "cell_type": "markdown",
   "id": "156d6bb6",
   "metadata": {},
   "source": [
    "Из графика можем увидеть, что у нас есть выбросы ( аномально большие значения для совокупности), что их не так уж и много. И что большая часть оплат варьируется в диапазоне 0 до 1."
   ]
  },
  {
   "cell_type": "code",
   "execution_count": 73,
   "id": "ZOdgL2-T87Yf",
   "metadata": {
    "id": "ZOdgL2-T87Yf"
   },
   "outputs": [],
   "source": [
    "payment_groups = pd.read_sql('''\n",
    "    SELECT user_id, date(time), amount FROM payment\n",
    "''', con)"
   ]
  },
  {
   "cell_type": "code",
   "execution_count": 74,
   "id": "8DVQCnkn87bF",
   "metadata": {
    "colab": {
     "base_uri": "https://localhost:8080/",
     "height": 300
    },
    "id": "8DVQCnkn87bF",
    "outputId": "8666c836-a6cc-4d65-aa5f-f111a5023f59"
   },
   "outputs": [
    {
     "data": {
      "text/html": [
       "<div>\n",
       "<style scoped>\n",
       "    .dataframe tbody tr th:only-of-type {\n",
       "        vertical-align: middle;\n",
       "    }\n",
       "\n",
       "    .dataframe tbody tr th {\n",
       "        vertical-align: top;\n",
       "    }\n",
       "\n",
       "    .dataframe thead th {\n",
       "        text-align: right;\n",
       "    }\n",
       "</style>\n",
       "<table border=\"1\" class=\"dataframe\">\n",
       "  <thead>\n",
       "    <tr style=\"text-align: right;\">\n",
       "      <th></th>\n",
       "      <th>amount</th>\n",
       "    </tr>\n",
       "  </thead>\n",
       "  <tbody>\n",
       "    <tr>\n",
       "      <th>count</th>\n",
       "      <td>700.000000</td>\n",
       "    </tr>\n",
       "    <tr>\n",
       "      <th>mean</th>\n",
       "      <td>0.545342</td>\n",
       "    </tr>\n",
       "    <tr>\n",
       "      <th>std</th>\n",
       "      <td>0.793694</td>\n",
       "    </tr>\n",
       "    <tr>\n",
       "      <th>min</th>\n",
       "      <td>0.075573</td>\n",
       "    </tr>\n",
       "    <tr>\n",
       "      <th>25%</th>\n",
       "      <td>0.151908</td>\n",
       "    </tr>\n",
       "    <tr>\n",
       "      <th>50%</th>\n",
       "      <td>0.304580</td>\n",
       "    </tr>\n",
       "    <tr>\n",
       "      <th>75%</th>\n",
       "      <td>0.762595</td>\n",
       "    </tr>\n",
       "    <tr>\n",
       "      <th>max</th>\n",
       "      <td>7.632824</td>\n",
       "    </tr>\n",
       "  </tbody>\n",
       "</table>\n",
       "</div>"
      ],
      "text/plain": [
       "           amount\n",
       "count  700.000000\n",
       "mean     0.545342\n",
       "std      0.793694\n",
       "min      0.075573\n",
       "25%      0.151908\n",
       "50%      0.304580\n",
       "75%      0.762595\n",
       "max      7.632824"
      ]
     },
     "execution_count": 74,
     "metadata": {},
     "output_type": "execute_result"
    }
   ],
   "source": [
    "#вывод описательной статистики\n",
    "payment_groups.describe()"
   ]
  },
  {
   "cell_type": "markdown",
   "id": "M_nBQHoz88Ap",
   "metadata": {
    "id": "M_nBQHoz88Ap"
   },
   "source": [
    "- Кол-во платежей - 700\n",
    "- Среднее по сосокупности - 0.545342 \n",
    "- Максимальный платеж - 7.632824\n",
    "- Минимальный платеж - 0.075573\n",
    "- Медеанное значение - 0.304580"
   ]
  },
  {
   "cell_type": "code",
   "execution_count": 75,
   "id": "8y7ifi_n897K",
   "metadata": {
    "colab": {
     "base_uri": "https://localhost:8080/"
    },
    "id": "8y7ifi_n897K",
    "outputId": "77fa6fe4-7891-45b3-f593-8bb561d6dd83"
   },
   "outputs": [
    {
     "data": {
      "text/plain": [
       "381.73969465648855"
      ]
     },
     "execution_count": 75,
     "metadata": {},
     "output_type": "execute_result"
    }
   ],
   "source": [
    "#С данной когорты пользователй компания заработала 381.74 у.е.\n",
    "payment_groups.amount.sum()"
   ]
  },
  {
   "cell_type": "code",
   "execution_count": 76,
   "id": "I84nvN7rAko4",
   "metadata": {
    "colab": {
     "base_uri": "https://localhost:8080/"
    },
    "id": "I84nvN7rAko4",
    "outputId": "63f94e88-97da-4a09-d9c7-befcc3412012"
   },
   "outputs": [
    {
     "data": {
      "text/plain": [
       "1.219615637880155"
      ]
     },
     "execution_count": 76,
     "metadata": {},
     "output_type": "execute_result"
    }
   ],
   "source": [
    "ARPPU = 381.73969465648855/313\n",
    "ARPPU"
   ]
  },
  {
   "cell_type": "code",
   "execution_count": null,
   "id": "a4UT3YFoArpP",
   "metadata": {
    "id": "a4UT3YFoArpP"
   },
   "outputs": [],
   "source": []
  },
  {
   "cell_type": "code",
   "execution_count": 77,
   "id": "eTgnwzBQGnn4",
   "metadata": {
    "id": "eTgnwzBQGnn4"
   },
   "outputs": [],
   "source": [
    "#Задание 5 Первые платежи пользователей"
   ]
  },
  {
   "cell_type": "code",
   "execution_count": 78,
   "id": "ZfNnF52hHLpt",
   "metadata": {
    "colab": {
     "base_uri": "https://localhost:8080/"
    },
    "id": "ZfNnF52hHLpt",
    "outputId": "2196b698-7532-4b38-e228-b888b0a99d7b"
   },
   "outputs": [
    {
     "name": "stdout",
     "output_type": "stream",
     "text": [
      "<class 'pandas.core.series.Series'>\n",
      "Index: 313 entries, 108116306 to 997721742\n",
      "Series name: date(time)\n",
      "Non-Null Count  Dtype \n",
      "--------------  ----- \n",
      "313 non-null    object\n",
      "dtypes: object(1)\n",
      "memory usage: 4.9+ KB\n"
     ]
    }
   ],
   "source": [
    "first_payment = payment_groups.groupby('user_id')['date(time)'].min()\n",
    "first_payment.info()"
   ]
  },
  {
   "cell_type": "code",
   "execution_count": 79,
   "id": "Sy9cUqPxHLsI",
   "metadata": {
    "colab": {
     "base_uri": "https://localhost:8080/"
    },
    "id": "Sy9cUqPxHLsI",
    "outputId": "d187ee7b-c194-472f-f970-0894a5116607"
   },
   "outputs": [
    {
     "data": {
      "text/plain": [
       "313"
      ]
     },
     "execution_count": 79,
     "metadata": {},
     "output_type": "execute_result"
    }
   ],
   "source": [
    "#Видим, что только 313 пользователей из всех совершили хоть 1 покупку, 387 оплат - повторные\n",
    "payment_groups.user_id.nunique()"
   ]
  },
  {
   "cell_type": "code",
   "execution_count": 80,
   "id": "TGo2Ck5AMy_x",
   "metadata": {
    "colab": {
     "base_uri": "https://localhost:8080/"
    },
    "id": "TGo2Ck5AMy_x",
    "outputId": "513bb594-33e6-4463-a7e5-293776f1e031"
   },
   "outputs": [
    {
     "data": {
      "text/plain": [
       "387"
      ]
     },
     "execution_count": 80,
     "metadata": {},
     "output_type": "execute_result"
    }
   ],
   "source": [
    "700-313"
   ]
  },
  {
   "cell_type": "code",
   "execution_count": 81,
   "id": "eS7GGNvdG6Qa",
   "metadata": {
    "id": "eS7GGNvdG6Qa"
   },
   "outputs": [],
   "source": [
    "#Объединяю 2 таблицы\n",
    "install_payment = install_retention.merge(first_payment, on='user_id')"
   ]
  },
  {
   "cell_type": "code",
   "execution_count": 82,
   "id": "Je3xdD37UI48",
   "metadata": {
    "colab": {
     "base_uri": "https://localhost:8080/"
    },
    "id": "Je3xdD37UI48",
    "outputId": "04165fd5-c2bc-4a78-a79d-9a6c4a2516c0"
   },
   "outputs": [
    {
     "name": "stdout",
     "output_type": "stream",
     "text": [
      "<class 'pandas.core.frame.DataFrame'>\n",
      "Int64Index: 313 entries, 0 to 312\n",
      "Data columns (total 3 columns):\n",
      " #   Column      Non-Null Count  Dtype \n",
      "---  ------      --------------  ----- \n",
      " 0   user_id     313 non-null    object\n",
      " 1   reg_time    313 non-null    object\n",
      " 2   date(time)  313 non-null    object\n",
      "dtypes: object(3)\n",
      "memory usage: 9.8+ KB\n"
     ]
    }
   ],
   "source": [
    "# преобразовываю в нужный формат колонку time\n",
    "install_payment.info()"
   ]
  },
  {
   "cell_type": "code",
   "execution_count": 83,
   "id": "GXNjSS4NUcBb",
   "metadata": {
    "id": "GXNjSS4NUcBb"
   },
   "outputs": [],
   "source": [
    "install_payment['reg_time']= pd.to_datetime(install_payment['reg_time'], utc =True)\n",
    "install_payment['date(time)']= pd.to_datetime(install_payment['date(time)'], utc =True)"
   ]
  },
  {
   "cell_type": "code",
   "execution_count": 84,
   "id": "1NEJybvEUif9",
   "metadata": {
    "colab": {
     "base_uri": "https://localhost:8080/"
    },
    "id": "1NEJybvEUif9",
    "outputId": "190ae30d-50f0-4b30-ca88-bc68570d0752"
   },
   "outputs": [
    {
     "name": "stdout",
     "output_type": "stream",
     "text": [
      "<class 'pandas.core.frame.DataFrame'>\n",
      "Int64Index: 313 entries, 0 to 312\n",
      "Data columns (total 3 columns):\n",
      " #   Column      Non-Null Count  Dtype              \n",
      "---  ------      --------------  -----              \n",
      " 0   user_id     313 non-null    object             \n",
      " 1   reg_time    313 non-null    datetime64[ns, UTC]\n",
      " 2   date(time)  313 non-null    datetime64[ns, UTC]\n",
      "dtypes: datetime64[ns, UTC](2), object(1)\n",
      "memory usage: 9.8+ KB\n"
     ]
    }
   ],
   "source": [
    "install_payment.info()"
   ]
  },
  {
   "cell_type": "code",
   "execution_count": 85,
   "id": "Pa4_15QUQ_Po",
   "metadata": {
    "colab": {
     "base_uri": "https://localhost:8080/",
     "height": 423
    },
    "id": "Pa4_15QUQ_Po",
    "outputId": "e2bdb5c9-99fe-4375-8d5d-5f15213a43ff"
   },
   "outputs": [
    {
     "data": {
      "text/html": [
       "<div>\n",
       "<style scoped>\n",
       "    .dataframe tbody tr th:only-of-type {\n",
       "        vertical-align: middle;\n",
       "    }\n",
       "\n",
       "    .dataframe tbody tr th {\n",
       "        vertical-align: top;\n",
       "    }\n",
       "\n",
       "    .dataframe thead th {\n",
       "        text-align: right;\n",
       "    }\n",
       "</style>\n",
       "<table border=\"1\" class=\"dataframe\">\n",
       "  <thead>\n",
       "    <tr style=\"text-align: right;\">\n",
       "      <th></th>\n",
       "      <th>user_id</th>\n",
       "      <th>reg_time</th>\n",
       "      <th>date(time)</th>\n",
       "      <th>day_pay</th>\n",
       "    </tr>\n",
       "  </thead>\n",
       "  <tbody>\n",
       "    <tr>\n",
       "      <th>0</th>\n",
       "      <td>604432493</td>\n",
       "      <td>2020-10-09 00:00:00+00:00</td>\n",
       "      <td>2020-10-10 00:00:00+00:00</td>\n",
       "      <td>1</td>\n",
       "    </tr>\n",
       "    <tr>\n",
       "      <th>1</th>\n",
       "      <td>457244163</td>\n",
       "      <td>2020-10-11 00:00:00+00:00</td>\n",
       "      <td>2020-10-14 00:00:00+00:00</td>\n",
       "      <td>3</td>\n",
       "    </tr>\n",
       "    <tr>\n",
       "      <th>2</th>\n",
       "      <td>48789204</td>\n",
       "      <td>2020-10-12 00:00:00+00:00</td>\n",
       "      <td>2020-10-15 00:00:00+00:00</td>\n",
       "      <td>3</td>\n",
       "    </tr>\n",
       "    <tr>\n",
       "      <th>3</th>\n",
       "      <td>165761384</td>\n",
       "      <td>2020-10-12 00:00:00+00:00</td>\n",
       "      <td>2020-10-14 00:00:00+00:00</td>\n",
       "      <td>2</td>\n",
       "    </tr>\n",
       "    <tr>\n",
       "      <th>4</th>\n",
       "      <td>620410944</td>\n",
       "      <td>2020-10-13 00:00:00+00:00</td>\n",
       "      <td>2020-10-13 00:00:00+00:00</td>\n",
       "      <td>0</td>\n",
       "    </tr>\n",
       "    <tr>\n",
       "      <th>...</th>\n",
       "      <td>...</td>\n",
       "      <td>...</td>\n",
       "      <td>...</td>\n",
       "      <td>...</td>\n",
       "    </tr>\n",
       "    <tr>\n",
       "      <th>308</th>\n",
       "      <td>335479648</td>\n",
       "      <td>2020-10-07 00:00:00+00:00</td>\n",
       "      <td>2020-10-07 00:00:00+00:00</td>\n",
       "      <td>0</td>\n",
       "    </tr>\n",
       "    <tr>\n",
       "      <th>309</th>\n",
       "      <td>376434587</td>\n",
       "      <td>2020-10-12 00:00:00+00:00</td>\n",
       "      <td>2020-10-12 00:00:00+00:00</td>\n",
       "      <td>0</td>\n",
       "    </tr>\n",
       "    <tr>\n",
       "      <th>310</th>\n",
       "      <td>475501640</td>\n",
       "      <td>2020-10-14 00:00:00+00:00</td>\n",
       "      <td>2020-10-16 00:00:00+00:00</td>\n",
       "      <td>2</td>\n",
       "    </tr>\n",
       "    <tr>\n",
       "      <th>311</th>\n",
       "      <td>554225473</td>\n",
       "      <td>2020-10-13 00:00:00+00:00</td>\n",
       "      <td>2020-10-13 00:00:00+00:00</td>\n",
       "      <td>0</td>\n",
       "    </tr>\n",
       "    <tr>\n",
       "      <th>312</th>\n",
       "      <td>870384061</td>\n",
       "      <td>2020-10-14 00:00:00+00:00</td>\n",
       "      <td>2020-10-14 00:00:00+00:00</td>\n",
       "      <td>0</td>\n",
       "    </tr>\n",
       "  </tbody>\n",
       "</table>\n",
       "<p>313 rows × 4 columns</p>\n",
       "</div>"
      ],
      "text/plain": [
       "       user_id                  reg_time                date(time)  day_pay\n",
       "0    604432493 2020-10-09 00:00:00+00:00 2020-10-10 00:00:00+00:00        1\n",
       "1    457244163 2020-10-11 00:00:00+00:00 2020-10-14 00:00:00+00:00        3\n",
       "2     48789204 2020-10-12 00:00:00+00:00 2020-10-15 00:00:00+00:00        3\n",
       "3    165761384 2020-10-12 00:00:00+00:00 2020-10-14 00:00:00+00:00        2\n",
       "4    620410944 2020-10-13 00:00:00+00:00 2020-10-13 00:00:00+00:00        0\n",
       "..         ...                       ...                       ...      ...\n",
       "308  335479648 2020-10-07 00:00:00+00:00 2020-10-07 00:00:00+00:00        0\n",
       "309  376434587 2020-10-12 00:00:00+00:00 2020-10-12 00:00:00+00:00        0\n",
       "310  475501640 2020-10-14 00:00:00+00:00 2020-10-16 00:00:00+00:00        2\n",
       "311  554225473 2020-10-13 00:00:00+00:00 2020-10-13 00:00:00+00:00        0\n",
       "312  870384061 2020-10-14 00:00:00+00:00 2020-10-14 00:00:00+00:00        0\n",
       "\n",
       "[313 rows x 4 columns]"
      ]
     },
     "execution_count": 85,
     "metadata": {},
     "output_type": "execute_result"
    }
   ],
   "source": [
    "install_payment['day_pay'] = (install_payment['date(time)'] - install_payment['reg_time']).dt.days\n",
    "install_payment"
   ]
  },
  {
   "cell_type": "code",
   "execution_count": 86,
   "id": "IU2vCirjU8UN",
   "metadata": {
    "colab": {
     "base_uri": "https://localhost:8080/",
     "height": 363
    },
    "id": "IU2vCirjU8UN",
    "outputId": "af58d932-79c4-4570-8912-aae3688c6d54"
   },
   "outputs": [
    {
     "data": {
      "text/html": [
       "<div>\n",
       "<style scoped>\n",
       "    .dataframe tbody tr th:only-of-type {\n",
       "        vertical-align: middle;\n",
       "    }\n",
       "\n",
       "    .dataframe tbody tr th {\n",
       "        vertical-align: top;\n",
       "    }\n",
       "\n",
       "    .dataframe thead th {\n",
       "        text-align: right;\n",
       "    }\n",
       "</style>\n",
       "<table border=\"1\" class=\"dataframe\">\n",
       "  <thead>\n",
       "    <tr style=\"text-align: right;\">\n",
       "      <th></th>\n",
       "      <th>day_pay</th>\n",
       "      <th>user_id</th>\n",
       "    </tr>\n",
       "  </thead>\n",
       "  <tbody>\n",
       "    <tr>\n",
       "      <th>0</th>\n",
       "      <td>0</td>\n",
       "      <td>113</td>\n",
       "    </tr>\n",
       "    <tr>\n",
       "      <th>1</th>\n",
       "      <td>1</td>\n",
       "      <td>71</td>\n",
       "    </tr>\n",
       "    <tr>\n",
       "      <th>2</th>\n",
       "      <td>2</td>\n",
       "      <td>37</td>\n",
       "    </tr>\n",
       "    <tr>\n",
       "      <th>3</th>\n",
       "      <td>3</td>\n",
       "      <td>28</td>\n",
       "    </tr>\n",
       "    <tr>\n",
       "      <th>4</th>\n",
       "      <td>4</td>\n",
       "      <td>14</td>\n",
       "    </tr>\n",
       "    <tr>\n",
       "      <th>5</th>\n",
       "      <td>5</td>\n",
       "      <td>22</td>\n",
       "    </tr>\n",
       "    <tr>\n",
       "      <th>6</th>\n",
       "      <td>6</td>\n",
       "      <td>10</td>\n",
       "    </tr>\n",
       "    <tr>\n",
       "      <th>7</th>\n",
       "      <td>7</td>\n",
       "      <td>10</td>\n",
       "    </tr>\n",
       "    <tr>\n",
       "      <th>8</th>\n",
       "      <td>8</td>\n",
       "      <td>3</td>\n",
       "    </tr>\n",
       "    <tr>\n",
       "      <th>9</th>\n",
       "      <td>9</td>\n",
       "      <td>4</td>\n",
       "    </tr>\n",
       "    <tr>\n",
       "      <th>10</th>\n",
       "      <td>10</td>\n",
       "      <td>1</td>\n",
       "    </tr>\n",
       "  </tbody>\n",
       "</table>\n",
       "</div>"
      ],
      "text/plain": [
       "    day_pay  user_id\n",
       "0         0      113\n",
       "1         1       71\n",
       "2         2       37\n",
       "3         3       28\n",
       "4         4       14\n",
       "5         5       22\n",
       "6         6       10\n",
       "7         7       10\n",
       "8         8        3\n",
       "9         9        4\n",
       "10       10        1"
      ]
     },
     "execution_count": 86,
     "metadata": {},
     "output_type": "execute_result"
    }
   ],
   "source": [
    "#Можем увидеть , что первые платежи пользователь совершает уже в  день установки приложения.\n",
    "install_payment_count = install_payment.groupby([\"day_pay\"]).agg({\"user_id\": \"count\"}).reset_index()\n",
    "install_payment_count"
   ]
  },
  {
   "cell_type": "code",
   "execution_count": 87,
   "id": "FTfF6SY0dTVI",
   "metadata": {
    "id": "FTfF6SY0dTVI"
   },
   "outputs": [
    {
     "data": {
      "image/png": "[encoded data removed]",
      "text/plain": [
       "<Figure size 432x288 with 1 Axes>"
      ]
     },
     "metadata": {},
     "output_type": "display_data"
    }
   ],
   "source": [
    "ax_1 = sns.barplot(x=\"day_pay\", y=\"user_id\", data=install_payment_count)"
   ]
  },
  {
   "cell_type": "code",
   "execution_count": 88,
   "id": "zjJssxe5dke7",
   "metadata": {
    "id": "zjJssxe5dke7"
   },
   "outputs": [],
   "source": [
    "#Задание 6 Основная масса платежей пользователей"
   ]
  },
  {
   "cell_type": "code",
   "execution_count": 102,
   "id": "72Vr4Aiidyyj",
   "metadata": {
    "colab": {
     "base_uri": "https://localhost:8080/",
     "height": 423
    },
    "id": "72Vr4Aiidyyj",
    "outputId": "b493b458-e569-4912-cd90-1c7c4f2fe0ce"
   },
   "outputs": [
    {
     "name": "stdout",
     "output_type": "stream",
     "text": [
      "<class 'pandas.core.frame.DataFrame'>\n",
      "Int64Index: 700 entries, 0 to 699\n",
      "Data columns (total 4 columns):\n",
      " #   Column      Non-Null Count  Dtype  \n",
      "---  ------      --------------  -----  \n",
      " 0   user_id     700 non-null    object \n",
      " 1   reg_time    700 non-null    object \n",
      " 2   date(time)  700 non-null    object \n",
      " 3   amount      700 non-null    float64\n",
      "dtypes: float64(1), object(3)\n",
      "memory usage: 27.3+ KB\n"
     ]
    }
   ],
   "source": [
    "all_payment = install_retention.merge(payment_groups, on='user_id')\n",
    "all_payment.info()"
   ]
  },
  {
   "cell_type": "code",
   "execution_count": 104,
   "id": "917ad5e9",
   "metadata": {},
   "outputs": [],
   "source": [
    "payment_RFM=all_payment"
   ]
  },
  {
   "cell_type": "code",
   "execution_count": 90,
   "id": "d38d187d",
   "metadata": {},
   "outputs": [],
   "source": [
    "all_payment['reg_time']= pd.to_datetime(all_payment['reg_time'], utc =True)\n",
    "all_payment['date(time)']= pd.to_datetime(all_payment['date(time)'], utc =True)"
   ]
  },
  {
   "cell_type": "code",
   "execution_count": 91,
   "id": "3ff14747",
   "metadata": {},
   "outputs": [
    {
     "name": "stdout",
     "output_type": "stream",
     "text": [
      "<class 'pandas.core.frame.DataFrame'>\n",
      "Int64Index: 700 entries, 0 to 699\n",
      "Data columns (total 4 columns):\n",
      " #   Column      Non-Null Count  Dtype              \n",
      "---  ------      --------------  -----              \n",
      " 0   user_id     700 non-null    object             \n",
      " 1   reg_time    700 non-null    datetime64[ns, UTC]\n",
      " 2   date(time)  700 non-null    datetime64[ns, UTC]\n",
      " 3   amount      700 non-null    float64            \n",
      "dtypes: datetime64[ns, UTC](2), float64(1), object(1)\n",
      "memory usage: 27.3+ KB\n"
     ]
    }
   ],
   "source": [
    "all_payment.info()"
   ]
  },
  {
   "cell_type": "code",
   "execution_count": 92,
   "id": "eadcd39e",
   "metadata": {},
   "outputs": [
    {
     "data": {
      "text/html": [
       "<div>\n",
       "<style scoped>\n",
       "    .dataframe tbody tr th:only-of-type {\n",
       "        vertical-align: middle;\n",
       "    }\n",
       "\n",
       "    .dataframe tbody tr th {\n",
       "        vertical-align: top;\n",
       "    }\n",
       "\n",
       "    .dataframe thead th {\n",
       "        text-align: right;\n",
       "    }\n",
       "</style>\n",
       "<table border=\"1\" class=\"dataframe\">\n",
       "  <thead>\n",
       "    <tr style=\"text-align: right;\">\n",
       "      <th></th>\n",
       "      <th>user_id</th>\n",
       "      <th>reg_time</th>\n",
       "      <th>date(time)</th>\n",
       "      <th>amount</th>\n",
       "      <th>day_pay</th>\n",
       "    </tr>\n",
       "  </thead>\n",
       "  <tbody>\n",
       "    <tr>\n",
       "      <th>0</th>\n",
       "      <td>604432493</td>\n",
       "      <td>2020-10-09 00:00:00+00:00</td>\n",
       "      <td>2020-10-10 00:00:00+00:00</td>\n",
       "      <td>0.151908</td>\n",
       "      <td>1</td>\n",
       "    </tr>\n",
       "    <tr>\n",
       "      <th>1</th>\n",
       "      <td>604432493</td>\n",
       "      <td>2020-10-09 00:00:00+00:00</td>\n",
       "      <td>2020-10-10 00:00:00+00:00</td>\n",
       "      <td>0.304580</td>\n",
       "      <td>1</td>\n",
       "    </tr>\n",
       "    <tr>\n",
       "      <th>2</th>\n",
       "      <td>604432493</td>\n",
       "      <td>2020-10-09 00:00:00+00:00</td>\n",
       "      <td>2020-10-13 00:00:00+00:00</td>\n",
       "      <td>0.304580</td>\n",
       "      <td>4</td>\n",
       "    </tr>\n",
       "    <tr>\n",
       "      <th>3</th>\n",
       "      <td>604432493</td>\n",
       "      <td>2020-10-09 00:00:00+00:00</td>\n",
       "      <td>2020-10-13 00:00:00+00:00</td>\n",
       "      <td>0.304580</td>\n",
       "      <td>4</td>\n",
       "    </tr>\n",
       "    <tr>\n",
       "      <th>4</th>\n",
       "      <td>604432493</td>\n",
       "      <td>2020-10-09 00:00:00+00:00</td>\n",
       "      <td>2020-10-14 00:00:00+00:00</td>\n",
       "      <td>0.304580</td>\n",
       "      <td>5</td>\n",
       "    </tr>\n",
       "    <tr>\n",
       "      <th>...</th>\n",
       "      <td>...</td>\n",
       "      <td>...</td>\n",
       "      <td>...</td>\n",
       "      <td>...</td>\n",
       "      <td>...</td>\n",
       "    </tr>\n",
       "    <tr>\n",
       "      <th>695</th>\n",
       "      <td>376434587</td>\n",
       "      <td>2020-10-12 00:00:00+00:00</td>\n",
       "      <td>2020-10-12 00:00:00+00:00</td>\n",
       "      <td>1.525191</td>\n",
       "      <td>0</td>\n",
       "    </tr>\n",
       "    <tr>\n",
       "      <th>696</th>\n",
       "      <td>475501640</td>\n",
       "      <td>2020-10-14 00:00:00+00:00</td>\n",
       "      <td>2020-10-16 00:00:00+00:00</td>\n",
       "      <td>0.151908</td>\n",
       "      <td>2</td>\n",
       "    </tr>\n",
       "    <tr>\n",
       "      <th>697</th>\n",
       "      <td>475501640</td>\n",
       "      <td>2020-10-14 00:00:00+00:00</td>\n",
       "      <td>2020-10-20 00:00:00+00:00</td>\n",
       "      <td>1.144275</td>\n",
       "      <td>6</td>\n",
       "    </tr>\n",
       "    <tr>\n",
       "      <th>698</th>\n",
       "      <td>554225473</td>\n",
       "      <td>2020-10-13 00:00:00+00:00</td>\n",
       "      <td>2020-10-13 00:00:00+00:00</td>\n",
       "      <td>0.151908</td>\n",
       "      <td>0</td>\n",
       "    </tr>\n",
       "    <tr>\n",
       "      <th>699</th>\n",
       "      <td>870384061</td>\n",
       "      <td>2020-10-14 00:00:00+00:00</td>\n",
       "      <td>2020-10-14 00:00:00+00:00</td>\n",
       "      <td>0.151908</td>\n",
       "      <td>0</td>\n",
       "    </tr>\n",
       "  </tbody>\n",
       "</table>\n",
       "<p>700 rows × 5 columns</p>\n",
       "</div>"
      ],
      "text/plain": [
       "       user_id                  reg_time                date(time)    amount  \\\n",
       "0    604432493 2020-10-09 00:00:00+00:00 2020-10-10 00:00:00+00:00  0.151908   \n",
       "1    604432493 2020-10-09 00:00:00+00:00 2020-10-10 00:00:00+00:00  0.304580   \n",
       "2    604432493 2020-10-09 00:00:00+00:00 2020-10-13 00:00:00+00:00  0.304580   \n",
       "3    604432493 2020-10-09 00:00:00+00:00 2020-10-13 00:00:00+00:00  0.304580   \n",
       "4    604432493 2020-10-09 00:00:00+00:00 2020-10-14 00:00:00+00:00  0.304580   \n",
       "..         ...                       ...                       ...       ...   \n",
       "695  376434587 2020-10-12 00:00:00+00:00 2020-10-12 00:00:00+00:00  1.525191   \n",
       "696  475501640 2020-10-14 00:00:00+00:00 2020-10-16 00:00:00+00:00  0.151908   \n",
       "697  475501640 2020-10-14 00:00:00+00:00 2020-10-20 00:00:00+00:00  1.144275   \n",
       "698  554225473 2020-10-13 00:00:00+00:00 2020-10-13 00:00:00+00:00  0.151908   \n",
       "699  870384061 2020-10-14 00:00:00+00:00 2020-10-14 00:00:00+00:00  0.151908   \n",
       "\n",
       "     day_pay  \n",
       "0          1  \n",
       "1          1  \n",
       "2          4  \n",
       "3          4  \n",
       "4          5  \n",
       "..       ...  \n",
       "695        0  \n",
       "696        2  \n",
       "697        6  \n",
       "698        0  \n",
       "699        0  \n",
       "\n",
       "[700 rows x 5 columns]"
      ]
     },
     "execution_count": 92,
     "metadata": {},
     "output_type": "execute_result"
    }
   ],
   "source": [
    "all_payment['day_pay'] = (all_payment['date(time)'] - all_payment['reg_time']).dt.days\n",
    "all_payment"
   ]
  },
  {
   "cell_type": "code",
   "execution_count": 93,
   "id": "SU_DFLePdy0p",
   "metadata": {
    "colab": {
     "base_uri": "https://localhost:8080/",
     "height": 363
    },
    "id": "SU_DFLePdy0p",
    "outputId": "4db5ce0d-1bf3-47e3-a063-b682f8d18a68"
   },
   "outputs": [
    {
     "data": {
      "text/html": [
       "<div>\n",
       "<style scoped>\n",
       "    .dataframe tbody tr th:only-of-type {\n",
       "        vertical-align: middle;\n",
       "    }\n",
       "\n",
       "    .dataframe tbody tr th {\n",
       "        vertical-align: top;\n",
       "    }\n",
       "\n",
       "    .dataframe thead th {\n",
       "        text-align: right;\n",
       "    }\n",
       "</style>\n",
       "<table border=\"1\" class=\"dataframe\">\n",
       "  <thead>\n",
       "    <tr style=\"text-align: right;\">\n",
       "      <th></th>\n",
       "      <th>day_pay</th>\n",
       "      <th>user_id</th>\n",
       "      <th>amount</th>\n",
       "    </tr>\n",
       "  </thead>\n",
       "  <tbody>\n",
       "    <tr>\n",
       "      <th>0</th>\n",
       "      <td>0</td>\n",
       "      <td>166</td>\n",
       "      <td>104.371756</td>\n",
       "    </tr>\n",
       "    <tr>\n",
       "      <th>1</th>\n",
       "      <td>1</td>\n",
       "      <td>143</td>\n",
       "      <td>67.975573</td>\n",
       "    </tr>\n",
       "    <tr>\n",
       "      <th>2</th>\n",
       "      <td>2</td>\n",
       "      <td>78</td>\n",
       "      <td>38.108397</td>\n",
       "    </tr>\n",
       "    <tr>\n",
       "      <th>3</th>\n",
       "      <td>3</td>\n",
       "      <td>63</td>\n",
       "      <td>25.906107</td>\n",
       "    </tr>\n",
       "    <tr>\n",
       "      <th>4</th>\n",
       "      <td>4</td>\n",
       "      <td>70</td>\n",
       "      <td>36.511450</td>\n",
       "    </tr>\n",
       "    <tr>\n",
       "      <th>5</th>\n",
       "      <td>5</td>\n",
       "      <td>44</td>\n",
       "      <td>24.162595</td>\n",
       "    </tr>\n",
       "    <tr>\n",
       "      <th>6</th>\n",
       "      <td>6</td>\n",
       "      <td>34</td>\n",
       "      <td>21.348092</td>\n",
       "    </tr>\n",
       "    <tr>\n",
       "      <th>7</th>\n",
       "      <td>7</td>\n",
       "      <td>39</td>\n",
       "      <td>17.069466</td>\n",
       "    </tr>\n",
       "    <tr>\n",
       "      <th>8</th>\n",
       "      <td>8</td>\n",
       "      <td>28</td>\n",
       "      <td>20.283206</td>\n",
       "    </tr>\n",
       "    <tr>\n",
       "      <th>9</th>\n",
       "      <td>9</td>\n",
       "      <td>33</td>\n",
       "      <td>25.393893</td>\n",
       "    </tr>\n",
       "    <tr>\n",
       "      <th>10</th>\n",
       "      <td>10</td>\n",
       "      <td>2</td>\n",
       "      <td>0.609160</td>\n",
       "    </tr>\n",
       "  </tbody>\n",
       "</table>\n",
       "</div>"
      ],
      "text/plain": [
       "    day_pay  user_id      amount\n",
       "0         0      166  104.371756\n",
       "1         1      143   67.975573\n",
       "2         2       78   38.108397\n",
       "3         3       63   25.906107\n",
       "4         4       70   36.511450\n",
       "5         5       44   24.162595\n",
       "6         6       34   21.348092\n",
       "7         7       39   17.069466\n",
       "8         8       28   20.283206\n",
       "9         9       33   25.393893\n",
       "10       10        2    0.609160"
      ]
     },
     "execution_count": 93,
     "metadata": {},
     "output_type": "execute_result"
    }
   ],
   "source": [
    "#Можем увидеть , что основная масса платежей приходится на день установки.\n",
    "all_payment = all_payment.groupby([\"day_pay\"]).agg({\"user_id\": \"count\", \"amount\": \"sum\"}).reset_index()\n",
    "all_payment"
   ]
  },
  {
   "cell_type": "code",
   "execution_count": 94,
   "id": "f3dc2e57",
   "metadata": {},
   "outputs": [
    {
     "data": {
      "text/html": [
       "<div>\n",
       "<style scoped>\n",
       "    .dataframe tbody tr th:only-of-type {\n",
       "        vertical-align: middle;\n",
       "    }\n",
       "\n",
       "    .dataframe tbody tr th {\n",
       "        vertical-align: top;\n",
       "    }\n",
       "\n",
       "    .dataframe thead th {\n",
       "        text-align: right;\n",
       "    }\n",
       "</style>\n",
       "<table border=\"1\" class=\"dataframe\">\n",
       "  <thead>\n",
       "    <tr style=\"text-align: right;\">\n",
       "      <th></th>\n",
       "      <th>day_pay</th>\n",
       "      <th>user_id</th>\n",
       "      <th>share</th>\n",
       "    </tr>\n",
       "  </thead>\n",
       "  <tbody>\n",
       "    <tr>\n",
       "      <th>0</th>\n",
       "      <td>0</td>\n",
       "      <td>166</td>\n",
       "      <td>27.34</td>\n",
       "    </tr>\n",
       "    <tr>\n",
       "      <th>1</th>\n",
       "      <td>1</td>\n",
       "      <td>143</td>\n",
       "      <td>17.81</td>\n",
       "    </tr>\n",
       "    <tr>\n",
       "      <th>2</th>\n",
       "      <td>2</td>\n",
       "      <td>78</td>\n",
       "      <td>9.98</td>\n",
       "    </tr>\n",
       "    <tr>\n",
       "      <th>3</th>\n",
       "      <td>3</td>\n",
       "      <td>63</td>\n",
       "      <td>6.79</td>\n",
       "    </tr>\n",
       "    <tr>\n",
       "      <th>4</th>\n",
       "      <td>4</td>\n",
       "      <td>70</td>\n",
       "      <td>9.56</td>\n",
       "    </tr>\n",
       "    <tr>\n",
       "      <th>5</th>\n",
       "      <td>5</td>\n",
       "      <td>44</td>\n",
       "      <td>6.33</td>\n",
       "    </tr>\n",
       "    <tr>\n",
       "      <th>6</th>\n",
       "      <td>6</td>\n",
       "      <td>34</td>\n",
       "      <td>5.59</td>\n",
       "    </tr>\n",
       "    <tr>\n",
       "      <th>7</th>\n",
       "      <td>7</td>\n",
       "      <td>39</td>\n",
       "      <td>4.47</td>\n",
       "    </tr>\n",
       "    <tr>\n",
       "      <th>8</th>\n",
       "      <td>8</td>\n",
       "      <td>28</td>\n",
       "      <td>5.31</td>\n",
       "    </tr>\n",
       "    <tr>\n",
       "      <th>9</th>\n",
       "      <td>9</td>\n",
       "      <td>33</td>\n",
       "      <td>6.65</td>\n",
       "    </tr>\n",
       "    <tr>\n",
       "      <th>10</th>\n",
       "      <td>10</td>\n",
       "      <td>2</td>\n",
       "      <td>0.16</td>\n",
       "    </tr>\n",
       "  </tbody>\n",
       "</table>\n",
       "</div>"
      ],
      "text/plain": [
       "    day_pay  user_id  share\n",
       "0         0      166  27.34\n",
       "1         1      143  17.81\n",
       "2         2       78   9.98\n",
       "3         3       63   6.79\n",
       "4         4       70   9.56\n",
       "5         5       44   6.33\n",
       "6         6       34   5.59\n",
       "7         7       39   4.47\n",
       "8         8       28   5.31\n",
       "9         9       33   6.65\n",
       "10       10        2   0.16"
      ]
     },
     "execution_count": 94,
     "metadata": {},
     "output_type": "execute_result"
    }
   ],
   "source": [
    "all_payment['share'] = all_payment['amount'].apply(lambda x: x/(all_payment.amount.sum())*100).round(2)\n",
    "all_payment_share = all_payment[['day_pay', 'user_id', 'share']]\n",
    "all_payment_share"
   ]
  },
  {
   "cell_type": "code",
   "execution_count": 95,
   "id": "hT3idmnHXxAW",
   "metadata": {
    "id": "hT3idmnHXxAW"
   },
   "outputs": [
    {
     "data": {
      "image/png": "[encoded data removed]",
      "text/plain": [
       "<Figure size 432x288 with 1 Axes>"
      ]
     },
     "metadata": {},
     "output_type": "display_data"
    }
   ],
   "source": [
    "ax2 = all_payment_share.plot.scatter(x='day_pay',\n",
    "                      y='share',\n",
    "                      c='DarkBlue')"
   ]
  },
  {
   "cell_type": "code",
   "execution_count": 96,
   "id": "ADPeNJE2YiLH",
   "metadata": {
    "id": "ADPeNJE2YiLH"
   },
   "outputs": [
    {
     "data": {
      "text/plain": [
       "<AxesSubplot:xlabel='day_pay', ylabel='amount'>"
      ]
     },
     "execution_count": 96,
     "metadata": {},
     "output_type": "execute_result"
    },
    {
     "data": {
      "image/png": "[encoded data removed]",
      "text/plain": [
       "<Figure size 432x288 with 1 Axes>"
      ]
     },
     "metadata": {},
     "output_type": "display_data"
    }
   ],
   "source": [
    "all_payment_plot = all_payment[['day_pay','amount']]\n",
    "sns.barplot(data = all_payment_plot, x = 'day_pay', y = 'amount')"
   ]
  },
  {
   "cell_type": "code",
   "execution_count": 97,
   "id": "d2a12210",
   "metadata": {},
   "outputs": [
    {
     "data": {
      "text/plain": [
       "<AxesSubplot:>"
      ]
     },
     "execution_count": 97,
     "metadata": {},
     "output_type": "execute_result"
    },
    {
     "data": {
      "image/png": "[encoded data removed]",
      "text/plain": [
       "<Figure size 432x288 with 1 Axes>"
      ]
     },
     "metadata": {},
     "output_type": "display_data"
    }
   ],
   "source": [
    "all_payment_plot.amount.plot()"
   ]
  },
  {
   "cell_type": "markdown",
   "id": "2eded467",
   "metadata": {},
   "source": [
    "По результату проведенного анализа, я бы предложила обратить внимание на квесты, время прохождения которых меньше 1 - 2 минут  и на квест, время прохождение (в среднем) которого больше 1 дня.\n",
    "\n",
    "Так же посмотреть откуда пришли пользователи и провести когортный анализ по этим данным.\n",
    "\n",
    "Так же стоит посмотреть статистику прохождения уровней за более долгий период, возможно стоит обратить внимание на сложность уровней, где начинает отваливаться больший % пользователей\n"
   ]
  },
  {
   "cell_type": "code",
   "execution_count": null,
   "id": "84459ccd",
   "metadata": {},
   "outputs": [],
   "source": []
  },
  {
   "cell_type": "code",
   "execution_count": null,
   "id": "6c880495",
   "metadata": {},
   "outputs": [],
   "source": []
  },
  {
   "cell_type": "code",
   "execution_count": null,
   "id": "0e146c3a",
   "metadata": {},
   "outputs": [],
   "source": [
    "RFM"
   ]
  },
  {
   "cell_type": "code",
   "execution_count": 99,
   "id": "1b0c05a8",
   "metadata": {},
   "outputs": [
    {
     "data": {
      "text/html": [
       "<div>\n",
       "<style scoped>\n",
       "    .dataframe tbody tr th:only-of-type {\n",
       "        vertical-align: middle;\n",
       "    }\n",
       "\n",
       "    .dataframe tbody tr th {\n",
       "        vertical-align: top;\n",
       "    }\n",
       "\n",
       "    .dataframe thead th {\n",
       "        text-align: right;\n",
       "    }\n",
       "</style>\n",
       "<table border=\"1\" class=\"dataframe\">\n",
       "  <thead>\n",
       "    <tr style=\"text-align: right;\">\n",
       "      <th></th>\n",
       "      <th>user_id</th>\n",
       "      <th>reg_time</th>\n",
       "      <th>last_session</th>\n",
       "      <th>cohort_lifetime</th>\n",
       "    </tr>\n",
       "  </thead>\n",
       "  <tbody>\n",
       "    <tr>\n",
       "      <th>0</th>\n",
       "      <td>161961035</td>\n",
       "      <td>2020-10-10</td>\n",
       "      <td>2020-10-13</td>\n",
       "      <td>3.0</td>\n",
       "    </tr>\n",
       "    <tr>\n",
       "      <th>1</th>\n",
       "      <td>355714429</td>\n",
       "      <td>2020-10-10</td>\n",
       "      <td>2020-10-10</td>\n",
       "      <td>0.0</td>\n",
       "    </tr>\n",
       "    <tr>\n",
       "      <th>2</th>\n",
       "      <td>63172433</td>\n",
       "      <td>2020-10-10</td>\n",
       "      <td>2020-10-12</td>\n",
       "      <td>2.0</td>\n",
       "    </tr>\n",
       "    <tr>\n",
       "      <th>3</th>\n",
       "      <td>2468642</td>\n",
       "      <td>2020-10-10</td>\n",
       "      <td>2020-10-11</td>\n",
       "      <td>1.0</td>\n",
       "    </tr>\n",
       "    <tr>\n",
       "      <th>4</th>\n",
       "      <td>534509995</td>\n",
       "      <td>2020-10-10</td>\n",
       "      <td>2020-10-10</td>\n",
       "      <td>0.0</td>\n",
       "    </tr>\n",
       "    <tr>\n",
       "      <th>...</th>\n",
       "      <td>...</td>\n",
       "      <td>...</td>\n",
       "      <td>...</td>\n",
       "      <td>...</td>\n",
       "    </tr>\n",
       "    <tr>\n",
       "      <th>31110</th>\n",
       "      <td>748693294</td>\n",
       "      <td>2020-10-13</td>\n",
       "      <td>2020-10-23</td>\n",
       "      <td>10.0</td>\n",
       "    </tr>\n",
       "    <tr>\n",
       "      <th>31111</th>\n",
       "      <td>199709924</td>\n",
       "      <td>2020-10-13</td>\n",
       "      <td>2020-10-14</td>\n",
       "      <td>1.0</td>\n",
       "    </tr>\n",
       "    <tr>\n",
       "      <th>31112</th>\n",
       "      <td>55844383</td>\n",
       "      <td>2020-10-13</td>\n",
       "      <td>2020-10-15</td>\n",
       "      <td>2.0</td>\n",
       "    </tr>\n",
       "    <tr>\n",
       "      <th>31113</th>\n",
       "      <td>705325286</td>\n",
       "      <td>2020-10-14</td>\n",
       "      <td>2020-10-24</td>\n",
       "      <td>10.0</td>\n",
       "    </tr>\n",
       "    <tr>\n",
       "      <th>31114</th>\n",
       "      <td>746649790</td>\n",
       "      <td>2020-10-14</td>\n",
       "      <td>2020-10-17</td>\n",
       "      <td>3.0</td>\n",
       "    </tr>\n",
       "  </tbody>\n",
       "</table>\n",
       "<p>31072 rows × 4 columns</p>\n",
       "</div>"
      ],
      "text/plain": [
       "         user_id   reg_time last_session  cohort_lifetime\n",
       "0      161961035 2020-10-10   2020-10-13              3.0\n",
       "1      355714429 2020-10-10   2020-10-10              0.0\n",
       "2       63172433 2020-10-10   2020-10-12              2.0\n",
       "3        2468642 2020-10-10   2020-10-11              1.0\n",
       "4      534509995 2020-10-10   2020-10-10              0.0\n",
       "...          ...        ...          ...              ...\n",
       "31110  748693294 2020-10-13   2020-10-23             10.0\n",
       "31111  199709924 2020-10-13   2020-10-14              1.0\n",
       "31112   55844383 2020-10-13   2020-10-15              2.0\n",
       "31113  705325286 2020-10-14   2020-10-24             10.0\n",
       "31114  746649790 2020-10-14   2020-10-17              3.0\n",
       "\n",
       "[31072 rows x 4 columns]"
      ]
     },
     "execution_count": 99,
     "metadata": {},
     "output_type": "execute_result"
    }
   ],
   "source": [
    "retention"
   ]
  },
  {
   "cell_type": "code",
   "execution_count": 105,
   "id": "ddae0904",
   "metadata": {},
   "outputs": [
    {
     "data": {
      "text/html": [
       "<div>\n",
       "<style scoped>\n",
       "    .dataframe tbody tr th:only-of-type {\n",
       "        vertical-align: middle;\n",
       "    }\n",
       "\n",
       "    .dataframe tbody tr th {\n",
       "        vertical-align: top;\n",
       "    }\n",
       "\n",
       "    .dataframe thead th {\n",
       "        text-align: right;\n",
       "    }\n",
       "</style>\n",
       "<table border=\"1\" class=\"dataframe\">\n",
       "  <thead>\n",
       "    <tr style=\"text-align: right;\">\n",
       "      <th></th>\n",
       "      <th>user_id</th>\n",
       "      <th>reg_time</th>\n",
       "      <th>date(time)</th>\n",
       "      <th>amount</th>\n",
       "    </tr>\n",
       "  </thead>\n",
       "  <tbody>\n",
       "    <tr>\n",
       "      <th>0</th>\n",
       "      <td>604432493</td>\n",
       "      <td>2020-10-09</td>\n",
       "      <td>2020-10-10</td>\n",
       "      <td>0.151908</td>\n",
       "    </tr>\n",
       "    <tr>\n",
       "      <th>1</th>\n",
       "      <td>604432493</td>\n",
       "      <td>2020-10-09</td>\n",
       "      <td>2020-10-10</td>\n",
       "      <td>0.304580</td>\n",
       "    </tr>\n",
       "    <tr>\n",
       "      <th>2</th>\n",
       "      <td>604432493</td>\n",
       "      <td>2020-10-09</td>\n",
       "      <td>2020-10-13</td>\n",
       "      <td>0.304580</td>\n",
       "    </tr>\n",
       "    <tr>\n",
       "      <th>3</th>\n",
       "      <td>604432493</td>\n",
       "      <td>2020-10-09</td>\n",
       "      <td>2020-10-13</td>\n",
       "      <td>0.304580</td>\n",
       "    </tr>\n",
       "    <tr>\n",
       "      <th>4</th>\n",
       "      <td>604432493</td>\n",
       "      <td>2020-10-09</td>\n",
       "      <td>2020-10-14</td>\n",
       "      <td>0.304580</td>\n",
       "    </tr>\n",
       "    <tr>\n",
       "      <th>...</th>\n",
       "      <td>...</td>\n",
       "      <td>...</td>\n",
       "      <td>...</td>\n",
       "      <td>...</td>\n",
       "    </tr>\n",
       "    <tr>\n",
       "      <th>695</th>\n",
       "      <td>376434587</td>\n",
       "      <td>2020-10-12</td>\n",
       "      <td>2020-10-12</td>\n",
       "      <td>1.525191</td>\n",
       "    </tr>\n",
       "    <tr>\n",
       "      <th>696</th>\n",
       "      <td>475501640</td>\n",
       "      <td>2020-10-14</td>\n",
       "      <td>2020-10-16</td>\n",
       "      <td>0.151908</td>\n",
       "    </tr>\n",
       "    <tr>\n",
       "      <th>697</th>\n",
       "      <td>475501640</td>\n",
       "      <td>2020-10-14</td>\n",
       "      <td>2020-10-20</td>\n",
       "      <td>1.144275</td>\n",
       "    </tr>\n",
       "    <tr>\n",
       "      <th>698</th>\n",
       "      <td>554225473</td>\n",
       "      <td>2020-10-13</td>\n",
       "      <td>2020-10-13</td>\n",
       "      <td>0.151908</td>\n",
       "    </tr>\n",
       "    <tr>\n",
       "      <th>699</th>\n",
       "      <td>870384061</td>\n",
       "      <td>2020-10-14</td>\n",
       "      <td>2020-10-14</td>\n",
       "      <td>0.151908</td>\n",
       "    </tr>\n",
       "  </tbody>\n",
       "</table>\n",
       "<p>700 rows × 4 columns</p>\n",
       "</div>"
      ],
      "text/plain": [
       "       user_id    reg_time  date(time)    amount\n",
       "0    604432493  2020-10-09  2020-10-10  0.151908\n",
       "1    604432493  2020-10-09  2020-10-10  0.304580\n",
       "2    604432493  2020-10-09  2020-10-13  0.304580\n",
       "3    604432493  2020-10-09  2020-10-13  0.304580\n",
       "4    604432493  2020-10-09  2020-10-14  0.304580\n",
       "..         ...         ...         ...       ...\n",
       "695  376434587  2020-10-12  2020-10-12  1.525191\n",
       "696  475501640  2020-10-14  2020-10-16  0.151908\n",
       "697  475501640  2020-10-14  2020-10-20  1.144275\n",
       "698  554225473  2020-10-13  2020-10-13  0.151908\n",
       "699  870384061  2020-10-14  2020-10-14  0.151908\n",
       "\n",
       "[700 rows x 4 columns]"
      ]
     },
     "execution_count": 105,
     "metadata": {},
     "output_type": "execute_result"
    }
   ],
   "source": [
    "payment_RFM"
   ]
  },
  {
   "cell_type": "code",
   "execution_count": 142,
   "id": "b3bb1f79",
   "metadata": {},
   "outputs": [
    {
     "data": {
      "text/html": [
       "<div>\n",
       "<style scoped>\n",
       "    .dataframe tbody tr th:only-of-type {\n",
       "        vertical-align: middle;\n",
       "    }\n",
       "\n",
       "    .dataframe tbody tr th {\n",
       "        vertical-align: top;\n",
       "    }\n",
       "\n",
       "    .dataframe thead th {\n",
       "        text-align: right;\n",
       "    }\n",
       "</style>\n",
       "<table border=\"1\" class=\"dataframe\">\n",
       "  <thead>\n",
       "    <tr style=\"text-align: right;\">\n",
       "      <th></th>\n",
       "      <th>user_id</th>\n",
       "      <th>reg_time_x</th>\n",
       "      <th>last_session</th>\n",
       "      <th>cohort_lifetime</th>\n",
       "      <th>reg_time_y</th>\n",
       "      <th>date(time)</th>\n",
       "      <th>amount</th>\n",
       "      <th>count</th>\n",
       "    </tr>\n",
       "  </thead>\n",
       "  <tbody>\n",
       "    <tr>\n",
       "      <th>52</th>\n",
       "      <td>604432493</td>\n",
       "      <td>2020-10-09</td>\n",
       "      <td>2020-10-18</td>\n",
       "      <td>9.0</td>\n",
       "      <td>2020-10-09</td>\n",
       "      <td>2020-10-10</td>\n",
       "      <td>0.151908</td>\n",
       "      <td>1</td>\n",
       "    </tr>\n",
       "    <tr>\n",
       "      <th>53</th>\n",
       "      <td>604432493</td>\n",
       "      <td>2020-10-09</td>\n",
       "      <td>2020-10-18</td>\n",
       "      <td>9.0</td>\n",
       "      <td>2020-10-09</td>\n",
       "      <td>2020-10-10</td>\n",
       "      <td>0.304580</td>\n",
       "      <td>1</td>\n",
       "    </tr>\n",
       "    <tr>\n",
       "      <th>54</th>\n",
       "      <td>604432493</td>\n",
       "      <td>2020-10-09</td>\n",
       "      <td>2020-10-18</td>\n",
       "      <td>9.0</td>\n",
       "      <td>2020-10-09</td>\n",
       "      <td>2020-10-13</td>\n",
       "      <td>0.304580</td>\n",
       "      <td>1</td>\n",
       "    </tr>\n",
       "    <tr>\n",
       "      <th>55</th>\n",
       "      <td>604432493</td>\n",
       "      <td>2020-10-09</td>\n",
       "      <td>2020-10-18</td>\n",
       "      <td>9.0</td>\n",
       "      <td>2020-10-09</td>\n",
       "      <td>2020-10-13</td>\n",
       "      <td>0.304580</td>\n",
       "      <td>1</td>\n",
       "    </tr>\n",
       "    <tr>\n",
       "      <th>56</th>\n",
       "      <td>604432493</td>\n",
       "      <td>2020-10-09</td>\n",
       "      <td>2020-10-18</td>\n",
       "      <td>9.0</td>\n",
       "      <td>2020-10-09</td>\n",
       "      <td>2020-10-14</td>\n",
       "      <td>0.304580</td>\n",
       "      <td>1</td>\n",
       "    </tr>\n",
       "    <tr>\n",
       "      <th>...</th>\n",
       "      <td>...</td>\n",
       "      <td>...</td>\n",
       "      <td>...</td>\n",
       "      <td>...</td>\n",
       "      <td>...</td>\n",
       "      <td>...</td>\n",
       "      <td>...</td>\n",
       "      <td>...</td>\n",
       "    </tr>\n",
       "    <tr>\n",
       "      <th>31264</th>\n",
       "      <td>376434587</td>\n",
       "      <td>2020-10-12</td>\n",
       "      <td>2020-10-22</td>\n",
       "      <td>10.0</td>\n",
       "      <td>2020-10-12</td>\n",
       "      <td>2020-10-12</td>\n",
       "      <td>1.525191</td>\n",
       "      <td>1</td>\n",
       "    </tr>\n",
       "    <tr>\n",
       "      <th>31283</th>\n",
       "      <td>475501640</td>\n",
       "      <td>2020-10-14</td>\n",
       "      <td>2020-10-23</td>\n",
       "      <td>9.0</td>\n",
       "      <td>2020-10-14</td>\n",
       "      <td>2020-10-16</td>\n",
       "      <td>0.151908</td>\n",
       "      <td>1</td>\n",
       "    </tr>\n",
       "    <tr>\n",
       "      <th>31284</th>\n",
       "      <td>475501640</td>\n",
       "      <td>2020-10-14</td>\n",
       "      <td>2020-10-23</td>\n",
       "      <td>9.0</td>\n",
       "      <td>2020-10-14</td>\n",
       "      <td>2020-10-20</td>\n",
       "      <td>1.144275</td>\n",
       "      <td>1</td>\n",
       "    </tr>\n",
       "    <tr>\n",
       "      <th>31398</th>\n",
       "      <td>554225473</td>\n",
       "      <td>2020-10-13</td>\n",
       "      <td>2020-10-18</td>\n",
       "      <td>5.0</td>\n",
       "      <td>2020-10-13</td>\n",
       "      <td>2020-10-13</td>\n",
       "      <td>0.151908</td>\n",
       "      <td>1</td>\n",
       "    </tr>\n",
       "    <tr>\n",
       "      <th>31411</th>\n",
       "      <td>870384061</td>\n",
       "      <td>2020-10-14</td>\n",
       "      <td>2020-10-16</td>\n",
       "      <td>2.0</td>\n",
       "      <td>2020-10-14</td>\n",
       "      <td>2020-10-14</td>\n",
       "      <td>0.151908</td>\n",
       "      <td>1</td>\n",
       "    </tr>\n",
       "  </tbody>\n",
       "</table>\n",
       "<p>700 rows × 8 columns</p>\n",
       "</div>"
      ],
      "text/plain": [
       "         user_id reg_time_x last_session  cohort_lifetime  reg_time_y  \\\n",
       "52     604432493 2020-10-09   2020-10-18              9.0  2020-10-09   \n",
       "53     604432493 2020-10-09   2020-10-18              9.0  2020-10-09   \n",
       "54     604432493 2020-10-09   2020-10-18              9.0  2020-10-09   \n",
       "55     604432493 2020-10-09   2020-10-18              9.0  2020-10-09   \n",
       "56     604432493 2020-10-09   2020-10-18              9.0  2020-10-09   \n",
       "...          ...        ...          ...              ...         ...   \n",
       "31264  376434587 2020-10-12   2020-10-22             10.0  2020-10-12   \n",
       "31283  475501640 2020-10-14   2020-10-23              9.0  2020-10-14   \n",
       "31284  475501640 2020-10-14   2020-10-23              9.0  2020-10-14   \n",
       "31398  554225473 2020-10-13   2020-10-18              5.0  2020-10-13   \n",
       "31411  870384061 2020-10-14   2020-10-16              2.0  2020-10-14   \n",
       "\n",
       "       date(time)    amount  count  \n",
       "52     2020-10-10  0.151908      1  \n",
       "53     2020-10-10  0.304580      1  \n",
       "54     2020-10-13  0.304580      1  \n",
       "55     2020-10-13  0.304580      1  \n",
       "56     2020-10-14  0.304580      1  \n",
       "...           ...       ...    ...  \n",
       "31264  2020-10-12  1.525191      1  \n",
       "31283  2020-10-16  0.151908      1  \n",
       "31284  2020-10-20  1.144275      1  \n",
       "31398  2020-10-13  0.151908      1  \n",
       "31411  2020-10-14  0.151908      1  \n",
       "\n",
       "[700 rows x 8 columns]"
      ]
     },
     "execution_count": 142,
     "metadata": {},
     "output_type": "execute_result"
    }
   ],
   "source": [
    "RFM = pd.merge(retention, payment_RFM, on='user_id',  how = 'left')\n",
    "RFM['count']=1\n",
    "RFM.dropna()"
   ]
  },
  {
   "cell_type": "code",
   "execution_count": 147,
   "id": "9233f0a7",
   "metadata": {},
   "outputs": [
    {
     "data": {
      "text/html": [
       "<div>\n",
       "<style scoped>\n",
       "    .dataframe tbody tr th:only-of-type {\n",
       "        vertical-align: middle;\n",
       "    }\n",
       "\n",
       "    .dataframe tbody tr th {\n",
       "        vertical-align: top;\n",
       "    }\n",
       "\n",
       "    .dataframe thead th {\n",
       "        text-align: right;\n",
       "    }\n",
       "</style>\n",
       "<table border=\"1\" class=\"dataframe\">\n",
       "  <thead>\n",
       "    <tr style=\"text-align: right;\">\n",
       "      <th></th>\n",
       "      <th>user_id</th>\n",
       "      <th>last_session</th>\n",
       "      <th>amount</th>\n",
       "      <th>count</th>\n",
       "    </tr>\n",
       "  </thead>\n",
       "  <tbody>\n",
       "    <tr>\n",
       "      <th>52</th>\n",
       "      <td>604432493</td>\n",
       "      <td>2020-10-18</td>\n",
       "      <td>0.151908</td>\n",
       "      <td>1</td>\n",
       "    </tr>\n",
       "    <tr>\n",
       "      <th>53</th>\n",
       "      <td>604432493</td>\n",
       "      <td>2020-10-18</td>\n",
       "      <td>0.304580</td>\n",
       "      <td>1</td>\n",
       "    </tr>\n",
       "    <tr>\n",
       "      <th>54</th>\n",
       "      <td>604432493</td>\n",
       "      <td>2020-10-18</td>\n",
       "      <td>0.304580</td>\n",
       "      <td>1</td>\n",
       "    </tr>\n",
       "    <tr>\n",
       "      <th>55</th>\n",
       "      <td>604432493</td>\n",
       "      <td>2020-10-18</td>\n",
       "      <td>0.304580</td>\n",
       "      <td>1</td>\n",
       "    </tr>\n",
       "    <tr>\n",
       "      <th>56</th>\n",
       "      <td>604432493</td>\n",
       "      <td>2020-10-18</td>\n",
       "      <td>0.304580</td>\n",
       "      <td>1</td>\n",
       "    </tr>\n",
       "    <tr>\n",
       "      <th>...</th>\n",
       "      <td>...</td>\n",
       "      <td>...</td>\n",
       "      <td>...</td>\n",
       "      <td>...</td>\n",
       "    </tr>\n",
       "    <tr>\n",
       "      <th>31264</th>\n",
       "      <td>376434587</td>\n",
       "      <td>2020-10-22</td>\n",
       "      <td>1.525191</td>\n",
       "      <td>1</td>\n",
       "    </tr>\n",
       "    <tr>\n",
       "      <th>31283</th>\n",
       "      <td>475501640</td>\n",
       "      <td>2020-10-23</td>\n",
       "      <td>0.151908</td>\n",
       "      <td>1</td>\n",
       "    </tr>\n",
       "    <tr>\n",
       "      <th>31284</th>\n",
       "      <td>475501640</td>\n",
       "      <td>2020-10-23</td>\n",
       "      <td>1.144275</td>\n",
       "      <td>1</td>\n",
       "    </tr>\n",
       "    <tr>\n",
       "      <th>31398</th>\n",
       "      <td>554225473</td>\n",
       "      <td>2020-10-18</td>\n",
       "      <td>0.151908</td>\n",
       "      <td>1</td>\n",
       "    </tr>\n",
       "    <tr>\n",
       "      <th>31411</th>\n",
       "      <td>870384061</td>\n",
       "      <td>2020-10-16</td>\n",
       "      <td>0.151908</td>\n",
       "      <td>1</td>\n",
       "    </tr>\n",
       "  </tbody>\n",
       "</table>\n",
       "<p>700 rows × 4 columns</p>\n",
       "</div>"
      ],
      "text/plain": [
       "         user_id last_session    amount  count\n",
       "52     604432493   2020-10-18  0.151908      1\n",
       "53     604432493   2020-10-18  0.304580      1\n",
       "54     604432493   2020-10-18  0.304580      1\n",
       "55     604432493   2020-10-18  0.304580      1\n",
       "56     604432493   2020-10-18  0.304580      1\n",
       "...          ...          ...       ...    ...\n",
       "31264  376434587   2020-10-22  1.525191      1\n",
       "31283  475501640   2020-10-23  0.151908      1\n",
       "31284  475501640   2020-10-23  1.144275      1\n",
       "31398  554225473   2020-10-18  0.151908      1\n",
       "31411  870384061   2020-10-16  0.151908      1\n",
       "\n",
       "[700 rows x 4 columns]"
      ]
     },
     "execution_count": 147,
     "metadata": {},
     "output_type": "execute_result"
    }
   ],
   "source": [
    "RFM_1=RFM[['user_id', 'last_session', 'amount', 'count']].dropna()\n",
    "RFM_1"
   ]
  },
  {
   "cell_type": "code",
   "execution_count": null,
   "id": "4aeb9319",
   "metadata": {},
   "outputs": [],
   "source": []
  },
  {
   "cell_type": "code",
   "execution_count": 149,
   "id": "deabb0f5",
   "metadata": {},
   "outputs": [],
   "source": [
    "last_date = RFM_1['last_session'].max()\n",
    "rfmTable = RFM_1.reset_index().groupby('user_id').agg({'last_session': lambda x: (last_date - x.max()).days,\n",
    "                                                 'count': lambda x: x.sum(), \n",
    "                                                 'amount': lambda x: x.sum()})\n",
    "rfmTable.rename(columns={'last_session': 'Recency', \n",
    "                          'count': 'Frequency', \n",
    "                          'amount': 'Monetary'}, inplace=True)"
   ]
  },
  {
   "cell_type": "code",
   "execution_count": 150,
   "id": "2886f148",
   "metadata": {},
   "outputs": [
    {
     "data": {
      "text/html": [
       "<div>\n",
       "<style scoped>\n",
       "    .dataframe tbody tr th:only-of-type {\n",
       "        vertical-align: middle;\n",
       "    }\n",
       "\n",
       "    .dataframe tbody tr th {\n",
       "        vertical-align: top;\n",
       "    }\n",
       "\n",
       "    .dataframe thead th {\n",
       "        text-align: right;\n",
       "    }\n",
       "</style>\n",
       "<table border=\"1\" class=\"dataframe\">\n",
       "  <thead>\n",
       "    <tr style=\"text-align: right;\">\n",
       "      <th></th>\n",
       "      <th>Recency</th>\n",
       "      <th>Frequency</th>\n",
       "      <th>Monetary</th>\n",
       "    </tr>\n",
       "    <tr>\n",
       "      <th>user_id</th>\n",
       "      <th></th>\n",
       "      <th></th>\n",
       "      <th></th>\n",
       "    </tr>\n",
       "  </thead>\n",
       "  <tbody>\n",
       "    <tr>\n",
       "      <th>108116306</th>\n",
       "      <td>5</td>\n",
       "      <td>1</td>\n",
       "      <td>0.151908</td>\n",
       "    </tr>\n",
       "    <tr>\n",
       "      <th>110213686</th>\n",
       "      <td>7</td>\n",
       "      <td>3</td>\n",
       "      <td>5.264885</td>\n",
       "    </tr>\n",
       "    <tr>\n",
       "      <th>112803920</th>\n",
       "      <td>0</td>\n",
       "      <td>1</td>\n",
       "      <td>0.151908</td>\n",
       "    </tr>\n",
       "    <tr>\n",
       "      <th>114018293</th>\n",
       "      <td>4</td>\n",
       "      <td>1</td>\n",
       "      <td>0.151908</td>\n",
       "    </tr>\n",
       "    <tr>\n",
       "      <th>114229803</th>\n",
       "      <td>4</td>\n",
       "      <td>1</td>\n",
       "      <td>0.075573</td>\n",
       "    </tr>\n",
       "    <tr>\n",
       "      <th>...</th>\n",
       "      <td>...</td>\n",
       "      <td>...</td>\n",
       "      <td>...</td>\n",
       "    </tr>\n",
       "    <tr>\n",
       "      <th>986042773</th>\n",
       "      <td>0</td>\n",
       "      <td>1</td>\n",
       "      <td>0.304580</td>\n",
       "    </tr>\n",
       "    <tr>\n",
       "      <th>987375864</th>\n",
       "      <td>4</td>\n",
       "      <td>1</td>\n",
       "      <td>0.075573</td>\n",
       "    </tr>\n",
       "    <tr>\n",
       "      <th>993353406</th>\n",
       "      <td>4</td>\n",
       "      <td>2</td>\n",
       "      <td>0.609160</td>\n",
       "    </tr>\n",
       "    <tr>\n",
       "      <th>993799116</th>\n",
       "      <td>9</td>\n",
       "      <td>1</td>\n",
       "      <td>0.075573</td>\n",
       "    </tr>\n",
       "    <tr>\n",
       "      <th>997721742</th>\n",
       "      <td>2</td>\n",
       "      <td>1</td>\n",
       "      <td>0.151908</td>\n",
       "    </tr>\n",
       "  </tbody>\n",
       "</table>\n",
       "<p>313 rows × 3 columns</p>\n",
       "</div>"
      ],
      "text/plain": [
       "           Recency  Frequency  Monetary\n",
       "user_id                                \n",
       "108116306        5          1  0.151908\n",
       "110213686        7          3  5.264885\n",
       "112803920        0          1  0.151908\n",
       "114018293        4          1  0.151908\n",
       "114229803        4          1  0.075573\n",
       "...            ...        ...       ...\n",
       "986042773        0          1  0.304580\n",
       "987375864        4          1  0.075573\n",
       "993353406        4          2  0.609160\n",
       "993799116        9          1  0.075573\n",
       "997721742        2          1  0.151908\n",
       "\n",
       "[313 rows x 3 columns]"
      ]
     },
     "execution_count": 150,
     "metadata": {},
     "output_type": "execute_result"
    }
   ],
   "source": [
    "rfmTable"
   ]
  },
  {
   "cell_type": "code",
   "execution_count": 151,
   "id": "e6a0b74d",
   "metadata": {},
   "outputs": [
    {
     "data": {
      "text/html": [
       "<div>\n",
       "<style scoped>\n",
       "    .dataframe tbody tr th:only-of-type {\n",
       "        vertical-align: middle;\n",
       "    }\n",
       "\n",
       "    .dataframe tbody tr th {\n",
       "        vertical-align: top;\n",
       "    }\n",
       "\n",
       "    .dataframe thead th {\n",
       "        text-align: right;\n",
       "    }\n",
       "</style>\n",
       "<table border=\"1\" class=\"dataframe\">\n",
       "  <thead>\n",
       "    <tr style=\"text-align: right;\">\n",
       "      <th></th>\n",
       "      <th>Recency</th>\n",
       "      <th>Frequency</th>\n",
       "      <th>Monetary</th>\n",
       "    </tr>\n",
       "  </thead>\n",
       "  <tbody>\n",
       "    <tr>\n",
       "      <th>0.25</th>\n",
       "      <td>2.0</td>\n",
       "      <td>1.0</td>\n",
       "      <td>0.151908</td>\n",
       "    </tr>\n",
       "    <tr>\n",
       "      <th>0.50</th>\n",
       "      <td>4.0</td>\n",
       "      <td>1.0</td>\n",
       "      <td>0.304580</td>\n",
       "    </tr>\n",
       "    <tr>\n",
       "      <th>0.75</th>\n",
       "      <td>7.0</td>\n",
       "      <td>2.0</td>\n",
       "      <td>1.065649</td>\n",
       "    </tr>\n",
       "  </tbody>\n",
       "</table>\n",
       "</div>"
      ],
      "text/plain": [
       "      Recency  Frequency  Monetary\n",
       "0.25      2.0        1.0  0.151908\n",
       "0.50      4.0        1.0  0.304580\n",
       "0.75      7.0        2.0  1.065649"
      ]
     },
     "execution_count": 151,
     "metadata": {},
     "output_type": "execute_result"
    }
   ],
   "source": [
    "quantiles = rfmTable.quantile(q=[0.25,0.5,0.75])\n",
    "quantiles"
   ]
  },
  {
   "cell_type": "code",
   "execution_count": 153,
   "id": "59069309",
   "metadata": {},
   "outputs": [
    {
     "data": {
      "text/plain": [
       "{'Recency': {0.25: 2.0, 0.5: 4.0, 0.75: 7.0},\n",
       " 'Frequency': {0.25: 1.0, 0.5: 1.0, 0.75: 2.0},\n",
       " 'Monetary': {0.25: 0.15190839694656488,\n",
       "  0.5: 0.30458015267175576,\n",
       "  0.75: 1.0656488549618321}}"
      ]
     },
     "execution_count": 153,
     "metadata": {},
     "output_type": "execute_result"
    }
   ],
   "source": [
    "quantiles.to_dict()"
   ]
  },
  {
   "cell_type": "code",
   "execution_count": 154,
   "id": "02e6cdb4",
   "metadata": {},
   "outputs": [],
   "source": [
    "def RScore(x,p,d):\n",
    "    if x <= d[p][0.25]:\n",
    "        return 4\n",
    "    elif x <= d[p][0.50]:\n",
    "        return 3\n",
    "    elif x <= d[p][0.75]: \n",
    "        return 2\n",
    "    else:\n",
    "        return 1\n",
    "# Arguments (x = value, p = recency, monetary_value, frequency, k = quartiles dict)\n",
    "def FMScore(x,p,d):\n",
    "    if x <= d[p][0.25]:\n",
    "        return 1\n",
    "    elif x <= d[p][0.50]:\n",
    "        return 2\n",
    "    elif x <= d[p][0.75]: \n",
    "        return 3\n",
    "    else:\n",
    "        return 4"
   ]
  },
  {
   "cell_type": "code",
   "execution_count": 155,
   "id": "23c558f9",
   "metadata": {},
   "outputs": [],
   "source": [
    "rfm_segmentation = rfmTable\n",
    "rfm_segmentation['R_Quartile'] = rfm_segmentation['Recency'].apply(RScore, args=('Recency',quantiles,))\n",
    "rfm_segmentation['F_Quartile'] = rfm_segmentation['Frequency'].apply(FMScore, args=('Frequency',quantiles,))\n",
    "rfm_segmentation['M_Quartile'] = rfm_segmentation['Monetary'].apply(FMScore, args=('Monetary',quantiles,))"
   ]
  },
  {
   "cell_type": "code",
   "execution_count": 156,
   "id": "d060002b",
   "metadata": {},
   "outputs": [
    {
     "data": {
      "text/html": [
       "<div>\n",
       "<style scoped>\n",
       "    .dataframe tbody tr th:only-of-type {\n",
       "        vertical-align: middle;\n",
       "    }\n",
       "\n",
       "    .dataframe tbody tr th {\n",
       "        vertical-align: top;\n",
       "    }\n",
       "\n",
       "    .dataframe thead th {\n",
       "        text-align: right;\n",
       "    }\n",
       "</style>\n",
       "<table border=\"1\" class=\"dataframe\">\n",
       "  <thead>\n",
       "    <tr style=\"text-align: right;\">\n",
       "      <th></th>\n",
       "      <th>Recency</th>\n",
       "      <th>Frequency</th>\n",
       "      <th>Monetary</th>\n",
       "      <th>R_Quartile</th>\n",
       "      <th>F_Quartile</th>\n",
       "      <th>M_Quartile</th>\n",
       "    </tr>\n",
       "    <tr>\n",
       "      <th>user_id</th>\n",
       "      <th></th>\n",
       "      <th></th>\n",
       "      <th></th>\n",
       "      <th></th>\n",
       "      <th></th>\n",
       "      <th></th>\n",
       "    </tr>\n",
       "  </thead>\n",
       "  <tbody>\n",
       "    <tr>\n",
       "      <th>108116306</th>\n",
       "      <td>5</td>\n",
       "      <td>1</td>\n",
       "      <td>0.151908</td>\n",
       "      <td>2</td>\n",
       "      <td>1</td>\n",
       "      <td>1</td>\n",
       "    </tr>\n",
       "    <tr>\n",
       "      <th>110213686</th>\n",
       "      <td>7</td>\n",
       "      <td>3</td>\n",
       "      <td>5.264885</td>\n",
       "      <td>2</td>\n",
       "      <td>4</td>\n",
       "      <td>4</td>\n",
       "    </tr>\n",
       "    <tr>\n",
       "      <th>112803920</th>\n",
       "      <td>0</td>\n",
       "      <td>1</td>\n",
       "      <td>0.151908</td>\n",
       "      <td>4</td>\n",
       "      <td>1</td>\n",
       "      <td>1</td>\n",
       "    </tr>\n",
       "    <tr>\n",
       "      <th>114018293</th>\n",
       "      <td>4</td>\n",
       "      <td>1</td>\n",
       "      <td>0.151908</td>\n",
       "      <td>3</td>\n",
       "      <td>1</td>\n",
       "      <td>1</td>\n",
       "    </tr>\n",
       "    <tr>\n",
       "      <th>114229803</th>\n",
       "      <td>4</td>\n",
       "      <td>1</td>\n",
       "      <td>0.075573</td>\n",
       "      <td>3</td>\n",
       "      <td>1</td>\n",
       "      <td>1</td>\n",
       "    </tr>\n",
       "    <tr>\n",
       "      <th>...</th>\n",
       "      <td>...</td>\n",
       "      <td>...</td>\n",
       "      <td>...</td>\n",
       "      <td>...</td>\n",
       "      <td>...</td>\n",
       "      <td>...</td>\n",
       "    </tr>\n",
       "    <tr>\n",
       "      <th>986042773</th>\n",
       "      <td>0</td>\n",
       "      <td>1</td>\n",
       "      <td>0.304580</td>\n",
       "      <td>4</td>\n",
       "      <td>1</td>\n",
       "      <td>2</td>\n",
       "    </tr>\n",
       "    <tr>\n",
       "      <th>987375864</th>\n",
       "      <td>4</td>\n",
       "      <td>1</td>\n",
       "      <td>0.075573</td>\n",
       "      <td>3</td>\n",
       "      <td>1</td>\n",
       "      <td>1</td>\n",
       "    </tr>\n",
       "    <tr>\n",
       "      <th>993353406</th>\n",
       "      <td>4</td>\n",
       "      <td>2</td>\n",
       "      <td>0.609160</td>\n",
       "      <td>3</td>\n",
       "      <td>3</td>\n",
       "      <td>3</td>\n",
       "    </tr>\n",
       "    <tr>\n",
       "      <th>993799116</th>\n",
       "      <td>9</td>\n",
       "      <td>1</td>\n",
       "      <td>0.075573</td>\n",
       "      <td>1</td>\n",
       "      <td>1</td>\n",
       "      <td>1</td>\n",
       "    </tr>\n",
       "    <tr>\n",
       "      <th>997721742</th>\n",
       "      <td>2</td>\n",
       "      <td>1</td>\n",
       "      <td>0.151908</td>\n",
       "      <td>4</td>\n",
       "      <td>1</td>\n",
       "      <td>1</td>\n",
       "    </tr>\n",
       "  </tbody>\n",
       "</table>\n",
       "<p>313 rows × 6 columns</p>\n",
       "</div>"
      ],
      "text/plain": [
       "           Recency  Frequency  Monetary  R_Quartile  F_Quartile  M_Quartile\n",
       "user_id                                                                    \n",
       "108116306        5          1  0.151908           2           1           1\n",
       "110213686        7          3  5.264885           2           4           4\n",
       "112803920        0          1  0.151908           4           1           1\n",
       "114018293        4          1  0.151908           3           1           1\n",
       "114229803        4          1  0.075573           3           1           1\n",
       "...            ...        ...       ...         ...         ...         ...\n",
       "986042773        0          1  0.304580           4           1           2\n",
       "987375864        4          1  0.075573           3           1           1\n",
       "993353406        4          2  0.609160           3           3           3\n",
       "993799116        9          1  0.075573           1           1           1\n",
       "997721742        2          1  0.151908           4           1           1\n",
       "\n",
       "[313 rows x 6 columns]"
      ]
     },
     "execution_count": 156,
     "metadata": {},
     "output_type": "execute_result"
    }
   ],
   "source": [
    "rfm_segmentation"
   ]
  },
  {
   "cell_type": "code",
   "execution_count": 157,
   "id": "a1ee1188",
   "metadata": {},
   "outputs": [
    {
     "data": {
      "text/html": [
       "<div>\n",
       "<style scoped>\n",
       "    .dataframe tbody tr th:only-of-type {\n",
       "        vertical-align: middle;\n",
       "    }\n",
       "\n",
       "    .dataframe tbody tr th {\n",
       "        vertical-align: top;\n",
       "    }\n",
       "\n",
       "    .dataframe thead th {\n",
       "        text-align: right;\n",
       "    }\n",
       "</style>\n",
       "<table border=\"1\" class=\"dataframe\">\n",
       "  <thead>\n",
       "    <tr style=\"text-align: right;\">\n",
       "      <th></th>\n",
       "      <th>Recency</th>\n",
       "      <th>Frequency</th>\n",
       "      <th>Monetary</th>\n",
       "      <th>R_Quartile</th>\n",
       "      <th>F_Quartile</th>\n",
       "      <th>M_Quartile</th>\n",
       "      <th>RFMScore</th>\n",
       "    </tr>\n",
       "    <tr>\n",
       "      <th>user_id</th>\n",
       "      <th></th>\n",
       "      <th></th>\n",
       "      <th></th>\n",
       "      <th></th>\n",
       "      <th></th>\n",
       "      <th></th>\n",
       "      <th></th>\n",
       "    </tr>\n",
       "  </thead>\n",
       "  <tbody>\n",
       "    <tr>\n",
       "      <th>108116306</th>\n",
       "      <td>5</td>\n",
       "      <td>1</td>\n",
       "      <td>0.151908</td>\n",
       "      <td>2</td>\n",
       "      <td>1</td>\n",
       "      <td>1</td>\n",
       "      <td>211</td>\n",
       "    </tr>\n",
       "    <tr>\n",
       "      <th>110213686</th>\n",
       "      <td>7</td>\n",
       "      <td>3</td>\n",
       "      <td>5.264885</td>\n",
       "      <td>2</td>\n",
       "      <td>4</td>\n",
       "      <td>4</td>\n",
       "      <td>244</td>\n",
       "    </tr>\n",
       "    <tr>\n",
       "      <th>112803920</th>\n",
       "      <td>0</td>\n",
       "      <td>1</td>\n",
       "      <td>0.151908</td>\n",
       "      <td>4</td>\n",
       "      <td>1</td>\n",
       "      <td>1</td>\n",
       "      <td>411</td>\n",
       "    </tr>\n",
       "    <tr>\n",
       "      <th>114018293</th>\n",
       "      <td>4</td>\n",
       "      <td>1</td>\n",
       "      <td>0.151908</td>\n",
       "      <td>3</td>\n",
       "      <td>1</td>\n",
       "      <td>1</td>\n",
       "      <td>311</td>\n",
       "    </tr>\n",
       "    <tr>\n",
       "      <th>114229803</th>\n",
       "      <td>4</td>\n",
       "      <td>1</td>\n",
       "      <td>0.075573</td>\n",
       "      <td>3</td>\n",
       "      <td>1</td>\n",
       "      <td>1</td>\n",
       "      <td>311</td>\n",
       "    </tr>\n",
       "  </tbody>\n",
       "</table>\n",
       "</div>"
      ],
      "text/plain": [
       "           Recency  Frequency  Monetary  R_Quartile  F_Quartile  M_Quartile  \\\n",
       "user_id                                                                       \n",
       "108116306        5          1  0.151908           2           1           1   \n",
       "110213686        7          3  5.264885           2           4           4   \n",
       "112803920        0          1  0.151908           4           1           1   \n",
       "114018293        4          1  0.151908           3           1           1   \n",
       "114229803        4          1  0.075573           3           1           1   \n",
       "\n",
       "          RFMScore  \n",
       "user_id             \n",
       "108116306      211  \n",
       "110213686      244  \n",
       "112803920      411  \n",
       "114018293      311  \n",
       "114229803      311  "
      ]
     },
     "execution_count": 157,
     "metadata": {},
     "output_type": "execute_result"
    }
   ],
   "source": [
    "rfm_segmentation['RFMScore'] = rfm_segmentation.R_Quartile.map(str) \\\n",
    "                            + rfm_segmentation.F_Quartile.map(str) \\\n",
    "                            + rfm_segmentation.M_Quartile.map(str)\n",
    "rfm_segmentation.head()"
   ]
  },
  {
   "cell_type": "code",
   "execution_count": null,
   "id": "fe632c3d",
   "metadata": {},
   "outputs": [],
   "source": []
  },
  {
   "cell_type": "code",
   "execution_count": 158,
   "id": "07d031af",
   "metadata": {},
   "outputs": [
    {
     "data": {
      "image/png": "[encoded data removed]",
      "text/plain": [
       "<Figure size 1440x1280 with 1 Axes>"
      ]
     },
     "metadata": {},
     "output_type": "display_data"
    }
   ],
   "source": [
    "fig=plt.figure(figsize=(18, 16), dpi= 80, facecolor='w', edgecolor='k')\n",
    "rfm_segmentation.groupby('RFMScore').agg('Recency').count().plot(kind='bar', colormap='Blues_r')\n",
    "plt.show()"
   ]
  },
  {
   "cell_type": "code",
   "execution_count": 160,
   "id": "9f510704",
   "metadata": {},
   "outputs": [
    {
     "name": "stdout",
     "output_type": "stream",
     "text": [
      "Best Customers:  22\n",
      "Loyal Customers:  70\n",
      "Big Spenders:  72\n",
      "Almost Lost:  14\n",
      "Lost Customers:  7\n",
      "Lost Cheap Customers:  32\n"
     ]
    }
   ],
   "source": [
    "print(\"Best Customers: \",len(rfm_segmentation[rfm_segmentation['RFMScore']=='444']))\n",
    "print('Loyal Customers: ',len(rfm_segmentation[rfm_segmentation['F_Quartile']==4]))\n",
    "print(\"Big Spenders: \",len(rfm_segmentation[rfm_segmentation['M_Quartile']==4]))\n",
    "print('Almost Lost: ', len(rfm_segmentation[rfm_segmentation['RFMScore']=='244']))\n",
    "print('Lost Customers: ',len(rfm_segmentation[rfm_segmentation['RFMScore']=='144']))\n",
    "print('Lost Cheap Customers: ',len(rfm_segmentation[rfm_segmentation['RFMScore']=='111']))"
   ]
  },
  {
   "cell_type": "code",
   "execution_count": null,
   "id": "11897e8d",
   "metadata": {},
   "outputs": [],
   "source": [
    "По результатам проведенного анализа выявлено :\n",
    "    -22 лучших клиента \n",
    "    -70 постоянных клиентов\n",
    "    -72 крупных покупателя\n",
    "    -14 почти потерянных клиентов\n",
    "    -7 крупных потерянных клиентов\n",
    "    -32 мелких потерянных клиентов"
   ]
  }
 ],
 "metadata": {
  "colab": {
   "provenance": []
  },
  "kernelspec": {
   "display_name": "Python 3 (ipykernel)",
   "language": "python",
   "name": "python3"
  },
  "language_info": {
   "codemirror_mode": {
    "name": "ipython",
    "version": 3
   },
   "file_extension": ".py",
   "mimetype": "text/x-python",
   "name": "python",
   "nbconvert_exporter": "python",
   "pygments_lexer": "ipython3",
   "version": "3.9.12"
  }
 },
 "nbformat": 4,
 "nbformat_minor": 5
}
